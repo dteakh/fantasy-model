{
 "cells": [
  {
   "cell_type": "code",
   "execution_count": 1,
   "metadata": {
    "collapsed": true
   },
   "outputs": [],
   "source": [
    "import fantasy as fp\n",
    "# noinspection PyUnresolvedReferences\n",
    "from fantasyalgo import best_subset\n",
    "import datetime as dt\n",
    "import numpy as np\n",
    "from matplotlib import pyplot as plt\n",
    "import seaborn as sns\n",
    "import pandas as pd"
   ]
  },
  {
   "cell_type": "code",
   "execution_count": 11,
   "outputs": [],
   "source": [
    "data = pd.read_excel('18-01-2023.xlsx', index_col=0)"
   ],
   "metadata": {
    "collapsed": false
   }
  },
  {
   "cell_type": "code",
   "execution_count": 12,
   "outputs": [
    {
     "data": {
      "text/plain": "(4184, 6)"
     },
     "execution_count": 12,
     "metadata": {},
     "output_type": "execute_result"
    }
   ],
   "source": [
    "data.shape"
   ],
   "metadata": {
    "collapsed": false
   }
  },
  {
   "cell_type": "code",
   "execution_count": 13,
   "outputs": [
    {
     "data": {
      "text/plain": "(3965, 6)"
     },
     "execution_count": 13,
     "metadata": {},
     "output_type": "execute_result"
    }
   ],
   "source": [
    "data = data.loc[~data['event'].str.contains(\"ESL Pro League\")]\n",
    "data.shape"
   ],
   "metadata": {
    "collapsed": false
   }
  },
  {
   "cell_type": "code",
   "execution_count": 14,
   "outputs": [
    {
     "data": {
      "text/plain": "     player                                event   avg rank  \\\n0  karrigan                      IEM Dallas 2022  15.812000   \n1  karrigan               PGL Major Antwerp 2022  11.250000   \n2  karrigan     BLAST Premier Spring Groups 2022  33.272999   \n3  karrigan      BLAST Premier Spring Final 2022  10.500000   \n4  karrigan       BLAST Premier Fall Groups 2022  29.083000   \n5  karrigan            IEM Katowice 2022 Play-In  21.000000   \n6  karrigan        BLAST Premier Fall Final 2022  11.750000   \n7  karrigan       BLAST Premier World Final 2022   7.125000   \n8  karrigan                      Roobet Cup 2022  17.125000   \n9  karrigan  PGL Major Antwerp 2022 Europe RMR A  29.750000   \n\n   all events rating  big events rating  pts  \n0               0.91               0.89  -49  \n1               0.91               0.89   67  \n2               0.91               0.89  -46  \n3               0.91               0.89  -34  \n4               0.91               0.89  -50  \n5               0.91               0.89   -1  \n6               0.91               0.89    3  \n7               0.91               0.89  -43  \n8               0.91               0.89  -34  \n9               0.91               0.89   28  ",
      "text/html": "<div>\n<style scoped>\n    .dataframe tbody tr th:only-of-type {\n        vertical-align: middle;\n    }\n\n    .dataframe tbody tr th {\n        vertical-align: top;\n    }\n\n    .dataframe thead th {\n        text-align: right;\n    }\n</style>\n<table border=\"1\" class=\"dataframe\">\n  <thead>\n    <tr style=\"text-align: right;\">\n      <th></th>\n      <th>player</th>\n      <th>event</th>\n      <th>avg rank</th>\n      <th>all events rating</th>\n      <th>big events rating</th>\n      <th>pts</th>\n    </tr>\n  </thead>\n  <tbody>\n    <tr>\n      <th>0</th>\n      <td>karrigan</td>\n      <td>IEM Dallas 2022</td>\n      <td>15.812000</td>\n      <td>0.91</td>\n      <td>0.89</td>\n      <td>-49</td>\n    </tr>\n    <tr>\n      <th>1</th>\n      <td>karrigan</td>\n      <td>PGL Major Antwerp 2022</td>\n      <td>11.250000</td>\n      <td>0.91</td>\n      <td>0.89</td>\n      <td>67</td>\n    </tr>\n    <tr>\n      <th>2</th>\n      <td>karrigan</td>\n      <td>BLAST Premier Spring Groups 2022</td>\n      <td>33.272999</td>\n      <td>0.91</td>\n      <td>0.89</td>\n      <td>-46</td>\n    </tr>\n    <tr>\n      <th>3</th>\n      <td>karrigan</td>\n      <td>BLAST Premier Spring Final 2022</td>\n      <td>10.500000</td>\n      <td>0.91</td>\n      <td>0.89</td>\n      <td>-34</td>\n    </tr>\n    <tr>\n      <th>4</th>\n      <td>karrigan</td>\n      <td>BLAST Premier Fall Groups 2022</td>\n      <td>29.083000</td>\n      <td>0.91</td>\n      <td>0.89</td>\n      <td>-50</td>\n    </tr>\n    <tr>\n      <th>5</th>\n      <td>karrigan</td>\n      <td>IEM Katowice 2022 Play-In</td>\n      <td>21.000000</td>\n      <td>0.91</td>\n      <td>0.89</td>\n      <td>-1</td>\n    </tr>\n    <tr>\n      <th>6</th>\n      <td>karrigan</td>\n      <td>BLAST Premier Fall Final 2022</td>\n      <td>11.750000</td>\n      <td>0.91</td>\n      <td>0.89</td>\n      <td>3</td>\n    </tr>\n    <tr>\n      <th>7</th>\n      <td>karrigan</td>\n      <td>BLAST Premier World Final 2022</td>\n      <td>7.125000</td>\n      <td>0.91</td>\n      <td>0.89</td>\n      <td>-43</td>\n    </tr>\n    <tr>\n      <th>8</th>\n      <td>karrigan</td>\n      <td>Roobet Cup 2022</td>\n      <td>17.125000</td>\n      <td>0.91</td>\n      <td>0.89</td>\n      <td>-34</td>\n    </tr>\n    <tr>\n      <th>9</th>\n      <td>karrigan</td>\n      <td>PGL Major Antwerp 2022 Europe RMR A</td>\n      <td>29.750000</td>\n      <td>0.91</td>\n      <td>0.89</td>\n      <td>28</td>\n    </tr>\n  </tbody>\n</table>\n</div>"
     },
     "execution_count": 14,
     "metadata": {},
     "output_type": "execute_result"
    }
   ],
   "source": [
    "data.head(10)"
   ],
   "metadata": {
    "collapsed": false
   }
  },
  {
   "cell_type": "code",
   "execution_count": 15,
   "outputs": [
    {
     "data": {
      "text/plain": "<Figure size 576x432 with 2 Axes>",
      "image/png": "[encoded data removed]"
     },
     "metadata": {},
     "output_type": "display_data"
    }
   ],
   "source": [
    "plt.figure(figsize=(8, 6))\n",
    "sns.heatmap(data.corr(method='spearman'), annot=True, annot_kws={\"fontsize\":8}, fmt=\".1f\");"
   ],
   "metadata": {
    "collapsed": false
   }
  },
  {
   "cell_type": "code",
   "execution_count": 32,
   "outputs": [],
   "source": [
    "set_first = data.drop(columns=['big events rating', 'player', 'avg rank', 'event', 'pts']).to_numpy()\n",
    "pts = data['pts'].to_numpy()"
   ],
   "metadata": {
    "collapsed": false
   }
  },
  {
   "cell_type": "code",
   "execution_count": 20,
   "outputs": [
    {
     "data": {
      "text/plain": "60"
     },
     "execution_count": 20,
     "metadata": {},
     "output_type": "execute_result"
    }
   ],
   "source": [
    "event = fp.Event(6970)\n",
    "players = event.get_players()\n",
    "len(players)"
   ],
   "metadata": {
    "collapsed": false
   }
  },
  {
   "cell_type": "code",
   "execution_count": 22,
   "outputs": [
    {
     "data": {
      "text/plain": "55"
     },
     "execution_count": 22,
     "metadata": {},
     "output_type": "execute_result"
    }
   ],
   "source": [
    "costs_data = event.get_costs(\"costs_data.html\")\n",
    "len(costs_data)"
   ],
   "metadata": {
    "collapsed": false
   }
  },
  {
   "cell_type": "code",
   "execution_count": 23,
   "outputs": [
    {
     "name": "stdout",
     "output_type": "stream",
     "text": [
      "hunter-\n"
     ]
    }
   ],
   "source": [
    "for p in players:\n",
    "    if p.name not in list(costs_data.keys()):\n",
    "        name = f\"{p.name}-\"\n",
    "        if name in list(costs_data.keys()):\n",
    "            p.name = name\n",
    "            print(p.name)"
   ],
   "metadata": {
    "collapsed": false
   }
  },
  {
   "cell_type": "code",
   "execution_count": 24,
   "outputs": [
    {
     "data": {
      "text/plain": "55"
     },
     "execution_count": 24,
     "metadata": {},
     "output_type": "execute_result"
    }
   ],
   "source": [
    "costs = []\n",
    "keys = list(costs_data.keys())\n",
    "not_found = []\n",
    "\n",
    "cnt = 0\n",
    "for p in players:\n",
    "    if p.name in keys:\n",
    "        costs.append(costs_data[p.name])\n",
    "    else:\n",
    "        not_found.append(cnt)\n",
    "    cnt += 1\n",
    "len(costs)"
   ],
   "metadata": {
    "collapsed": false
   }
  },
  {
   "cell_type": "code",
   "execution_count": 41,
   "outputs": [
    {
     "data": {
      "text/plain": "LinearRegression()",
      "text/html": "<style>#sk-container-id-3 {color: black;background-color: white;}#sk-container-id-3 pre{padding: 0;}#sk-container-id-3 div.sk-toggleable {background-color: white;}#sk-container-id-3 label.sk-toggleable__label {cursor: pointer;display: block;width: 100%;margin-bottom: 0;padding: 0.3em;box-sizing: border-box;text-align: center;}#sk-container-id-3 label.sk-toggleable__label-arrow:before {content: \"▸\";float: left;margin-right: 0.25em;color: #696969;}#sk-container-id-3 label.sk-toggleable__label-arrow:hover:before {color: black;}#sk-container-id-3 div.sk-estimator:hover label.sk-toggleable__label-arrow:before {color: black;}#sk-container-id-3 div.sk-toggleable__content {max-height: 0;max-width: 0;overflow: hidden;text-align: left;background-color: #f0f8ff;}#sk-container-id-3 div.sk-toggleable__content pre {margin: 0.2em;color: black;border-radius: 0.25em;background-color: #f0f8ff;}#sk-container-id-3 input.sk-toggleable__control:checked~div.sk-toggleable__content {max-height: 200px;max-width: 100%;overflow: auto;}#sk-container-id-3 input.sk-toggleable__control:checked~label.sk-toggleable__label-arrow:before {content: \"▾\";}#sk-container-id-3 div.sk-estimator input.sk-toggleable__control:checked~label.sk-toggleable__label {background-color: #d4ebff;}#sk-container-id-3 div.sk-label input.sk-toggleable__control:checked~label.sk-toggleable__label {background-color: #d4ebff;}#sk-container-id-3 input.sk-hidden--visually {border: 0;clip: rect(1px 1px 1px 1px);clip: rect(1px, 1px, 1px, 1px);height: 1px;margin: -1px;overflow: hidden;padding: 0;position: absolute;width: 1px;}#sk-container-id-3 div.sk-estimator {font-family: monospace;background-color: #f0f8ff;border: 1px dotted black;border-radius: 0.25em;box-sizing: border-box;margin-bottom: 0.5em;}#sk-container-id-3 div.sk-estimator:hover {background-color: #d4ebff;}#sk-container-id-3 div.sk-parallel-item::after {content: \"\";width: 100%;border-bottom: 1px solid gray;flex-grow: 1;}#sk-container-id-3 div.sk-label:hover label.sk-toggleable__label {background-color: #d4ebff;}#sk-container-id-3 div.sk-serial::before {content: \"\";position: absolute;border-left: 1px solid gray;box-sizing: border-box;top: 0;bottom: 0;left: 50%;z-index: 0;}#sk-container-id-3 div.sk-serial {display: flex;flex-direction: column;align-items: center;background-color: white;padding-right: 0.2em;padding-left: 0.2em;position: relative;}#sk-container-id-3 div.sk-item {position: relative;z-index: 1;}#sk-container-id-3 div.sk-parallel {display: flex;align-items: stretch;justify-content: center;background-color: white;position: relative;}#sk-container-id-3 div.sk-item::before, #sk-container-id-3 div.sk-parallel-item::before {content: \"\";position: absolute;border-left: 1px solid gray;box-sizing: border-box;top: 0;bottom: 0;left: 50%;z-index: -1;}#sk-container-id-3 div.sk-parallel-item {display: flex;flex-direction: column;z-index: 1;position: relative;background-color: white;}#sk-container-id-3 div.sk-parallel-item:first-child::after {align-self: flex-end;width: 50%;}#sk-container-id-3 div.sk-parallel-item:last-child::after {align-self: flex-start;width: 50%;}#sk-container-id-3 div.sk-parallel-item:only-child::after {width: 0;}#sk-container-id-3 div.sk-dashed-wrapped {border: 1px dashed gray;margin: 0 0.4em 0.5em 0.4em;box-sizing: border-box;padding-bottom: 0.4em;background-color: white;}#sk-container-id-3 div.sk-label label {font-family: monospace;font-weight: bold;display: inline-block;line-height: 1.2em;}#sk-container-id-3 div.sk-label-container {text-align: center;}#sk-container-id-3 div.sk-container {/* jupyter's `normalize.less` sets `[hidden] { display: none; }` but bootstrap.min.css set `[hidden] { display: none !important; }` so we also need the `!important` here to be able to override the default hidden behavior on the sphinx rendered scikit-learn.org. See: https://github.com/scikit-learn/scikit-learn/issues/21755 */display: inline-block !important;position: relative;}#sk-container-id-3 div.sk-text-repr-fallback {display: none;}</style><div id=\"sk-container-id-3\" class=\"sk-top-container\"><div class=\"sk-text-repr-fallback\"><pre>LinearRegression()</pre><b>In a Jupyter environment, please rerun this cell to show the HTML representation or trust the notebook. <br />On GitHub, the HTML representation is unable to render, please try loading this page with nbviewer.org.</b></div><div class=\"sk-container\" hidden><div class=\"sk-item\"><div class=\"sk-estimator sk-toggleable\"><input class=\"sk-toggleable__control sk-hidden--visually\" id=\"sk-estimator-id-3\" type=\"checkbox\" checked><label for=\"sk-estimator-id-3\" class=\"sk-toggleable__label sk-toggleable__label-arrow\">LinearRegression</label><div class=\"sk-toggleable__content\"><pre>LinearRegression()</pre></div></div></div></div></div>"
     },
     "execution_count": 41,
     "metadata": {},
     "output_type": "execute_result"
    }
   ],
   "source": [
    "from sklearn.linear_model import LinearRegression\n",
    "from sklearn.tree import DecisionTreeRegressor\n",
    "\n",
    "model = DecisionTreeRegressor(max_depth=1)\n",
    "model.fit(set_first, pts)"
   ],
   "metadata": {
    "collapsed": false
   }
  },
  {
   "cell_type": "code",
   "execution_count": 42,
   "outputs": [
    {
     "data": {
      "text/plain": "60"
     },
     "execution_count": 42,
     "metadata": {},
     "output_type": "execute_result"
    }
   ],
   "source": [
    "predicted = []\n",
    "rank = event.rank\n",
    "\n",
    "for p in players:\n",
    "    all_rating = p.get_stats(dt.date.today() - dt.timedelta(days=90), dt.date.today(), fp.EventFilter.ALL)\n",
    "    vector = np.array([[all_rating]])\n",
    "    predicted.append(float(model.predict(vector)[0]))\n",
    "len(predicted)"
   ],
   "metadata": {
    "collapsed": false
   }
  },
  {
   "cell_type": "code",
   "execution_count": 43,
   "outputs": [
    {
     "name": "stdout",
     "output_type": "stream",
     "text": [
      "55\n",
      "56\n",
      "57\n",
      "58\n",
      "59\n"
     ]
    }
   ],
   "source": [
    "cnt = 0\n",
    "names = list(costs_data.keys())\n",
    "\n",
    "\n",
    "for p in players:\n",
    "    if p.name not in names:\n",
    "        print(cnt)\n",
    "    cnt += 1"
   ],
   "metadata": {
    "collapsed": false
   }
  },
  {
   "cell_type": "code",
   "execution_count": 44,
   "outputs": [],
   "source": [
    "for _ in range(5):\n",
    "    predicted.pop(55)"
   ],
   "metadata": {
    "collapsed": false
   }
  },
  {
   "cell_type": "code",
   "execution_count": 45,
   "outputs": [
    {
     "data": {
      "text/plain": "55"
     },
     "execution_count": 45,
     "metadata": {},
     "output_type": "execute_result"
    }
   ],
   "source": [
    "len(predicted)"
   ],
   "metadata": {
    "collapsed": false
   }
  },
  {
   "cell_type": "code",
   "execution_count": 46,
   "outputs": [],
   "source": [
    "ss = best_subset(predicted, costs)"
   ],
   "metadata": {
    "collapsed": false
   }
  },
  {
   "cell_type": "code",
   "execution_count": 47,
   "outputs": [
    {
     "data": {
      "text/plain": "[20, 31, 33, 38, 51]"
     },
     "execution_count": 47,
     "metadata": {},
     "output_type": "execute_result"
    }
   ],
   "source": [
    "ss"
   ],
   "metadata": {
    "collapsed": false
   }
  },
  {
   "cell_type": "code",
   "execution_count": 48,
   "outputs": [
    {
     "name": "stdout",
     "output_type": "stream",
     "text": [
      "s1mple\n",
      "neofrag\n",
      "degster\n",
      "faven\n",
      "floppy\n"
     ]
    }
   ],
   "source": [
    "for i in ss:\n",
    "    print(players[i].name)"
   ],
   "metadata": {
    "collapsed": false
   }
  }
 ],
 "metadata": {
  "kernelspec": {
   "display_name": "Python 3",
   "language": "python",
   "name": "python3"
  },
  "language_info": {
   "codemirror_mode": {
    "name": "ipython",
    "version": 2
   },
   "file_extension": ".py",
   "mimetype": "text/x-python",
   "name": "python",
   "nbconvert_exporter": "python",
   "pygments_lexer": "ipython2",
   "version": "2.7.6"
  }
 },
 "nbformat": 4,
 "nbformat_minor": 0
}
