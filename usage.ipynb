{
 "cells": [
  {
   "cell_type": "code",
   "execution_count": null,
   "id": "0d10c2ad",
   "metadata": {},
   "outputs": [],
   "source": [
    "import fantasy as fp\n",
    "# noinspection PyUnresolvedReferences\n",
    "from fantasyalgo import best_subset\n",
    "import datetime as dt\n",
    "import numpy as np\n",
    "from matplotlib import pyplot as plt\n",
    "import seaborn as sns\n",
    "import pandas as pd"
   ]
  },
  {
   "cell_type": "code",
   "execution_count": null,
   "id": "7b26f886",
   "metadata": {},
   "outputs": [],
   "source": [
    "start = dt.date(2022, 1, 1)\n",
    "end = dt.date.today()\n",
    "delta = dt.timedelta(days=90)\n",
    "\n",
    "events = [6586, 6140, 6136, 6621, 6370]\n",
    "cur = 0\n",
    "\n",
    "dataframes = []\n",
    "used = []\n",
    "\n",
    "for key in events:\n",
    "\n",
    "    event = fp.Event(key)\n",
    "    players = event.get_players()\n",
    "\n",
    "    for p in players:\n",
    "        if p.key not in used:\n",
    "            used.append(p.key)\n",
    "            dataframes.append(p.get_dataset(start, end, delta))\n",
    "\n",
    "    cur += 1"
   ]
  },
  {
   "cell_type": "code",
   "execution_count": null,
   "id": "84b557e4",
   "metadata": {},
   "outputs": [],
   "source": [
    "data = pd.concat(dataframes)\n",
    "data = data.dropna()"
   ]
  },
  {
   "cell_type": "code",
   "execution_count": null,
   "id": "4683b93f",
   "metadata": {},
   "outputs": [],
   "source": [
    "data.describe()"
   ]
  },
  {
   "cell_type": "code",
   "execution_count": null,
   "id": "711df140",
   "metadata": {},
   "outputs": [],
   "source": [
    "data.to_excel(\"file_name.xlsx\")"
   ]
  },
  {
   "cell_type": "code",
   "execution_count": null,
   "id": "73205264",
   "metadata": {},
   "outputs": [],
   "source": [
    "X = data.drop(columns=['player', 'event', 'pts']).to_numpy()\n",
    "y = data['pts'].to_numpy()"
   ]
  },
  {
   "cell_type": "code",
   "execution_count": null,
   "id": "a82e7fed",
   "metadata": {},
   "outputs": [],
   "source": [
    "event_id = 6970 # your event for predicting\n",
    "event = fp.Event(event_id)\n",
    "players = event.get_players() # getting the players of your event\n",
    "len(players)"
   ]
  },
  {
   "cell_type": "code",
   "execution_count": null,
   "id": "58fe9607",
   "metadata": {},
   "outputs": [],
   "source": [
    "costs_data = event.get_costs(\"costs_data.html\") # save fantasy page with the costs as html file (CTRL + S)\n",
    "len(costs_data)"
   ]
  },
  {
   "cell_type": "code",
   "execution_count": null,
   "id": "5785a11f",
   "metadata": {},
   "outputs": [],
   "source": [
    "# handling different nicknames like hunter and hunter-\n",
    "for p in players:\n",
    "    if p.name not in list(costs_data.keys()):\n",
    "        name = f\"{p.name}-\"\n",
    "        if name in list(costs_data.keys()):\n",
    "            p.name = name\n",
    "            print(p.name)"
   ]
  },
  {
   "cell_type": "code",
   "execution_count": null,
   "id": "9c3165af",
   "metadata": {},
   "outputs": [],
   "source": [
    "# getting rightly sorted costs list for found players\n",
    "costs = []\n",
    "keys = list(costs_data.keys())\n",
    "not_found = []\n",
    "\n",
    "cnt = 0\n",
    "for p in players:\n",
    "    if p.name in keys:\n",
    "        costs.append(costs_data[p.name])\n",
    "    else:\n",
    "        not_found.append(cnt)\n",
    "    cnt += 1\n",
    "len(costs)"
   ]
  },
  {
   "cell_type": "code",
   "execution_count": null,
   "id": "d58e2c16",
   "metadata": {},
   "outputs": [],
   "source": [
    "from sklearn.linear_model import LinearRegression\n",
    "\n",
    "model = LinearRegression()\n",
    "model.fit(X, y)"
   ]
  },
  {
   "cell_type": "code",
   "execution_count": null,
   "id": "54010a01",
   "metadata": {},
   "outputs": [],
   "source": [
    "predicted = []\n",
    "rank = event.rank # get your event rank\n",
    "\n",
    "for p in players:\n",
    "    all_rating, all_wr = p.get_stats(dt.date.today() - dt.timedelta(days=90), dt.date.today(), fp.EventFilter.ALL)\n",
    "    big_rating, big_wr = p.get_stats(dt.date.today() - dt.timedelta(days=90), dt.date.today(), fp.EventFilter.BIG)\n",
    "    vector = np.array([[rank, all_rating, big_rating, all_wr, big_wr]])\n",
    "    predicted_linear.append(float(model.predict(vector)[0]))\n",
    "len(predicted)"
   ]
  },
  {
   "cell_type": "code",
   "execution_count": null,
   "id": "c736f5f0",
   "metadata": {},
   "outputs": [],
   "source": [
    "best = best_subset(predicted, costs) # pass predicted values and costs to get the best 5 players possible"
   ]
  },
  {
   "cell_type": "code",
   "execution_count": null,
   "id": "6db37b12",
   "metadata": {},
   "outputs": [],
   "source": [
    "# print the picked team\n",
    "for i in linear_team:\n",
    "    print(f\"{players[i].name} --> {predicted_linear[i]}\")"
   ]
  },
  {
   "cell_type": "code",
   "execution_count": null,
   "id": "d2dbd07f",
   "metadata": {},
   "outputs": [],
   "source": [
    "# explore the results\n",
    "pred_df['pred pts'] = pred_df['pred pts'].astype(float)\n",
    "pred_df = pred_df.sort_values(by='pred pts', ascending=False)\n",
    "pred_df"
   ]
  }
 ],
 "metadata": {
  "kernelspec": {
   "display_name": "Python 3 (ipykernel)",
   "language": "python",
   "name": "python3"
  },
  "language_info": {
   "codemirror_mode": {
    "name": "ipython",
    "version": 3
   },
   "file_extension": ".py",
   "mimetype": "text/x-python",
   "name": "python",
   "nbconvert_exporter": "python",
   "pygments_lexer": "ipython3",
   "version": "3.10.6"
  }
 },
 "nbformat": 4,
 "nbformat_minor": 5
}
