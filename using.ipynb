{
 "cells": [
  {
   "cell_type": "code",
   "execution_count": null,
   "id": "785263f7",
   "metadata": {},
   "outputs": [],
   "source": [
    "import fantasy as fp\n",
    "# noinspection PyUnresolvedReferences\n",
    "from fantasyalgo import best_subset\n",
    "import datetime as dt\n",
    "import numpy as np\n",
    "from matplotlib import pyplot as plt\n",
    "import seaborn as sns\n",
    "import pandas as pd"
   ]
  },
  {
   "cell_type": "code",
   "execution_count": null,
   "id": "c96c9d32",
   "metadata": {},
   "outputs": [],
   "source": [
    "# timeperiod of parsing data\n",
    "start = dt.date(2022, 1, 1)\n",
    "end = dt.date.today()\n",
    "\n",
    "# timedelta for getting data, in this case 90 days (3 months)\n",
    "delta = dt.timedelta(days=90)\n",
    "\n",
    "# event_id to parse data from\n",
    "events = [6586, 6140, 6136, 6621, 6370]\n",
    "\n",
    "dataframes = []\n",
    "used = []\n",
    "\n",
    "for key in events:\n",
    "\n",
    "    event = fp.Event(key)\n",
    "    # getting players from the event\n",
    "    players = event.get_players()\n",
    "\n",
    "    for p in players:\n",
    "        if p.key not in used:\n",
    "            used.append(p.key)\n",
    "            # getting dataset for the player using the parameters above\n",
    "            dataframes.append(p.get_dataset(start, end, delta))"
   ]
  },
  {
   "cell_type": "code",
   "execution_count": null,
   "id": "c88f3da3",
   "metadata": {},
   "outputs": [],
   "source": [
    "# concatenate the frames\n",
    "data = pd.concat(dataframes)\n",
    "data = data.dropna()"
   ]
  },
  {
   "cell_type": "code",
   "execution_count": null,
   "id": "723429b9",
   "metadata": {},
   "outputs": [],
   "source": [
    "data.describe()"
   ]
  },
  {
   "cell_type": "code",
   "execution_count": null,
   "id": "5fee71f6",
   "metadata": {},
   "outputs": [],
   "source": [
    "# save dataset\n",
    "data.to_excel(\"file_name.xlsx\")"
   ]
  },
  {
   "cell_type": "code",
   "execution_count": null,
   "id": "8ff059ab",
   "metadata": {},
   "outputs": [],
   "source": [
    "# training data\n",
    "X = data.drop(columns=['player', 'event', 'pts']).to_numpy()\n",
    "y = data['pts'].to_numpy()"
   ]
  },
  {
   "cell_type": "code",
   "execution_count": null,
   "id": "eedd410b",
   "metadata": {},
   "outputs": [],
   "source": [
    "event_id = 6970 # your event for predicting\n",
    "event = fp.Event(event_id)\n",
    "# getting the players of your event\n",
    "players = event.get_players()\n",
    "len(players)"
   ]
  },
  {
   "cell_type": "code",
   "execution_count": null,
   "id": "9a46865e",
   "metadata": {},
   "outputs": [],
   "source": [
    "# save fantasy page with the costs as html file (CTRL + S)\n",
    "costs_data = event.get_costs(\"costs_data.html\")\n",
    "len(costs_data)"
   ]
  },
  {
   "cell_type": "code",
   "execution_count": null,
   "id": "06897b71",
   "metadata": {},
   "outputs": [],
   "source": [
    "# handling different nicknames like hunter and hunter-\n",
    "for p in players:\n",
    "    if p.name not in list(costs_data.keys()):\n",
    "        name = f\"{p.name}-\"\n",
    "        if name in list(costs_data.keys()):\n",
    "            p.name = name\n",
    "            print(p.name)"
   ]
  },
  {
   "cell_type": "code",
   "execution_count": null,
   "id": "4f0021f9",
   "metadata": {},
   "outputs": [],
   "source": [
    "# getting rightly sorted costs list for found players\n",
    "costs = []\n",
    "keys = list(costs_data.keys())\n",
    "not_found = []\n",
    "\n",
    "cnt = 0\n",
    "for p in players:\n",
    "    if p.name in keys:\n",
    "        costs.append(costs_data[p.name])\n",
    "    else:\n",
    "        not_found.append(cnt)\n",
    "    cnt += 1\n",
    "len(costs)"
   ]
  },
  {
   "cell_type": "code",
   "execution_count": null,
   "id": "b8568430",
   "metadata": {},
   "outputs": [],
   "source": [
    "from sklearn.tree import DecisionTreeRegressor\n",
    "\n",
    "model = DecisionTreeRegressor(max_depth=3)\n",
    "model.fit(X, y)"
   ]
  },
  {
   "cell_type": "code",
   "execution_count": null,
   "id": "e51dc7ee",
   "metadata": {},
   "outputs": [],
   "source": [
    "predicted = []\n",
    "rank = event.rank # get your event rank\n",
    "\n",
    "for p in players:\n",
    "    all_rating, all_wr = p.get_stats(dt.date.today() - dt.timedelta(days=90), dt.date.today(), fp.EventFilter.ALL)\n",
    "    big_rating, big_wr = p.get_stats(dt.date.today() - dt.timedelta(days=90), dt.date.today(), fp.EventFilter.BIG)\n",
    "    vector = np.array([[rank, all_rating, big_rating, all_wr, big_wr]])\n",
    "    predicted_linear.append(float(model.predict(vector)[0]))\n",
    "len(predicted)"
   ]
  },
  {
   "cell_type": "code",
   "execution_count": null,
   "id": "94e61763",
   "metadata": {},
   "outputs": [],
   "source": [
    "# pass predicted values and costs to get the best 5 players possible\n",
    "best = best_subset(predicted, costs)"
   ]
  },
  {
   "cell_type": "code",
   "execution_count": null,
   "id": "8a7cc3e2",
   "metadata": {},
   "outputs": [],
   "source": [
    "# print the picked team\n",
    "for i in best:\n",
    "    print(f\"{players[i].name} --> {best[i]}\")"
   ]
  },
  {
   "cell_type": "code",
   "execution_count": null,
   "id": "86c3d031",
   "metadata": {},
   "outputs": [],
   "source": [
    "# explore the results\n",
    "pred_df['pred pts'] = pred_df['pred pts'].astype(float)\n",
    "pred_df = pred_df.sort_values(by='pred pts', ascending=False)\n",
    "pred_df"
   ]
  }
 ],
 "metadata": {
  "kernelspec": {
   "display_name": "Python 3 (ipykernel)",
   "language": "python",
   "name": "python3"
  },
  "language_info": {
   "codemirror_mode": {
    "name": "ipython",
    "version": 3
   },
   "file_extension": ".py",
   "mimetype": "text/x-python",
   "name": "python",
   "nbconvert_exporter": "python",
   "pygments_lexer": "ipython3",
   "version": "3.10.6"
  }
 },
 "nbformat": 4,
 "nbformat_minor": 5
}
