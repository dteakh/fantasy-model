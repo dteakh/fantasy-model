{
 "cells": [
  {
   "cell_type": "code",
   "id": "initial_id",
   "metadata": {
    "collapsed": true,
    "ExecuteTime": {
     "end_time": "2024-05-26T15:32:47.716960Z",
     "start_time": "2024-05-26T15:32:47.550043Z"
    }
   },
   "source": [
    "import os\n",
    "from parsing.player import Player, PlayerStat"
   ],
   "execution_count": 1,
   "outputs": []
  },
  {
   "metadata": {
    "ExecuteTime": {
     "end_time": "2024-05-26T15:32:47.722622Z",
     "start_time": "2024-05-26T15:32:47.719047Z"
    }
   },
   "cell_type": "code",
   "source": "cwd = os.getcwd()",
   "id": "6b4afa903eebc73e",
   "execution_count": 2,
   "outputs": []
  },
  {
   "metadata": {
    "ExecuteTime": {
     "end_time": "2024-05-26T15:32:47.727099Z",
     "start_time": "2024-05-26T15:32:47.724098Z"
    }
   },
   "cell_type": "code",
   "source": "p = Player(key=21167, name=\"donk\")",
   "id": "38c420d707f8d823",
   "execution_count": 3,
   "outputs": []
  },
  {
   "metadata": {
    "ExecuteTime": {
     "end_time": "2024-05-26T15:33:00.393459Z",
     "start_time": "2024-05-26T15:32:47.729049Z"
    }
   },
   "cell_type": "code",
   "source": [
    "event = 7755\n",
    "p.get_page(page_type=PlayerStat.OVERVIEW, path=f\"{cwd}/test_data/overview.html\", event_key=event)\n",
    "p.get_page(page_type=PlayerStat.CLUTCHES, path=f\"{cwd}/test_data/clutches.html\", event_key=event)\n",
    "p.get_page(page_type=PlayerStat.INDIVIDUAL, path=f\"{cwd}/test_data/individual.html\", event_key=event)\n",
    "p.get_page(page_type=PlayerStat.MATCHES, path=f\"{cwd}/test_data/matches.html\", event_key=event)"
   ],
   "id": "45fa4f409a310a65",
   "execution_count": 4,
   "outputs": []
  },
  {
   "metadata": {
    "ExecuteTime": {
     "end_time": "2024-05-26T15:33:01.069782Z",
     "start_time": "2024-05-26T15:33:00.394818Z"
    }
   },
   "cell_type": "code",
   "source": [
    "features = dict()\n",
    "features.update(p.extract_overview_stats(path=f\"{cwd}/test_data/overview.html\"))\n",
    "features.update(p.extract_clutches_stats(path=f\"{cwd}/test_data/clutches.html\"))\n",
    "features.update(p.extract_individual_stats(path=f\"{cwd}/test_data/individual.html\"))\n",
    "features"
   ],
   "id": "dc117962e4e43d0f",
   "execution_count": 5,
   "outputs": []
  },
  {
   "metadata": {
    "ExecuteTime": {
     "end_time": "2024-05-26T15:33:01.331263Z",
     "start_time": "2024-05-26T15:33:01.071612Z"
    }
   },
   "cell_type": "code",
   "source": "p.extract_matches_stats(path=\"./test_data/matches.html\")",
   "id": "cbd9fd846ac7c6",
   "execution_count": 6,
   "outputs": []
  },
  {
   "metadata": {
    "ExecuteTime": {
     "end_time": "2024-05-26T15:33:01.335487Z",
     "start_time": "2024-05-26T15:33:01.332817Z"
    }
   },
   "cell_type": "code",
   "source": "",
   "id": "6847331beb6f295c",
   "execution_count": 6,
   "outputs": []
  }
 ],
 "metadata": {
  "kernelspec": {
   "display_name": "Python 3",
   "language": "python",
   "name": "python3"
  },
  "language_info": {
   "codemirror_mode": {
    "name": "ipython",
    "version": 2
   },
   "file_extension": ".py",
   "mimetype": "text/x-python",
   "name": "python",
   "nbconvert_exporter": "python",
   "pygments_lexer": "ipython2",
   "version": "2.7.6"
  }
 },
 "nbformat": 4,
 "nbformat_minor": 5
}
