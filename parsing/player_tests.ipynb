{
 "cells": [
  {
   "cell_type": "code",
   "id": "initial_id",
   "metadata": {
    "collapsed": true,
    "ExecuteTime": {
     "end_time": "2024-05-19T18:43:37.256862Z",
     "start_time": "2024-05-19T18:43:37.127126Z"
    }
   },
   "source": [
    "import os\n",
    "from parsing.player import Player, PlayerStat"
   ],
   "outputs": [],
   "execution_count": 1
  },
  {
   "metadata": {
    "ExecuteTime": {
     "end_time": "2024-05-19T18:43:37.656461Z",
     "start_time": "2024-05-19T18:43:37.652530Z"
    }
   },
   "cell_type": "code",
   "source": "cwd = os.getcwd()",
   "id": "6b4afa903eebc73e",
   "outputs": [],
   "execution_count": 2
  },
  {
   "metadata": {
    "ExecuteTime": {
     "end_time": "2024-05-19T18:43:38.112439Z",
     "start_time": "2024-05-19T18:43:38.108370Z"
    }
   },
   "cell_type": "code",
   "source": "p = Player(key=21167, name=\"donk\")",
   "id": "38c420d707f8d823",
   "outputs": [],
   "execution_count": 3
  },
  {
   "metadata": {
    "ExecuteTime": {
     "end_time": "2024-05-19T18:43:49.044807Z",
     "start_time": "2024-05-19T18:43:38.668688Z"
    }
   },
   "cell_type": "code",
   "source": [
    "event = 7755\n",
    "p.get_page(page_type=PlayerStat.OVERVIEW, path=f\"{cwd}/test_data/overview.html\", event_key=event)\n",
    "p.get_page(page_type=PlayerStat.CLUTCHES, path=f\"{cwd}/test_data/clutches.html\", event_key=event)\n",
    "p.get_page(page_type=PlayerStat.INDIVIDUAL, path=f\"{cwd}/test_data/individual.html\", event_key=event)\n",
    "p.get_page(page_type=PlayerStat.MATCHES, path=f\"{cwd}/test_data/matches.html\", event_key=event)"
   ],
   "id": "45fa4f409a310a65",
   "outputs": [],
   "execution_count": 4
  },
  {
   "metadata": {
    "ExecuteTime": {
     "end_time": "2024-05-19T18:44:01.105467Z",
     "start_time": "2024-05-19T18:44:00.585478Z"
    }
   },
   "cell_type": "code",
   "source": [
    "features = dict()\n",
    "features.update(p.extract_overview_stats(path=f\"{cwd}/test_data/overview.html\"))\n",
    "features.update(p.extract_clutches_stats(path=f\"{cwd}/test_data/clutches.html\"))\n",
    "features.update(p.extract_individual_stats(path=f\"{cwd}/test_data/individual.html\"))\n",
    "features"
   ],
   "id": "dc117962e4e43d0f",
   "outputs": [
    {
     "data": {
      "text/plain": [
       "{'rating': 1.47,\n",
       " 'dpr': 0.73,\n",
       " 'kast': 73.9,\n",
       " 'impact': 1.77,\n",
       " 'adr': 107.7,\n",
       " 'kpr': 1.01,\n",
       " 'total_kills': 185,\n",
       " 'hs': 58.9,\n",
       " 'kd': 1.37,\n",
       " 'gdr': 4.7,\n",
       " 'maps_played': 9,\n",
       " 'avg_rounds_played': 20.444444444444443,\n",
       " 'apr': 0.2,\n",
       " '1v1_wr': 1.0,\n",
       " 'opening_ratio': 1.38,\n",
       " 'opening_rating': 1.35,\n",
       " 'is_awp': 0}"
      ]
     },
     "execution_count": 5,
     "metadata": {},
     "output_type": "execute_result"
    }
   ],
   "execution_count": 5
  },
  {
   "metadata": {
    "ExecuteTime": {
     "end_time": "2024-05-19T18:44:16.014519Z",
     "start_time": "2024-05-19T18:44:15.666659Z"
    }
   },
   "cell_type": "code",
   "source": "p.extract_matches_stats(path=\"./test_data/matches.html\")",
   "id": "cbd9fd846ac7c6",
   "outputs": [
    {
     "data": {
      "text/plain": [
       "[(False, [1.08, 1.01, 1.49]),\n",
       " (True, [1.66, 1.32]),\n",
       " (True, [1.63, 1.81]),\n",
       " (True, [2.36, 1.15])]"
      ]
     },
     "execution_count": 6,
     "metadata": {},
     "output_type": "execute_result"
    }
   ],
   "execution_count": 6
  }
 ],
 "metadata": {
  "kernelspec": {
   "display_name": "Python 3",
   "language": "python",
   "name": "python3"
  },
  "language_info": {
   "codemirror_mode": {
    "name": "ipython",
    "version": 2
   },
   "file_extension": ".py",
   "mimetype": "text/x-python",
   "name": "python",
   "nbconvert_exporter": "python",
   "pygments_lexer": "ipython2",
   "version": "2.7.6"
  }
 },
 "nbformat": 4,
 "nbformat_minor": 5
}
