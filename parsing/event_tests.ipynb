{
 "cells": [
  {
   "cell_type": "code",
   "id": "initial_id",
   "metadata": {
    "collapsed": true,
    "ExecuteTime": {
     "end_time": "2024-05-19T22:11:10.633197Z",
     "start_time": "2024-05-19T22:11:10.012227Z"
    }
   },
   "source": [
    "import os\n",
    "from parsing.event import Event"
   ],
   "outputs": [],
   "execution_count": 1
  },
  {
   "metadata": {
    "ExecuteTime": {
     "end_time": "2024-05-19T22:11:10.639475Z",
     "start_time": "2024-05-19T22:11:10.635704Z"
    }
   },
   "cell_type": "code",
   "source": "cwd = os.getcwd()",
   "id": "1612075507b13718",
   "outputs": [],
   "execution_count": 2
  },
  {
   "metadata": {
    "ExecuteTime": {
     "end_time": "2024-05-19T22:11:10.644729Z",
     "start_time": "2024-05-19T22:11:10.640966Z"
    }
   },
   "cell_type": "code",
   "source": "event = Event(7755)",
   "id": "13595200f4d707e2",
   "outputs": [],
   "execution_count": 3
  },
  {
   "metadata": {
    "ExecuteTime": {
     "end_time": "2024-05-19T22:11:15.567333Z",
     "start_time": "2024-05-19T22:11:10.647429Z"
    }
   },
   "cell_type": "code",
   "source": "event.get_event_page(f\"{cwd}/event_data.html\")",
   "id": "a48ebe515e9a8c8",
   "outputs": [],
   "execution_count": 4
  },
  {
   "metadata": {
    "ExecuteTime": {
     "end_time": "2024-05-19T22:11:15.897043Z",
     "start_time": "2024-05-19T22:11:15.569259Z"
    }
   },
   "cell_type": "code",
   "source": "event.extract_main_page(f\"{cwd}/event_data.html\")",
   "id": "eb051b1827ba56d0",
   "outputs": [],
   "execution_count": 5
  },
  {
   "metadata": {
    "ExecuteTime": {
     "end_time": "2024-05-19T22:11:15.905111Z",
     "start_time": "2024-05-19T22:11:15.898201Z"
    }
   },
   "cell_type": "code",
   "source": "event.features_to_dict()",
   "id": "efb7415c4823e0b7",
   "outputs": [
    {
     "data": {
      "text/plain": [
       "{'is_lan': True,\n",
       " 'is_qual': False,\n",
       " 'prize_pool': 500000.0,\n",
       " 'start_at': datetime.datetime(2024, 5, 14, 0, 0),\n",
       " 'ends_at': datetime.datetime(2024, 5, 19, 0, 0),\n",
       " 'duration': 5}"
      ]
     },
     "execution_count": 6,
     "metadata": {},
     "output_type": "execute_result"
    }
   ],
   "execution_count": 6
  },
  {
   "metadata": {
    "ExecuteTime": {
     "end_time": "2024-05-19T22:11:15.910265Z",
     "start_time": "2024-05-19T22:11:15.906683Z"
    }
   },
   "cell_type": "code",
   "source": [
    "for team in event.teams:\n",
    "    print(team.key, team.name)"
   ],
   "id": "a53e73fc3d32c19b",
   "outputs": [
    {
     "name": "stdout",
     "output_type": "stream",
     "text": [
      "4494 mouz\n",
      "7020 spirit\n",
      "5378 virtuspro\n",
      "7175 heroic\n",
      "9215 mibr\n",
      "11283 falcons\n",
      "12394 betboom\n",
      "11861 aurora\n"
     ]
    }
   ],
   "execution_count": 7
  }
 ],
 "metadata": {
  "kernelspec": {
   "display_name": "Python 3",
   "language": "python",
   "name": "python3"
  },
  "language_info": {
   "codemirror_mode": {
    "name": "ipython",
    "version": 2
   },
   "file_extension": ".py",
   "mimetype": "text/x-python",
   "name": "python",
   "nbconvert_exporter": "python",
   "pygments_lexer": "ipython2",
   "version": "2.7.6"
  }
 },
 "nbformat": 4,
 "nbformat_minor": 5
}
