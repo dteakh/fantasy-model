{
 "cells": [
  {
   "cell_type": "code",
   "execution_count": 1,
   "id": "initial_id",
   "metadata": {
    "ExecuteTime": {
     "end_time": "2024-05-26T19:49:58.072788Z",
     "start_time": "2024-05-26T19:49:57.603060Z"
    }
   },
   "outputs": [],
   "source": [
    "import os\n",
    "from parsing.event import Event"
   ]
  },
  {
   "cell_type": "code",
   "execution_count": 2,
   "id": "13595200f4d707e2",
   "metadata": {
    "ExecuteTime": {
     "end_time": "2024-05-26T19:50:10.451750Z",
     "start_time": "2024-05-26T19:50:00.621166Z"
    }
   },
   "outputs": [],
   "source": [
    "event = Event(7755)"
   ]
  },
  {
   "cell_type": "code",
   "execution_count": 3,
   "id": "efb7415c4823e0b7",
   "metadata": {
    "ExecuteTime": {
     "end_time": "2024-05-26T19:50:12.465446Z",
     "start_time": "2024-05-26T19:50:12.456038Z"
    }
   },
   "outputs": [
    {
     "data": {
      "text/plain": [
       "{'is_lan': True,\n",
       " 'is_qual': False,\n",
       " 'prize_pool': 500000.0,\n",
       " 'start_at': datetime.datetime(2024, 5, 14, 0, 0),\n",
       " 'ends_at': datetime.datetime(2024, 5, 19, 0, 0),\n",
       " 'duration': 5}"
      ]
     },
     "execution_count": 3,
     "metadata": {},
     "output_type": "execute_result"
    }
   ],
   "source": [
    "event.features_to_dict()"
   ]
  },
  {
   "cell_type": "code",
   "execution_count": 4,
   "id": "a53e73fc3d32c19b",
   "metadata": {
    "ExecuteTime": {
     "end_time": "2024-05-26T19:50:14.909281Z",
     "start_time": "2024-05-26T19:50:14.905200Z"
    }
   },
   "outputs": [
    {
     "name": "stdout",
     "output_type": "stream",
     "text": [
      "4494 mouz\n",
      "7020 spirit\n",
      "5378 virtuspro\n",
      "7175 heroic\n",
      "9215 mibr\n",
      "11283 falcons\n",
      "12394 betboom\n",
      "11861 aurora\n"
     ]
    }
   ],
   "source": [
    "for team in event.teams:\n",
    "    print(team.key, team.name)"
   ]
  }
 ],
 "metadata": {
  "kernelspec": {
   "display_name": "Python 3 (ipykernel)",
   "language": "python",
   "name": "python3"
  },
  "language_info": {
   "codemirror_mode": {
    "name": "ipython",
    "version": 3
   },
   "file_extension": ".py",
   "mimetype": "text/x-python",
   "name": "python",
   "nbconvert_exporter": "python",
   "pygments_lexer": "ipython3",
   "version": "3.10.12"
  }
 },
 "nbformat": 4,
 "nbformat_minor": 5
}
