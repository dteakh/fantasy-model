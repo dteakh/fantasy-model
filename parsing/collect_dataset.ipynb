{
 "cells": [
  {
   "cell_type": "code",
   "id": "initial_id",
   "metadata": {
    "collapsed": true,
    "ExecuteTime": {
     "end_time": "2024-05-30T11:06:44.578682Z",
     "start_time": "2024-05-30T11:06:44.575648Z"
    }
   },
   "source": [
    "import os\n",
    "\n",
    "from parsing.event import Event\n",
    "from parsing.common import Config, EventFilter, RankingFilter\n",
    "\n",
    "from datetime import timedelta as td\n",
    "from parsing.parser import parse_event_pages"
   ],
   "outputs": [],
   "execution_count": 2
  },
  {
   "metadata": {
    "ExecuteTime": {
     "end_time": "2024-05-30T11:06:44.583107Z",
     "start_time": "2024-05-30T11:06:44.579820Z"
    }
   },
   "cell_type": "code",
   "source": [
    "# event_keys = [7260, 7435, 7619, 7392]\n",
    "event_keys = [7148, 7553]\n",
    "# event_keys = [7440, 7755, 6976, 7437]  # DONE\n",
    "configs = [\n",
    "    Config(\n",
    "        start_time=None, end_time=None, \n",
    "        event_fil=EventFilter.ALL, ranking_fil=RankingFilter.ALL\n",
    "    ),\n",
    "    Config(\n",
    "        start_time=None, end_time=None, \n",
    "        event_fil=EventFilter.ALL, ranking_fil=RankingFilter.TOP50\n",
    "    ),\n",
    "    Config(\n",
    "        start_time=None, end_time=None, \n",
    "        event_fil=EventFilter.BIG, ranking_fil=RankingFilter.TOP30\n",
    "    ),\n",
    "]\n",
    "\n",
    "time_intervals = [td(days=30), td(days=90)]"
   ],
   "id": "df5959196fc8a48b",
   "outputs": [],
   "execution_count": 3
  },
  {
   "metadata": {
    "ExecuteTime": {
     "end_time": "2024-05-30T11:11:46.238986Z",
     "start_time": "2024-05-30T11:06:44.583916Z"
    }
   },
   "cell_type": "code",
   "source": [
    "root_dir = os.path.abspath(\"..\")\n",
    "target_dir = os.path.join(root_dir, \"data/events\")\n",
    "\n",
    "for event_key in event_keys:\n",
    "    event = Event(key=event_key)\n",
    "    start_date = event.starts_at\n",
    "    print(f'Starting {event} parsing...')\n",
    "    for ti in time_intervals:\n",
    "        for cfg in configs:\n",
    "            cfg.end_time = event.starts_at.date()\n",
    "            cfg.start_time = (event.starts_at - ti).date()\n",
    "        parse_event_pages(event=event, cfgs=configs, path=target_dir, save=\"features\")"
   ],
   "id": "209e84c0c5a01c98",
   "outputs": [
    {
     "name": "stdout",
     "output_type": "stream",
     "text": [
      "Starting PGL CS2 Major Copenhagen 2024 (7148) parsing...\n",
      "Config 2024-02-20_2024-03-21_ALL_ALL.json.\n",
      "Config 2024-02-20_2024-03-21_ALL_Top50.json.\n",
      "Config 2024-02-20_2024-03-21_BigEvents_Top30.json.\n",
      "Config 2023-12-22_2024-03-21_ALL_ALL.json.\n",
      "Config 2023-12-22_2024-03-21_ALL_Top50.json.\n",
      "Config 2023-12-22_2024-03-21_BigEvents_Top30.json.\n",
      "Starting BLAST Premier Spring Showdown 2024 (7553) parsing...\n"
     ]
    },
    {
     "name": "stderr",
     "output_type": "stream",
     "text": [
      "\n",
      "KeyboardInterrupt\n",
      "\n"
     ]
    }
   ],
   "execution_count": 4
  }
 ],
 "metadata": {
  "kernelspec": {
   "display_name": "Python 3",
   "language": "python",
   "name": "python3"
  },
  "language_info": {
   "codemirror_mode": {
    "name": "ipython",
    "version": 2
   },
   "file_extension": ".py",
   "mimetype": "text/x-python",
   "name": "python",
   "nbconvert_exporter": "python",
   "pygments_lexer": "ipython2",
   "version": "2.7.6"
  }
 },
 "nbformat": 4,
 "nbformat_minor": 5
}
