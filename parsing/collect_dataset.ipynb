{
 "cells": [
  {
   "cell_type": "code",
   "id": "initial_id",
   "metadata": {
    "collapsed": true,
    "ExecuteTime": {
     "end_time": "2024-05-30T11:06:44.578682Z",
     "start_time": "2024-05-30T11:06:44.575648Z"
    }
   },
   "source": [
    "import os\n",
    "\n",
    "from parsing.event import Event\n",
    "from parsing.common import Config, EventFilter, RankingFilter\n",
    "\n",
    "from datetime import timedelta as td\n",
    "from parsing.parser import parse_event_pages"
   ],
   "outputs": [],
   "execution_count": 1
  },
  {
   "metadata": {
    "ExecuteTime": {
     "end_time": "2024-05-30T11:06:44.583107Z",
     "start_time": "2024-05-30T11:06:44.579820Z"
    }
   },
   "cell_type": "code",
   "source": [
    "# event_keys = [7437, 7148, 7553, 7260, 7435, 7619, 7392, 6976, 7755, 7440]\n",
    "event_keys = [7440, 7755, 6976]\n",
    "configs = [\n",
    "    Config(\n",
    "        start_time=None, end_time=None, \n",
    "        event_fil=EventFilter.ALL, ranking_fil=RankingFilter.ALL\n",
    "    ),\n",
    "    Config(\n",
    "        start_time=None, end_time=None, \n",
    "        event_fil=EventFilter.ALL, ranking_fil=RankingFilter.TOP50\n",
    "    ),\n",
    "    Config(\n",
    "        start_time=None, end_time=None, \n",
    "        event_fil=EventFilter.BIG, ranking_fil=RankingFilter.TOP30\n",
    "    ),\n",
    "]\n",
    "\n",
    "time_intervals = [td(days=30), td(days=90)]"
   ],
   "id": "df5959196fc8a48b",
   "outputs": [],
   "execution_count": 2
  },
  {
   "metadata": {
    "ExecuteTime": {
     "end_time": "2024-05-30T11:11:46.238986Z",
     "start_time": "2024-05-30T11:06:44.583916Z"
    }
   },
   "cell_type": "code",
   "source": [
    "root_dir = os.path.abspath(\"..\")\n",
    "target_dir = os.path.join(root_dir, \"data/events\")\n",
    "\n",
    "for event_key in event_keys:\n",
    "    event = Event(key=event_key)\n",
    "    start_date = event.starts_at\n",
    "    print(f'Starting {event} parsing...')\n",
    "    for ti in time_intervals:\n",
    "        for cfg in configs:\n",
    "            cfg.end_time = event.starts_at.date()\n",
    "            cfg.start_time = (event.starts_at - ti).date()\n",
    "        parse_event_pages(event=event, cfgs=configs, path=target_dir, save=\"features\")"
   ],
   "id": "209e84c0c5a01c98",
   "outputs": [
    {
     "name": "stdout",
     "output_type": "stream",
     "text": [
      "Starting ESL Pro League Season 19 (7440) parsing...\n",
      "Starting BetBoom Dacha Belgrade 2024 (7755) parsing...\n"
     ]
    },
    {
     "ename": "ValueError",
     "evalue": "No data found: crashed in get_clutch_stats for None",
     "output_type": "error",
     "traceback": [
      "\u001B[0;31m---------------------------------------------------------------------------\u001B[0m",
      "\u001B[0;31mValueError\u001B[0m                                Traceback (most recent call last)",
      "Cell \u001B[0;32mIn[3], line 12\u001B[0m\n\u001B[1;32m     10\u001B[0m     cfg\u001B[38;5;241m.\u001B[39mend_time \u001B[38;5;241m=\u001B[39m event\u001B[38;5;241m.\u001B[39mstarts_at\u001B[38;5;241m.\u001B[39mdate()\n\u001B[1;32m     11\u001B[0m     cfg\u001B[38;5;241m.\u001B[39mstart_time \u001B[38;5;241m=\u001B[39m (event\u001B[38;5;241m.\u001B[39mstarts_at \u001B[38;5;241m-\u001B[39m ti)\u001B[38;5;241m.\u001B[39mdate()\n\u001B[0;32m---> 12\u001B[0m \u001B[43mparse_event_pages\u001B[49m\u001B[43m(\u001B[49m\u001B[43mevent\u001B[49m\u001B[38;5;241;43m=\u001B[39;49m\u001B[43mevent\u001B[49m\u001B[43m,\u001B[49m\u001B[43m \u001B[49m\u001B[43mcfgs\u001B[49m\u001B[38;5;241;43m=\u001B[39;49m\u001B[43mconfigs\u001B[49m\u001B[43m,\u001B[49m\u001B[43m \u001B[49m\u001B[43mpath\u001B[49m\u001B[38;5;241;43m=\u001B[39;49m\u001B[43mtarget_dir\u001B[49m\u001B[43m,\u001B[49m\u001B[43m \u001B[49m\u001B[43msave\u001B[49m\u001B[38;5;241;43m=\u001B[39;49m\u001B[38;5;124;43m\"\u001B[39;49m\u001B[38;5;124;43mfeatures\u001B[39;49m\u001B[38;5;124;43m\"\u001B[39;49m\u001B[43m)\u001B[49m\n",
      "File \u001B[0;32m~/Desktop/desktop_vagiz/projects/fantasy-model/parsing/parser.py:38\u001B[0m, in \u001B[0;36mparse_event_pages\u001B[0;34m(event, cfgs, path, save)\u001B[0m\n\u001B[1;32m     36\u001B[0m     \u001B[38;5;28;01mreturn\u001B[39;00m _parse_html(event, cfgs, path)\n\u001B[1;32m     37\u001B[0m \u001B[38;5;28;01melif\u001B[39;00m save \u001B[38;5;241m==\u001B[39m \u001B[38;5;124m\"\u001B[39m\u001B[38;5;124mfeatures\u001B[39m\u001B[38;5;124m\"\u001B[39m:\n\u001B[0;32m---> 38\u001B[0m     \u001B[38;5;28;01mreturn\u001B[39;00m \u001B[43m_parse_features\u001B[49m\u001B[43m(\u001B[49m\u001B[43mevent\u001B[49m\u001B[43m,\u001B[49m\u001B[43m \u001B[49m\u001B[43mcfgs\u001B[49m\u001B[43m,\u001B[49m\u001B[43m \u001B[49m\u001B[43mpath\u001B[49m\u001B[43m)\u001B[49m\n",
      "File \u001B[0;32m~/Desktop/desktop_vagiz/projects/fantasy-model/parsing/parser.py:227\u001B[0m, in \u001B[0;36m_parse_features\u001B[0;34m(event, cfgs, path)\u001B[0m\n\u001B[1;32m    225\u001B[0m features \u001B[38;5;241m=\u001B[39m \u001B[38;5;28mdict\u001B[39m()\n\u001B[1;32m    226\u001B[0m features\u001B[38;5;241m.\u001B[39mupdate(player\u001B[38;5;241m.\u001B[39mextract_overview_stats(path\u001B[38;5;241m=\u001B[39m\u001B[38;5;28;01mNone\u001B[39;00m, src\u001B[38;5;241m=\u001B[39mpages[\u001B[38;5;124m\"\u001B[39m\u001B[38;5;124moverview\u001B[39m\u001B[38;5;124m\"\u001B[39m]))\n\u001B[0;32m--> 227\u001B[0m features\u001B[38;5;241m.\u001B[39mupdate(\u001B[43mplayer\u001B[49m\u001B[38;5;241;43m.\u001B[39;49m\u001B[43mextract_clutches_stats\u001B[49m\u001B[43m(\u001B[49m\u001B[43mpath\u001B[49m\u001B[38;5;241;43m=\u001B[39;49m\u001B[38;5;28;43;01mNone\u001B[39;49;00m\u001B[43m,\u001B[49m\u001B[43m \u001B[49m\u001B[43msrc\u001B[49m\u001B[38;5;241;43m=\u001B[39;49m\u001B[43mpages\u001B[49m\u001B[43m[\u001B[49m\u001B[38;5;124;43m\"\u001B[39;49m\u001B[38;5;124;43mclutches\u001B[39;49m\u001B[38;5;124;43m\"\u001B[39;49m\u001B[43m]\u001B[49m\u001B[43m)\u001B[49m)\n\u001B[1;32m    228\u001B[0m features\u001B[38;5;241m.\u001B[39mupdate(player\u001B[38;5;241m.\u001B[39mextract_individual_stats(path\u001B[38;5;241m=\u001B[39m\u001B[38;5;28;01mNone\u001B[39;00m, src\u001B[38;5;241m=\u001B[39mpages[\u001B[38;5;124m\"\u001B[39m\u001B[38;5;124mindividual\u001B[39m\u001B[38;5;124m\"\u001B[39m]))\n\u001B[1;32m    230\u001B[0m \u001B[38;5;66;03m# save features\u001B[39;00m\n",
      "File \u001B[0;32m~/Desktop/desktop_vagiz/projects/fantasy-model/parsing/player/_extractor.py:116\u001B[0m, in \u001B[0;36mextract_clutches_stats\u001B[0;34m(self, path, src)\u001B[0m\n\u001B[1;32m    114\u001B[0m \u001B[38;5;28;01mif\u001B[39;00m summary \u001B[38;5;129;01mis\u001B[39;00m \u001B[38;5;28;01mNone\u001B[39;00m:\n\u001B[1;32m    115\u001B[0m     data[\u001B[38;5;124m\"\u001B[39m\u001B[38;5;124m1v1_wr\u001B[39m\u001B[38;5;124m\"\u001B[39m] \u001B[38;5;241m=\u001B[39m \u001B[38;5;28;01mNone\u001B[39;00m\n\u001B[0;32m--> 116\u001B[0m     \u001B[38;5;28;01mraise\u001B[39;00m FantasyError\u001B[38;5;241m.\u001B[39mno_data(\u001B[38;5;124mf\u001B[39m\u001B[38;5;124m\"\u001B[39m\u001B[38;5;124mcrashed in get_clutch_stats for \u001B[39m\u001B[38;5;132;01m{\u001B[39;00mpath\u001B[38;5;132;01m}\u001B[39;00m\u001B[38;5;124m\"\u001B[39m)\n\u001B[1;32m    117\u001B[0m \u001B[38;5;28;01melse\u001B[39;00m:\n\u001B[1;32m    118\u001B[0m     values \u001B[38;5;241m=\u001B[39m summary\u001B[38;5;241m.\u001B[39mfind_all(\u001B[38;5;124m\"\u001B[39m\u001B[38;5;124mdiv\u001B[39m\u001B[38;5;124m\"\u001B[39m, class_\u001B[38;5;241m=\u001B[39m\u001B[38;5;124m\"\u001B[39m\u001B[38;5;124mvalue\u001B[39m\u001B[38;5;124m\"\u001B[39m)\n",
      "\u001B[0;31mValueError\u001B[0m: No data found: crashed in get_clutch_stats for None"
     ]
    }
   ],
   "execution_count": 3
  },
  {
   "metadata": {},
   "cell_type": "code",
   "outputs": [],
   "execution_count": null,
   "source": "",
   "id": "851f450f0fdbb788"
  }
 ],
 "metadata": {
  "kernelspec": {
   "display_name": "Python 3",
   "language": "python",
   "name": "python3"
  },
  "language_info": {
   "codemirror_mode": {
    "name": "ipython",
    "version": 2
   },
   "file_extension": ".py",
   "mimetype": "text/x-python",
   "name": "python",
   "nbconvert_exporter": "python",
   "pygments_lexer": "ipython2",
   "version": "2.7.6"
  }
 },
 "nbformat": 4,
 "nbformat_minor": 5
}
