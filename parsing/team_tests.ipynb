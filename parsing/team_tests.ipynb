{
 "cells": [
  {
   "cell_type": "code",
   "execution_count": 1,
   "metadata": {
    "ExecuteTime": {
     "end_time": "2024-05-26T19:51:06.980137Z",
     "start_time": "2024-05-26T19:51:06.520013Z"
    }
   },
   "outputs": [],
   "source": [
    "import os\n",
    "from parsing.event import Event\n",
    "from os.path import join\n",
    "from parsing.team import Team, TeamProfile, TeamStat\n",
    "from common import EventFilter, RankingFilter, Ranking\n",
    "from datetime import timedelta as td\n",
    "\n",
    "\n",
    "TEST_DATA_PATH = join('test_data', 'team')"
   ]
  },
  {
   "cell_type": "code",
   "execution_count": 2,
   "metadata": {
    "ExecuteTime": {
     "end_time": "2024-05-26T18:06:05.454931Z",
     "start_time": "2024-05-26T18:06:05.451898Z"
    },
    "collapsed": false,
    "jupyter": {
     "outputs_hidden": false
    }
   },
   "outputs": [],
   "source": [
    "event_key = 7552  # blast\n",
    "event = Event(event_key)"
   ]
  },
  {
   "cell_type": "code",
   "execution_count": 3,
   "metadata": {
    "ExecuteTime": {
     "end_time": "2024-05-26T18:09:14.348568Z",
     "start_time": "2024-05-26T18:09:14.343686Z"
    },
    "collapsed": false,
    "jupyter": {
     "outputs_hidden": false
    }
   },
   "outputs": [
    {
     "data": {
      "text/plain": [
       "natus-vincere (4608)"
      ]
     },
     "execution_count": 3,
     "metadata": {},
     "output_type": "execute_result"
    }
   ],
   "source": [
    "team = event.teams[2]\n",
    "team"
   ]
  },
  {
   "cell_type": "code",
   "execution_count": 4,
   "metadata": {},
   "outputs": [
    {
     "data": {
      "text/plain": [
       "[aleksib (9816), im (14759), b1t (18987), jl (19206), w0nderful (20127)]"
      ]
     },
     "execution_count": 4,
     "metadata": {},
     "output_type": "execute_result"
    }
   ],
   "source": [
    "team.get_page(TeamStat.LINEUPS, event=event_key, start=None, end=None,  data_path=join(TEST_DATA_PATH, \"lineups.html\"))\n",
    "team.init_lineups(join(TEST_DATA_PATH, \"lineups.html\"))\n",
    "team.players"
   ]
  },
  {
   "cell_type": "code",
   "execution_count": 5,
   "metadata": {
    "ExecuteTime": {
     "end_time": "2024-05-26T18:09:34.314242Z",
     "start_time": "2024-05-26T18:09:34.311025Z"
    },
    "collapsed": false,
    "jupyter": {
     "outputs_hidden": false
    }
   },
   "outputs": [],
   "source": [
    "overview = team.get_stat_link(\n",
    "    stat=TeamStat.OVERVIEW, match=EventFilter.ALL, rank=RankingFilter.TOP50, event=event_key,\n",
    "    start=event.starts_at.date(), end=event.ends_at.date()\n",
    ")\n",
    "lineups = team.get_stat_link(\n",
    "    stat=TeamStat.LINEUPS, match=EventFilter.ALL, rank=RankingFilter.TOP50\n",
    ")\n",
    "\n",
    "blast_matches = team.get_stat_link(\n",
    "    stat=TeamStat.MATCHES,\n",
    "    event=event,\n",
    "    match=EventFilter.ALL,\n",
    "    rank=RankingFilter.TOP50,\n",
    ")"
   ]
  },
  {
   "cell_type": "markdown",
   "metadata": {
    "collapsed": false,
    "jupyter": {
     "outputs_hidden": false
    }
   },
   "source": [
    "### LINKS"
   ]
  },
  {
   "cell_type": "code",
   "execution_count": 6,
   "metadata": {
    "ExecuteTime": {
     "end_time": "2024-05-26T18:09:37.667782Z",
     "start_time": "2024-05-26T18:09:37.664959Z"
    },
    "collapsed": false,
    "jupyter": {
     "outputs_hidden": false
    }
   },
   "outputs": [
    {
     "name": "stdout",
     "output_type": "stream",
     "text": [
      "https://www.hltv.org/stats/teams//4608/natus-vincere?startDate=2024-01-22&endDate=2024-01-28&event=7552&matchType=ALL&rankingFilter=Top50\n",
      "https://www.hltv.org/stats/teams/lineups/4608/natus-vincere?startDate=2024-03-03&endDate=2024-05-26&matchType=ALL&rankingFilter=Top50\n",
      "https://www.hltv.org/stats/teams/matches/4608/natus-vincere?startDate=2024-03-03&endDate=2024-05-26&event=BLAST Premier Spring Groups 2024 (7552)&matchType=ALL&rankingFilter=Top50\n"
     ]
    }
   ],
   "source": [
    "print(overview)\n",
    "print(lineups)\n",
    "print(blast_matches)"
   ]
  },
  {
   "cell_type": "markdown",
   "metadata": {
    "collapsed": false,
    "jupyter": {
     "outputs_hidden": false
    }
   },
   "source": [
    "### RAW STATS"
   ]
  },
  {
   "cell_type": "code",
   "execution_count": 7,
   "metadata": {
    "ExecuteTime": {
     "end_time": "2024-05-26T15:33:25.262252Z",
     "start_time": "2024-05-26T15:33:22.696049Z"
    },
    "collapsed": false,
    "jupyter": {
     "outputs_hidden": false
    }
   },
   "outputs": [],
   "source": [
    "team.get_page(page_type=Ranking.TEAMS, end=event.ends_at - td(days=6), data_path=join(TEST_DATA_PATH, \"ranking.html\"))"
   ]
  },
  {
   "cell_type": "code",
   "execution_count": 8,
   "metadata": {
    "ExecuteTime": {
     "end_time": "2024-05-26T15:33:38.543979Z",
     "start_time": "2024-05-26T15:33:25.264174Z"
    },
    "collapsed": false,
    "jupyter": {
     "outputs_hidden": false
    }
   },
   "outputs": [],
   "source": [
    "team.get_page(TeamProfile.PROFILE, event=event_key, start=None, end=None, data_path=join(TEST_DATA_PATH, \"profile.html\"))\n",
    "team.get_page(TeamStat.OVERVIEW, event=event_key, start=None, end=None,  data_path=join(TEST_DATA_PATH, \"overview.html\"))\n",
    "team.get_page(TeamStat.MATCHES, event=event_key, start=None, end=None,  data_path=join(TEST_DATA_PATH, \"matches.html\"))\n",
    "team.get_page(TeamStat.EVENT_HISTORY, event=event_key, start=None, end=None,  data_path=join(TEST_DATA_PATH, \"events.html\"))\n",
    "team.get_page(TeamStat.LINEUPS, event=event_key, start=None, end=None,  data_path=join(TEST_DATA_PATH, \"lineups.html\"))"
   ]
  },
  {
   "cell_type": "code",
   "execution_count": 9,
   "metadata": {
    "ExecuteTime": {
     "end_time": "2024-05-26T15:33:39.634708Z",
     "start_time": "2024-05-26T15:33:38.547999Z"
    },
    "collapsed": false,
    "jupyter": {
     "outputs_hidden": false
    }
   },
   "outputs": [],
   "source": [
    "blast_stats = {}\n",
    "blast_stats.update(team.extract_ranking(join(TEST_DATA_PATH, \"ranking.html\"), team_name=team.name))\n",
    "blast_stats.update(team.extract_overview(join(TEST_DATA_PATH, \"overview.html\")))\n",
    "blast_stats.update(team.extract_events(join(TEST_DATA_PATH, \"events.html\"), EventFilter.ALL))\n",
    "blast_stats.update(team.extract_lineups(join(TEST_DATA_PATH, \"lineups.html\")))\n",
    "blast_stats.update(team.extract_matches(join(TEST_DATA_PATH, \"matches.html\")))"
   ]
  },
  {
   "cell_type": "code",
   "execution_count": 10,
   "metadata": {
    "ExecuteTime": {
     "end_time": "2024-05-26T15:33:39.643776Z",
     "start_time": "2024-05-26T15:33:39.636414Z"
    },
    "collapsed": false,
    "jupyter": {
     "outputs_hidden": false
    }
   },
   "outputs": [
    {
     "data": {
      "text/plain": [
       "{'ranking': {'points': '(423 points)',\n",
       "  'world_ranking': '#4',\n",
       "  'ranking_change': '-'},\n",
       " 'overview': {'Maps played': '7',\n",
       "  'Wins / draws / losses': '6 / 0 / 1',\n",
       "  'Total kills': '552',\n",
       "  'Total deaths': '504',\n",
       "  'Rounds played': '164',\n",
       "  'K/D Ratio': '1.10'},\n",
       " 'events': [{'placement': '1-4th',\n",
       "   'event': 'BLAST Premier Spring Groups 2024',\n",
       "   'event_filter': <EventFilter.ALL: 'ALL'>}],\n",
       " 'lineups': [{'period': 'Jan 2024 - today',\n",
       "   'period_unix': '1705878000000 - today',\n",
       "   'Maps played': '7',\n",
       "   'Wins / draws / losses': '6 / 0 / 1',\n",
       "   'LAN top 3 placings': '1',\n",
       "   'players': [aleksib (9816),\n",
       "    im (14759),\n",
       "    b1t (18987),\n",
       "    jl (19206),\n",
       "    w0nderful (20127)]}],\n",
       " 'matches': [{'time': '27/01/24',\n",
       "   'event': 'BLAST Premier Spring Groups 2024',\n",
       "   'opponent': 'G2',\n",
       "   'map': 'Mirage',\n",
       "   'rounds': '13 - 5',\n",
       "   'result': 'W',\n",
       "   'is_last_map': 1},\n",
       "  {'time': '27/01/24',\n",
       "   'event': 'BLAST Premier Spring Groups 2024',\n",
       "   'opponent': 'G2',\n",
       "   'map': 'Inferno',\n",
       "   'rounds': '13 - 9',\n",
       "   'result': 'W',\n",
       "   'is_last_map': 0},\n",
       "  {'time': '23/01/24',\n",
       "   'event': 'BLAST Premier Spring Groups 2024',\n",
       "   'opponent': 'G2',\n",
       "   'map': 'Anubis',\n",
       "   'rounds': '13 - 9',\n",
       "   'result': 'W',\n",
       "   'is_last_map': 1},\n",
       "  {'time': '23/01/24',\n",
       "   'event': 'BLAST Premier Spring Groups 2024',\n",
       "   'opponent': 'G2',\n",
       "   'map': 'Inferno',\n",
       "   'rounds': '10 - 13',\n",
       "   'result': 'L',\n",
       "   'is_last_map': 0},\n",
       "  {'time': '23/01/24',\n",
       "   'event': 'BLAST Premier Spring Groups 2024',\n",
       "   'opponent': 'G2',\n",
       "   'map': 'Overpass',\n",
       "   'rounds': '16 - 12',\n",
       "   'result': 'W',\n",
       "   'is_last_map': 0},\n",
       "  {'time': '22/01/24',\n",
       "   'event': 'BLAST Premier Spring Groups 2024',\n",
       "   'opponent': 'Complexity',\n",
       "   'map': 'Anubis',\n",
       "   'rounds': '13 - 8',\n",
       "   'result': 'W',\n",
       "   'is_last_map': 1},\n",
       "  {'time': '22/01/24',\n",
       "   'event': 'BLAST Premier Spring Groups 2024',\n",
       "   'opponent': 'Complexity',\n",
       "   'map': 'Overpass',\n",
       "   'rounds': '16 - 14',\n",
       "   'result': 'W',\n",
       "   'is_last_map': 0}]}"
      ]
     },
     "execution_count": 10,
     "metadata": {},
     "output_type": "execute_result"
    }
   ],
   "source": [
    "blast_stats"
   ]
  },
  {
   "cell_type": "markdown",
   "metadata": {
    "collapsed": false,
    "jupyter": {
     "outputs_hidden": false
    }
   },
   "source": [
    "### PREP STATS"
   ]
  },
  {
   "cell_type": "code",
   "execution_count": 11,
   "metadata": {
    "ExecuteTime": {
     "end_time": "2024-05-26T15:33:39.659240Z",
     "start_time": "2024-05-26T15:33:39.646047Z"
    },
    "collapsed": false,
    "jupyter": {
     "outputs_hidden": false
    }
   },
   "outputs": [
    {
     "data": {
      "text/plain": [
       "{'ranking': {'world_ranking': 4, 'ranking_change': 0, 'points': 423},\n",
       " 'overview': {'maps_played': 7,\n",
       "  'wins': 6,\n",
       "  'draws': 0,\n",
       "  'losses': 1,\n",
       "  'kills': 552,\n",
       "  'deaths': 504,\n",
       "  'rounds_played': 164,\n",
       "  'team_kd': None},\n",
       " 'matches': [{'opponent': 'complexity',\n",
       "   'date': datetime.date(2024, 1, 22),\n",
       "   'event': 'blast premier spring groups 2024',\n",
       "   'maps_played': 2,\n",
       "   'maps_won': 2,\n",
       "   'maps_lost': 0,\n",
       "   'maps_res_seq': 'ww',\n",
       "   'rounds_played': 51,\n",
       "   'rounds_won': 29,\n",
       "   'rounds_lost': 22,\n",
       "   'rounds_res_seq': '16 - 14|13 - 8|',\n",
       "   'is_winner': 1},\n",
       "  {'opponent': 'g2',\n",
       "   'date': datetime.date(2024, 1, 23),\n",
       "   'event': 'blast premier spring groups 2024',\n",
       "   'maps_played': 3,\n",
       "   'maps_won': 2,\n",
       "   'maps_lost': 1,\n",
       "   'maps_res_seq': 'wlw',\n",
       "   'rounds_played': 73,\n",
       "   'rounds_won': 39,\n",
       "   'rounds_lost': 34,\n",
       "   'rounds_res_seq': '16 - 12|10 - 13|13 - 9|',\n",
       "   'is_winner': 1},\n",
       "  {'opponent': 'g2',\n",
       "   'date': datetime.date(2024, 1, 27),\n",
       "   'event': 'blast premier spring groups 2024',\n",
       "   'maps_played': 2,\n",
       "   'maps_won': 2,\n",
       "   'maps_lost': 0,\n",
       "   'maps_res_seq': 'ww',\n",
       "   'rounds_played': 40,\n",
       "   'rounds_won': 26,\n",
       "   'rounds_lost': 14,\n",
       "   'rounds_res_seq': '13 - 9|13 - 5|',\n",
       "   'is_winner': 1}],\n",
       " 'events': [{'placement': '1-4th',\n",
       "   'event_filter': <EventFilter.ALL: 'ALL'>,\n",
       "   'event': 'blast premier spring groups 2024'}],\n",
       " 'lineups': [{'start': datetime.datetime(2024, 1, 26, 0, 0),\n",
       "   'end': datetime.date(2024, 5, 26),\n",
       "   'is_active': True,\n",
       "   'maps_played': 7,\n",
       "   'wins': 6,\n",
       "   'draws': 0,\n",
       "   'losses': 1,\n",
       "   'lan_top3_placings': 1,\n",
       "   'players': [aleksib (9816),\n",
       "    im (14759),\n",
       "    b1t (18987),\n",
       "    jl (19206),\n",
       "    w0nderful (20127)]}]}"
      ]
     },
     "execution_count": 11,
     "metadata": {},
     "output_type": "execute_result"
    }
   ],
   "source": [
    "prep_blast_stats = team.preprocess_stats(blast_stats)\n",
    "prep_blast_stats"
   ]
  },
  {
   "cell_type": "markdown",
   "metadata": {
    "collapsed": false,
    "jupyter": {
     "outputs_hidden": false
    }
   },
   "source": [
    "### FEATURES"
   ]
  },
  {
   "cell_type": "code",
   "execution_count": 12,
   "metadata": {
    "ExecuteTime": {
     "end_time": "2024-05-26T15:33:39.681450Z",
     "start_time": "2024-05-26T15:33:39.660966Z"
    },
    "collapsed": false,
    "jupyter": {
     "outputs_hidden": false
    }
   },
   "outputs": [
    {
     "data": {
      "text/html": [
       "<div>\n",
       "<style scoped>\n",
       "    .dataframe tbody tr th:only-of-type {\n",
       "        vertical-align: middle;\n",
       "    }\n",
       "\n",
       "    .dataframe tbody tr th {\n",
       "        vertical-align: top;\n",
       "    }\n",
       "\n",
       "    .dataframe thead th {\n",
       "        text-align: right;\n",
       "    }\n",
       "</style>\n",
       "<table border=\"1\" class=\"dataframe\">\n",
       "  <thead>\n",
       "    <tr style=\"text-align: right;\">\n",
       "      <th></th>\n",
       "      <th>has_roster_change_main</th>\n",
       "      <th>world_ranking_main</th>\n",
       "      <th>points_main</th>\n",
       "      <th>avg_place_main</th>\n",
       "      <th>winrate_main</th>\n",
       "      <th>avg_match_intensity_main</th>\n",
       "      <th>avg_win_intensity_main</th>\n",
       "      <th>avg_loss_intensity_main</th>\n",
       "      <th>winstreak_main</th>\n",
       "      <th>matches_played_main</th>\n",
       "    </tr>\n",
       "  </thead>\n",
       "  <tbody>\n",
       "    <tr>\n",
       "      <th>0</th>\n",
       "      <td>False</td>\n",
       "      <td>4</td>\n",
       "      <td>423</td>\n",
       "      <td>2.5</td>\n",
       "      <td>1.0</td>\n",
       "      <td>1.440794</td>\n",
       "      <td>1.440794</td>\n",
       "      <td>0.0</td>\n",
       "      <td>3</td>\n",
       "      <td>3</td>\n",
       "    </tr>\n",
       "  </tbody>\n",
       "</table>\n",
       "</div>"
      ],
      "text/plain": [
       "   has_roster_change_main  world_ranking_main  points_main  avg_place_main  \\\n",
       "0                   False                   4          423             2.5   \n",
       "\n",
       "   winrate_main  avg_match_intensity_main  avg_win_intensity_main  \\\n",
       "0           1.0                  1.440794                1.440794   \n",
       "\n",
       "   avg_loss_intensity_main  winstreak_main  matches_played_main  \n",
       "0                      0.0               3                    3  "
      ]
     },
     "execution_count": 12,
     "metadata": {},
     "output_type": "execute_result"
    }
   ],
   "source": [
    "features = team.get_features(prep_blast_stats, suffix=\"_main\")\n",
    "features"
   ]
  },
  {
   "cell_type": "markdown",
   "metadata": {
    "collapsed": false,
    "jupyter": {
     "outputs_hidden": false
    }
   },
   "source": [
    "Игроки добавляются как поле в методе `extract_overview`, где берется активный ростер."
   ]
  },
  {
   "cell_type": "code",
   "execution_count": 13,
   "metadata": {
    "ExecuteTime": {
     "end_time": "2024-05-26T15:33:39.687844Z",
     "start_time": "2024-05-26T15:33:39.683538Z"
    },
    "collapsed": false,
    "jupyter": {
     "outputs_hidden": false
    }
   },
   "outputs": [
    {
     "data": {
      "text/plain": [
       "[aleksib (9816), im (14759), b1t (18987), jl (19206), w0nderful (20127)]"
      ]
     },
     "execution_count": 13,
     "metadata": {},
     "output_type": "execute_result"
    }
   ],
   "source": [
    "team.players"
   ]
  }
 ],
 "metadata": {
  "kernelspec": {
   "display_name": "Python 3 (ipykernel)",
   "language": "python",
   "name": "python3"
  },
  "language_info": {
   "codemirror_mode": {
    "name": "ipython",
    "version": 3
   },
   "file_extension": ".py",
   "mimetype": "text/x-python",
   "name": "python",
   "nbconvert_exporter": "python",
   "pygments_lexer": "ipython3",
   "version": "3.10.12"
  }
 },
 "nbformat": 4,
 "nbformat_minor": 4
}
