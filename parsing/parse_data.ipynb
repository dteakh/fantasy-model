{
 "cells": [
  {
   "cell_type": "code",
   "execution_count": 1,
   "id": "initial_id",
   "metadata": {
    "ExecuteTime": {
     "end_time": "2024-05-26T19:42:16.754352Z",
     "start_time": "2024-05-26T19:42:16.750422Z"
    }
   },
   "outputs": [],
   "source": [
    "import os\n",
    "\n",
    "from parsing.event import Event\n",
    "from parsing.common import Config, EventFilter, RankingFilter\n",
    "\n",
    "from datetime import date\n",
    "from datetime import timedelta as td"
   ]
  },
  {
   "cell_type": "code",
   "execution_count": 2,
   "id": "4134ae9673eff177",
   "metadata": {
    "ExecuteTime": {
     "end_time": "2024-05-26T19:42:17.464647Z",
     "start_time": "2024-05-26T19:42:17.460917Z"
    }
   },
   "outputs": [],
   "source": [
    "event = Event(key=7755)"
   ]
  },
  {
   "cell_type": "code",
   "execution_count": 3,
   "id": "4ddf98d7964702d6",
   "metadata": {},
   "outputs": [
    {
     "data": {
      "text/plain": [
       "datetime.datetime(2024, 5, 14, 0, 0)"
      ]
     },
     "execution_count": 3,
     "metadata": {},
     "output_type": "execute_result"
    }
   ],
   "source": [
    "start_date = event.starts_at\n",
    "start_date"
   ]
  },
  {
   "cell_type": "code",
   "execution_count": 4,
   "id": "1cd2f147a2e28cda",
   "metadata": {},
   "outputs": [],
   "source": [
    "configs = [\n",
    "    Config(\n",
    "        start_time=start_date - td(days=90),\n",
    "        end_time=start_date,\n",
    "        event_fil=EventFilter.ALL,\n",
    "        ranking_fil=RankingFilter.TOP30\n",
    "    ),\n",
    "    Config(\n",
    "        start_time=start_date - td(days=60),\n",
    "        end_time=start_date,\n",
    "        event_fil=EventFilter.LAN,\n",
    "        ranking_fil=RankingFilter.TOP20\n",
    "    )\n",
    "]"
   ]
  },
  {
   "cell_type": "code",
   "execution_count": 5,
   "id": "80750c2d35bad67e",
   "metadata": {},
   "outputs": [],
   "source": [
    "from parsing.parser import parse_event_pages"
   ]
  },
  {
   "cell_type": "code",
   "execution_count": 6,
   "id": "16d1a995d7eb02a3",
   "metadata": {},
   "outputs": [],
   "source": [
    "root_dir = os.path.abspath(\"..\")\n",
    "target_dir = os.path.join(root_dir, \"data/events\")\n",
    "\n",
    "parse_event_pages(event=event, cfgs=configs, path=target_dir)"
   ]
  }
 ],
 "metadata": {
  "kernelspec": {
   "display_name": "Python 3 (ipykernel)",
   "language": "python",
   "name": "python3"
  },
  "language_info": {
   "codemirror_mode": {
    "name": "ipython",
    "version": 3
   },
   "file_extension": ".py",
   "mimetype": "text/x-python",
   "name": "python",
   "nbconvert_exporter": "python",
   "pygments_lexer": "ipython3",
   "version": "3.10.12"
  }
 },
 "nbformat": 4,
 "nbformat_minor": 5
}
