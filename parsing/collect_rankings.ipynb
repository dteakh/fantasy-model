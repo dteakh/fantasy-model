{
 "cells": [
  {
   "cell_type": "code",
   "execution_count": 5,
   "metadata": {
    "collapsed": true
   },
   "outputs": [],
   "source": [
    "from os.path import join\n",
    "from parsing.team._links import get_ranking_link\n",
    "from parsing.common import Ranking\n",
    "from datetime import date, timedelta as td\n",
    "from selenium import webdriver\n",
    "\n",
    "DATA_PATH = join('..', 'data', 'rankings')"
   ]
  },
  {
   "cell_type": "code",
   "execution_count": 6,
   "outputs": [],
   "source": [
    "end = date(day=27, month=5, year=2024)\n",
    "start = end - td(weeks=110)  # 2 years + small-time\n",
    "\n",
    "while start < end:\n",
    "    link = get_ranking_link(None, Ranking.TEAMS, end)\n",
    "    dr = webdriver.Chrome()\n",
    "    dr.get(link)\n",
    "\n",
    "    with open(join(DATA_PATH, f\"{end}.html\"), \"w\", encoding=\"utf-8\") as fhandle:\n",
    "        fhandle.write(dr.page_source)\n",
    "\n",
    "    end -= td(days=7)"
   ],
   "metadata": {
    "collapsed": false
   }
  }
 ],
 "metadata": {
  "kernelspec": {
   "display_name": "Python 3",
   "language": "python",
   "name": "python3"
  },
  "language_info": {
   "codemirror_mode": {
    "name": "ipython",
    "version": 2
   },
   "file_extension": ".py",
   "mimetype": "text/x-python",
   "name": "python",
   "nbconvert_exporter": "python",
   "pygments_lexer": "ipython2",
   "version": "2.7.6"
  }
 },
 "nbformat": 4,
 "nbformat_minor": 0
}
