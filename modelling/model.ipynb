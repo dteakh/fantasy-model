{
 "cells": [
  {
   "cell_type": "code",
   "execution_count": 1,
   "id": "e109bb64",
   "metadata": {},
   "outputs": [],
   "source": [
    "import fantasy as fp\n",
    "# noinspection PyUnresolvedReferences\n",
    "from fantasyalgo import best_subset\n",
    "import datetime as dt\n",
    "import numpy as np\n",
    "from matplotlib import pyplot as plt\n",
    "import seaborn as sns\n",
    "import pandas as pd"
   ]
  },
  {
   "cell_type": "code",
   "execution_count": 2,
   "id": "4deee72d",
   "metadata": {},
   "outputs": [],
   "source": [
    "data = pd.read_excel(\"19-01-2023.xlsx\", index_col=0)"
   ]
  },
  {
   "cell_type": "code",
   "execution_count": 3,
   "id": "fb6669f6",
   "metadata": {},
   "outputs": [
    {
     "data": {
      "text/plain": [
       "(1172, 8)"
      ]
     },
     "execution_count": 3,
     "metadata": {},
     "output_type": "execute_result"
    }
   ],
   "source": [
    "data.shape"
   ]
  },
  {
   "cell_type": "code",
   "execution_count": 4,
   "id": "cea2139c",
   "metadata": {},
   "outputs": [],
   "source": [
    "event = fp.Event(6810)"
   ]
  },
  {
   "cell_type": "code",
   "execution_count": 5,
   "id": "dfc78def",
   "metadata": {},
   "outputs": [
    {
     "data": {
      "text/plain": [
       "80"
      ]
     },
     "execution_count": 5,
     "metadata": {},
     "output_type": "execute_result"
    }
   ],
   "source": [
    "players = event.get_players()\n",
    "len(players)"
   ]
  },
  {
   "cell_type": "code",
   "execution_count": 6,
   "id": "6586b218",
   "metadata": {},
   "outputs": [
    {
     "data": {
      "text/plain": [
       "80"
      ]
     },
     "execution_count": 6,
     "metadata": {},
     "output_type": "execute_result"
    }
   ],
   "source": [
    "costs_data = event.get_costs(\"costs_data.html\")\n",
    "len(costs_data)"
   ]
  },
  {
   "cell_type": "code",
   "execution_count": 7,
   "id": "9e81b110",
   "metadata": {},
   "outputs": [],
   "source": [
    "for p in players:\n",
    "    if p.name not in list(costs_data.keys()):\n",
    "        name = f\"{p.name}-\"\n",
    "        if name in list(costs_data.keys()):\n",
    "            p.name = name\n",
    "            print(p.name)"
   ]
  },
  {
   "cell_type": "code",
   "execution_count": 8,
   "id": "30038875",
   "metadata": {},
   "outputs": [],
   "source": [
    "X = data.drop(columns=['player', 'event', 'pts']).to_numpy()\n",
    "y = data['pts'].to_numpy()"
   ]
  },
  {
   "cell_type": "code",
   "execution_count": 9,
   "id": "1677c1a7",
   "metadata": {},
   "outputs": [
    {
     "data": {
      "text/plain": [
       "80"
      ]
     },
     "execution_count": 9,
     "metadata": {},
     "output_type": "execute_result"
    }
   ],
   "source": [
    "costs = []\n",
    "keys = list(costs_data.keys())\n",
    "not_found = []\n",
    "\n",
    "cnt = 0\n",
    "for p in players:\n",
    "    if p.name in keys:\n",
    "        costs.append(costs_data[p.name])\n",
    "    else:\n",
    "        not_found.append(cnt)\n",
    "    cnt += 1\n",
    "len(costs)"
   ]
  },
  {
   "cell_type": "code",
   "execution_count": 10,
   "id": "c1bb3c3d",
   "metadata": {},
   "outputs": [
    {
     "data": {
      "text/html": [
       "<style>#sk-container-id-1 {color: black;background-color: white;}#sk-container-id-1 pre{padding: 0;}#sk-container-id-1 div.sk-toggleable {background-color: white;}#sk-container-id-1 label.sk-toggleable__label {cursor: pointer;display: block;width: 100%;margin-bottom: 0;padding: 0.3em;box-sizing: border-box;text-align: center;}#sk-container-id-1 label.sk-toggleable__label-arrow:before {content: \"▸\";float: left;margin-right: 0.25em;color: #696969;}#sk-container-id-1 label.sk-toggleable__label-arrow:hover:before {color: black;}#sk-container-id-1 div.sk-estimator:hover label.sk-toggleable__label-arrow:before {color: black;}#sk-container-id-1 div.sk-toggleable__content {max-height: 0;max-width: 0;overflow: hidden;text-align: left;background-color: #f0f8ff;}#sk-container-id-1 div.sk-toggleable__content pre {margin: 0.2em;color: black;border-radius: 0.25em;background-color: #f0f8ff;}#sk-container-id-1 input.sk-toggleable__control:checked~div.sk-toggleable__content {max-height: 200px;max-width: 100%;overflow: auto;}#sk-container-id-1 input.sk-toggleable__control:checked~label.sk-toggleable__label-arrow:before {content: \"▾\";}#sk-container-id-1 div.sk-estimator input.sk-toggleable__control:checked~label.sk-toggleable__label {background-color: #d4ebff;}#sk-container-id-1 div.sk-label input.sk-toggleable__control:checked~label.sk-toggleable__label {background-color: #d4ebff;}#sk-container-id-1 input.sk-hidden--visually {border: 0;clip: rect(1px 1px 1px 1px);clip: rect(1px, 1px, 1px, 1px);height: 1px;margin: -1px;overflow: hidden;padding: 0;position: absolute;width: 1px;}#sk-container-id-1 div.sk-estimator {font-family: monospace;background-color: #f0f8ff;border: 1px dotted black;border-radius: 0.25em;box-sizing: border-box;margin-bottom: 0.5em;}#sk-container-id-1 div.sk-estimator:hover {background-color: #d4ebff;}#sk-container-id-1 div.sk-parallel-item::after {content: \"\";width: 100%;border-bottom: 1px solid gray;flex-grow: 1;}#sk-container-id-1 div.sk-label:hover label.sk-toggleable__label {background-color: #d4ebff;}#sk-container-id-1 div.sk-serial::before {content: \"\";position: absolute;border-left: 1px solid gray;box-sizing: border-box;top: 0;bottom: 0;left: 50%;z-index: 0;}#sk-container-id-1 div.sk-serial {display: flex;flex-direction: column;align-items: center;background-color: white;padding-right: 0.2em;padding-left: 0.2em;position: relative;}#sk-container-id-1 div.sk-item {position: relative;z-index: 1;}#sk-container-id-1 div.sk-parallel {display: flex;align-items: stretch;justify-content: center;background-color: white;position: relative;}#sk-container-id-1 div.sk-item::before, #sk-container-id-1 div.sk-parallel-item::before {content: \"\";position: absolute;border-left: 1px solid gray;box-sizing: border-box;top: 0;bottom: 0;left: 50%;z-index: -1;}#sk-container-id-1 div.sk-parallel-item {display: flex;flex-direction: column;z-index: 1;position: relative;background-color: white;}#sk-container-id-1 div.sk-parallel-item:first-child::after {align-self: flex-end;width: 50%;}#sk-container-id-1 div.sk-parallel-item:last-child::after {align-self: flex-start;width: 50%;}#sk-container-id-1 div.sk-parallel-item:only-child::after {width: 0;}#sk-container-id-1 div.sk-dashed-wrapped {border: 1px dashed gray;margin: 0 0.4em 0.5em 0.4em;box-sizing: border-box;padding-bottom: 0.4em;background-color: white;}#sk-container-id-1 div.sk-label label {font-family: monospace;font-weight: bold;display: inline-block;line-height: 1.2em;}#sk-container-id-1 div.sk-label-container {text-align: center;}#sk-container-id-1 div.sk-container {/* jupyter's `normalize.less` sets `[hidden] { display: none; }` but bootstrap.min.css set `[hidden] { display: none !important; }` so we also need the `!important` here to be able to override the default hidden behavior on the sphinx rendered scikit-learn.org. See: https://github.com/scikit-learn/scikit-learn/issues/21755 */display: inline-block !important;position: relative;}#sk-container-id-1 div.sk-text-repr-fallback {display: none;}</style><div id=\"sk-container-id-1\" class=\"sk-top-container\"><div class=\"sk-text-repr-fallback\"><pre>LinearRegression()</pre><b>In a Jupyter environment, please rerun this cell to show the HTML representation or trust the notebook. <br />On GitHub, the HTML representation is unable to render, please try loading this page with nbviewer.org.</b></div><div class=\"sk-container\" hidden><div class=\"sk-item\"><div class=\"sk-estimator sk-toggleable\"><input class=\"sk-toggleable__control sk-hidden--visually\" id=\"sk-estimator-id-1\" type=\"checkbox\" checked><label for=\"sk-estimator-id-1\" class=\"sk-toggleable__label sk-toggleable__label-arrow\">LinearRegression</label><div class=\"sk-toggleable__content\"><pre>LinearRegression()</pre></div></div></div></div></div>"
      ],
      "text/plain": [
       "LinearRegression()"
      ]
     },
     "execution_count": 10,
     "metadata": {},
     "output_type": "execute_result"
    }
   ],
   "source": [
    "from sklearn.linear_model import LinearRegression\n",
    "\n",
    "model = LinearRegression()\n",
    "model.fit(X, y)"
   ]
  },
  {
   "cell_type": "code",
   "execution_count": 12,
   "id": "33bc4739",
   "metadata": {},
   "outputs": [
    {
     "data": {
      "text/plain": [
       "80"
      ]
     },
     "execution_count": 12,
     "metadata": {},
     "output_type": "execute_result"
    }
   ],
   "source": [
    "predicted = []\n",
    "rank = event.rank # get your event rank\n",
    "\n",
    "for p in players:\n",
    "    all_rating, all_wr = p.get_stats(dt.date.today() - dt.timedelta(days=90), dt.date.today(), fp.EventFilter.ALL)\n",
    "    big_rating, big_wr = p.get_stats(dt.date.today() - dt.timedelta(days=90), dt.date.today(), fp.EventFilter.BIG)\n",
    "    vector = np.array([[rank, all_rating, big_rating, all_wr, big_wr]])\n",
    "    predicted.append(float(model.predict(vector)[0]))\n",
    "len(predicted)"
   ]
  },
  {
   "cell_type": "code",
   "execution_count": 29,
   "id": "6ea837ec",
   "metadata": {},
   "outputs": [],
   "source": [
    "best = best_subset(predicted, costs)"
   ]
  },
  {
   "cell_type": "code",
   "execution_count": 30,
   "id": "1ff8a57b",
   "metadata": {},
   "outputs": [],
   "source": [
    "names = [p.name for p in players]\n",
    "pred_df = pd.DataFrame({'name': np.array(names), 'pred pts': np.array(predicted)})"
   ]
  },
  {
   "cell_type": "code",
   "execution_count": 31,
   "id": "0ea1e916",
   "metadata": {},
   "outputs": [],
   "source": [
    "pred_df['pred pts'] = pred_df['pred pts'].astype(float)\n",
    "pred_df = pred_df.sort_values(by='pred pts', ascending=False)"
   ]
  },
  {
   "cell_type": "code",
   "execution_count": 32,
   "id": "d9208505",
   "metadata": {},
   "outputs": [
    {
     "data": {
      "text/html": [
       "<div>\n",
       "<style scoped>\n",
       "    .dataframe tbody tr th:only-of-type {\n",
       "        vertical-align: middle;\n",
       "    }\n",
       "\n",
       "    .dataframe tbody tr th {\n",
       "        vertical-align: top;\n",
       "    }\n",
       "\n",
       "    .dataframe thead th {\n",
       "        text-align: right;\n",
       "    }\n",
       "</style>\n",
       "<table border=\"1\" class=\"dataframe\">\n",
       "  <thead>\n",
       "    <tr style=\"text-align: right;\">\n",
       "      <th></th>\n",
       "      <th>name</th>\n",
       "      <th>pred pts</th>\n",
       "    </tr>\n",
       "  </thead>\n",
       "  <tbody>\n",
       "    <tr>\n",
       "      <th>8</th>\n",
       "      <td>sh1ro</td>\n",
       "      <td>136.206269</td>\n",
       "    </tr>\n",
       "    <tr>\n",
       "      <th>2</th>\n",
       "      <td>kscerato</td>\n",
       "      <td>123.555741</td>\n",
       "    </tr>\n",
       "    <tr>\n",
       "      <th>18</th>\n",
       "      <td>degster</td>\n",
       "      <td>72.199104</td>\n",
       "    </tr>\n",
       "    <tr>\n",
       "      <th>5</th>\n",
       "      <td>hobbit</td>\n",
       "      <td>70.898322</td>\n",
       "    </tr>\n",
       "    <tr>\n",
       "      <th>24</th>\n",
       "      <td>w0nderful</td>\n",
       "      <td>67.787518</td>\n",
       "    </tr>\n",
       "    <tr>\n",
       "      <th>1</th>\n",
       "      <td>yuurih</td>\n",
       "      <td>67.153017</td>\n",
       "    </tr>\n",
       "    <tr>\n",
       "      <th>29</th>\n",
       "      <td>sunpayus</td>\n",
       "      <td>62.827617</td>\n",
       "    </tr>\n",
       "    <tr>\n",
       "      <th>23</th>\n",
       "      <td>patsi</td>\n",
       "      <td>51.930660</td>\n",
       "    </tr>\n",
       "    <tr>\n",
       "      <th>43</th>\n",
       "      <td>staehr</td>\n",
       "      <td>50.112262</td>\n",
       "    </tr>\n",
       "    <tr>\n",
       "      <th>21</th>\n",
       "      <td>magixx</td>\n",
       "      <td>46.444214</td>\n",
       "    </tr>\n",
       "    <tr>\n",
       "      <th>31</th>\n",
       "      <td>syrson</td>\n",
       "      <td>44.783212</td>\n",
       "    </tr>\n",
       "    <tr>\n",
       "      <th>7</th>\n",
       "      <td>ax1le</td>\n",
       "      <td>42.676455</td>\n",
       "    </tr>\n",
       "    <tr>\n",
       "      <th>17</th>\n",
       "      <td>flamez</td>\n",
       "      <td>41.348098</td>\n",
       "    </tr>\n",
       "    <tr>\n",
       "      <th>28</th>\n",
       "      <td>dycha</td>\n",
       "      <td>40.808758</td>\n",
       "    </tr>\n",
       "    <tr>\n",
       "      <th>27</th>\n",
       "      <td>maden</td>\n",
       "      <td>38.855172</td>\n",
       "    </tr>\n",
       "    <tr>\n",
       "      <th>42</th>\n",
       "      <td>zyphon</td>\n",
       "      <td>37.934411</td>\n",
       "    </tr>\n",
       "    <tr>\n",
       "      <th>35</th>\n",
       "      <td>rez</td>\n",
       "      <td>34.772541</td>\n",
       "    </tr>\n",
       "    <tr>\n",
       "      <th>3</th>\n",
       "      <td>saffee</td>\n",
       "      <td>34.047183</td>\n",
       "    </tr>\n",
       "    <tr>\n",
       "      <th>16</th>\n",
       "      <td>neofrag</td>\n",
       "      <td>32.255718</td>\n",
       "    </tr>\n",
       "    <tr>\n",
       "      <th>22</th>\n",
       "      <td>s1ren</td>\n",
       "      <td>30.587355</td>\n",
       "    </tr>\n",
       "    <tr>\n",
       "      <th>20</th>\n",
       "      <td>chopper</td>\n",
       "      <td>28.031289</td>\n",
       "    </tr>\n",
       "    <tr>\n",
       "      <th>13</th>\n",
       "      <td>roej</td>\n",
       "      <td>26.679876</td>\n",
       "    </tr>\n",
       "    <tr>\n",
       "      <th>11</th>\n",
       "      <td>fashr</td>\n",
       "      <td>23.147016</td>\n",
       "    </tr>\n",
       "    <tr>\n",
       "      <th>30</th>\n",
       "      <td>tabsen</td>\n",
       "      <td>23.083890</td>\n",
       "    </tr>\n",
       "    <tr>\n",
       "      <th>14</th>\n",
       "      <td>mezii</td>\n",
       "      <td>21.380587</td>\n",
       "    </tr>\n",
       "    <tr>\n",
       "      <th>32</th>\n",
       "      <td>k1to</td>\n",
       "      <td>20.902138</td>\n",
       "    </tr>\n",
       "    <tr>\n",
       "      <th>0</th>\n",
       "      <td>art</td>\n",
       "      <td>20.632308</td>\n",
       "    </tr>\n",
       "    <tr>\n",
       "      <th>4</th>\n",
       "      <td>drop</td>\n",
       "      <td>19.842672</td>\n",
       "    </tr>\n",
       "    <tr>\n",
       "      <th>26</th>\n",
       "      <td>valde</td>\n",
       "      <td>18.862974</td>\n",
       "    </tr>\n",
       "    <tr>\n",
       "      <th>38</th>\n",
       "      <td>brollan</td>\n",
       "      <td>15.382823</td>\n",
       "    </tr>\n",
       "  </tbody>\n",
       "</table>\n",
       "</div>"
      ],
      "text/plain": [
       "         name    pred pts\n",
       "8       sh1ro  136.206269\n",
       "2    kscerato  123.555741\n",
       "18    degster   72.199104\n",
       "5      hobbit   70.898322\n",
       "24  w0nderful   67.787518\n",
       "1      yuurih   67.153017\n",
       "29   sunpayus   62.827617\n",
       "23      patsi   51.930660\n",
       "43     staehr   50.112262\n",
       "21     magixx   46.444214\n",
       "31     syrson   44.783212\n",
       "7       ax1le   42.676455\n",
       "17     flamez   41.348098\n",
       "28      dycha   40.808758\n",
       "27      maden   38.855172\n",
       "42     zyphon   37.934411\n",
       "35        rez   34.772541\n",
       "3      saffee   34.047183\n",
       "16    neofrag   32.255718\n",
       "22      s1ren   30.587355\n",
       "20    chopper   28.031289\n",
       "13       roej   26.679876\n",
       "11      fashr   23.147016\n",
       "30     tabsen   23.083890\n",
       "14      mezii   21.380587\n",
       "32       k1to   20.902138\n",
       "0         art   20.632308\n",
       "4        drop   19.842672\n",
       "26      valde   18.862974\n",
       "38    brollan   15.382823"
      ]
     },
     "execution_count": 32,
     "metadata": {},
     "output_type": "execute_result"
    }
   ],
   "source": [
    "pred_df.head(30)"
   ]
  },
  {
   "cell_type": "code",
   "execution_count": 33,
   "id": "4c601c33",
   "metadata": {},
   "outputs": [
    {
     "name": "stdout",
     "output_type": "stream",
     "text": [
      "kscerato --> 123.55574116508535\n",
      "hobbit --> 70.89832166893422\n",
      "neofrag --> 32.25571800683787\n",
      "chopper --> 28.031288756892252\n",
      "k1to --> 20.902137638593672\n"
     ]
    }
   ],
   "source": [
    "for i in best:\n",
    "    print(f\"{players[i].name} --> {predicted[i]}\")"
   ]
  }
 ],
 "metadata": {
  "kernelspec": {
   "display_name": "Python 3 (ipykernel)",
   "language": "python",
   "name": "python3"
  },
  "language_info": {
   "codemirror_mode": {
    "name": "ipython",
    "version": 3
   },
   "file_extension": ".py",
   "mimetype": "text/x-python",
   "name": "python",
   "nbconvert_exporter": "python",
   "pygments_lexer": "ipython3",
   "version": "3.10.6"
  }
 },
 "nbformat": 4,
 "nbformat_minor": 5
}
