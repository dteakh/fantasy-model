{
 "cells": [
  {
   "cell_type": "code",
   "execution_count": 1,
   "metadata": {},
   "outputs": [],
   "source": [
    "import os\n",
    "from os.path import join, abspath\n",
    "\n",
    "import sys\n",
    "sys.path.append(abspath('..'))\n",
    "import pandas as pd\n",
    "import numpy as np\n",
    "\n",
    "from utils import get_dataset, get_target, Preprocessor\n",
    "\n",
    "import seaborn as sns\n",
    "import matplotlib.pyplot as plt\n",
    "\n",
    "from sklearn.linear_model import Ridge\n",
    "from sklearn.pipeline import Pipeline\n",
    "from sklearn.metrics import mean_squared_error\n",
    "\n",
    "from warnings import simplefilter\n",
    "simplefilter(\"ignore\")\n",
    "\n",
    "RANDOM_STATE = 25\n",
    "np.random.seed(RANDOM_STATE)\n",
    "\n",
    "EPS = 10e-3\n",
    "\n",
    "\n",
    "DATA_PATH = join(os.getcwd(), '..', 'data', 'events')"
   ]
  },
  {
   "cell_type": "markdown",
   "metadata": {
    "collapsed": false,
    "jupyter": {
     "outputs_hidden": false
    }
   },
   "source": [
    "## 1. Load dataset"
   ]
  },
  {
   "cell_type": "code",
   "execution_count": 2,
   "metadata": {
    "collapsed": false,
    "jupyter": {
     "outputs_hidden": false
    }
   },
   "outputs": [
    {
     "data": {
      "text/plain": [
       "6"
      ]
     },
     "execution_count": 2,
     "metadata": {},
     "output_type": "execute_result"
    }
   ],
   "source": [
    "event_keys = os.listdir(DATA_PATH)\n",
    "event_keys = [ek for ek in event_keys if ek.isdigit()]\n",
    "event_dirs = [join(DATA_PATH, ek) for ek in event_keys]\n",
    "len(event_dirs)"
   ]
  },
  {
   "cell_type": "code",
   "execution_count": 3,
   "metadata": {
    "collapsed": false,
    "jupyter": {
     "outputs_hidden": false
    }
   },
   "outputs": [
    {
     "name": "stdout",
     "output_type": "stream",
     "text": [
      "Player with id=20170 has no matching team_id.\n",
      "Player with id=13602 has no matching team_id.\n",
      "Player with id=16080 has no matching team_id.\n",
      "Player with id=18163 has no matching team_id.\n",
      "Player with id=21217 has no matching team_id.\n",
      "Player with id=16848 has no matching team_id.\n",
      "Player with id=21816 has no matching team_id.\n",
      "Player with id=13618 has no matching team_id.\n",
      "Player with id=15573 has no matching team_id.\n",
      "Player with id=19164 has no matching team_id.\n",
      "Player with id=16080 has no matching team_id.\n",
      "Player with id=11777 has no matching team_id.\n"
     ]
    }
   ],
   "source": [
    "teams, players = get_dataset(event_dirs)\n",
    "teams = teams.dropna()\n",
    "players = players.dropna()"
   ]
  },
  {
   "cell_type": "code",
   "execution_count": 4,
   "metadata": {
    "collapsed": false,
    "jupyter": {
     "outputs_hidden": false
    }
   },
   "outputs": [],
   "source": [
    "date_cols = [\"start_time\", \"end_time\", \"start_at\", \"ends_at\"]\n",
    "team_drop_cols = [\"event_fil\", \"ranking_fil\",\n",
    "                  \"is_lan\", \"is_qual\", \"prize_pool\", \"duration\", \"event_id\"]\n",
    "team_drop_cols += [f\"player_id_{i + 1}\" for i in range(5)]"
   ]
  },
  {
   "cell_type": "code",
   "execution_count": 5,
   "metadata": {
    "collapsed": false,
    "jupyter": {
     "outputs_hidden": false
    }
   },
   "outputs": [
    {
     "data": {
      "text/html": [
       "<div>\n",
       "<style scoped>\n",
       "    .dataframe tbody tr th:only-of-type {\n",
       "        vertical-align: middle;\n",
       "    }\n",
       "\n",
       "    .dataframe tbody tr th {\n",
       "        vertical-align: top;\n",
       "    }\n",
       "\n",
       "    .dataframe thead th {\n",
       "        text-align: right;\n",
       "    }\n",
       "</style>\n",
       "<table border=\"1\" class=\"dataframe\">\n",
       "  <thead>\n",
       "    <tr style=\"text-align: right;\">\n",
       "      <th></th>\n",
       "      <th>rating</th>\n",
       "      <th>dpr</th>\n",
       "      <th>kast</th>\n",
       "      <th>impact</th>\n",
       "      <th>adr</th>\n",
       "      <th>kpr</th>\n",
       "      <th>total_kills</th>\n",
       "      <th>hs</th>\n",
       "      <th>kd</th>\n",
       "      <th>gdr</th>\n",
       "      <th>...</th>\n",
       "      <th>avg_place</th>\n",
       "      <th>winrate</th>\n",
       "      <th>avg_match_intensity</th>\n",
       "      <th>avg_win_intensity</th>\n",
       "      <th>avg_loss_intensity</th>\n",
       "      <th>winstreak</th>\n",
       "      <th>matches_played</th>\n",
       "      <th>wr_target</th>\n",
       "      <th>team_name</th>\n",
       "      <th>target</th>\n",
       "    </tr>\n",
       "  </thead>\n",
       "  <tbody>\n",
       "    <tr>\n",
       "      <th>0</th>\n",
       "      <td>1.18</td>\n",
       "      <td>0.68</td>\n",
       "      <td>73.2</td>\n",
       "      <td>1.31</td>\n",
       "      <td>82.9</td>\n",
       "      <td>0.74</td>\n",
       "      <td>1591</td>\n",
       "      <td>56.2</td>\n",
       "      <td>1.09</td>\n",
       "      <td>6.6</td>\n",
       "      <td>...</td>\n",
       "      <td>5.281250</td>\n",
       "      <td>0.591837</td>\n",
       "      <td>1.453861</td>\n",
       "      <td>1.989617</td>\n",
       "      <td>0.677014</td>\n",
       "      <td>0</td>\n",
       "      <td>49</td>\n",
       "      <td>0.00</td>\n",
       "      <td>betboom</td>\n",
       "      <td>-6.50</td>\n",
       "    </tr>\n",
       "    <tr>\n",
       "      <th>1</th>\n",
       "      <td>1.18</td>\n",
       "      <td>0.68</td>\n",
       "      <td>73.2</td>\n",
       "      <td>1.31</td>\n",
       "      <td>82.9</td>\n",
       "      <td>0.74</td>\n",
       "      <td>1591</td>\n",
       "      <td>56.2</td>\n",
       "      <td>1.09</td>\n",
       "      <td>6.6</td>\n",
       "      <td>...</td>\n",
       "      <td>4.875000</td>\n",
       "      <td>0.500000</td>\n",
       "      <td>1.062761</td>\n",
       "      <td>1.409098</td>\n",
       "      <td>0.716424</td>\n",
       "      <td>2</td>\n",
       "      <td>16</td>\n",
       "      <td>0.00</td>\n",
       "      <td>betboom</td>\n",
       "      <td>-6.50</td>\n",
       "    </tr>\n",
       "    <tr>\n",
       "      <th>2</th>\n",
       "      <td>1.18</td>\n",
       "      <td>0.68</td>\n",
       "      <td>73.2</td>\n",
       "      <td>1.31</td>\n",
       "      <td>82.9</td>\n",
       "      <td>0.74</td>\n",
       "      <td>1591</td>\n",
       "      <td>56.2</td>\n",
       "      <td>1.09</td>\n",
       "      <td>6.6</td>\n",
       "      <td>...</td>\n",
       "      <td>4.800000</td>\n",
       "      <td>0.512821</td>\n",
       "      <td>1.373098</td>\n",
       "      <td>2.027451</td>\n",
       "      <td>0.684306</td>\n",
       "      <td>0</td>\n",
       "      <td>39</td>\n",
       "      <td>0.00</td>\n",
       "      <td>betboom</td>\n",
       "      <td>-6.50</td>\n",
       "    </tr>\n",
       "    <tr>\n",
       "      <th>3</th>\n",
       "      <td>1.18</td>\n",
       "      <td>0.68</td>\n",
       "      <td>73.2</td>\n",
       "      <td>1.31</td>\n",
       "      <td>82.9</td>\n",
       "      <td>0.74</td>\n",
       "      <td>1591</td>\n",
       "      <td>56.2</td>\n",
       "      <td>1.09</td>\n",
       "      <td>6.6</td>\n",
       "      <td>...</td>\n",
       "      <td>4.875000</td>\n",
       "      <td>0.619048</td>\n",
       "      <td>1.160991</td>\n",
       "      <td>1.434571</td>\n",
       "      <td>0.716424</td>\n",
       "      <td>4</td>\n",
       "      <td>21</td>\n",
       "      <td>0.00</td>\n",
       "      <td>betboom</td>\n",
       "      <td>-6.50</td>\n",
       "    </tr>\n",
       "    <tr>\n",
       "      <th>4</th>\n",
       "      <td>1.18</td>\n",
       "      <td>0.68</td>\n",
       "      <td>73.2</td>\n",
       "      <td>1.31</td>\n",
       "      <td>82.9</td>\n",
       "      <td>0.74</td>\n",
       "      <td>1591</td>\n",
       "      <td>56.2</td>\n",
       "      <td>1.09</td>\n",
       "      <td>6.6</td>\n",
       "      <td>...</td>\n",
       "      <td>14.500000</td>\n",
       "      <td>0.600000</td>\n",
       "      <td>0.977839</td>\n",
       "      <td>1.183785</td>\n",
       "      <td>0.668919</td>\n",
       "      <td>1</td>\n",
       "      <td>5</td>\n",
       "      <td>0.00</td>\n",
       "      <td>betboom</td>\n",
       "      <td>-6.50</td>\n",
       "    </tr>\n",
       "    <tr>\n",
       "      <th>...</th>\n",
       "      <td>...</td>\n",
       "      <td>...</td>\n",
       "      <td>...</td>\n",
       "      <td>...</td>\n",
       "      <td>...</td>\n",
       "      <td>...</td>\n",
       "      <td>...</td>\n",
       "      <td>...</td>\n",
       "      <td>...</td>\n",
       "      <td>...</td>\n",
       "      <td>...</td>\n",
       "      <td>...</td>\n",
       "      <td>...</td>\n",
       "      <td>...</td>\n",
       "      <td>...</td>\n",
       "      <td>...</td>\n",
       "      <td>...</td>\n",
       "      <td>...</td>\n",
       "      <td>...</td>\n",
       "      <td>...</td>\n",
       "      <td>...</td>\n",
       "    </tr>\n",
       "    <tr>\n",
       "      <th>631687</th>\n",
       "      <td>1.03</td>\n",
       "      <td>0.70</td>\n",
       "      <td>70.8</td>\n",
       "      <td>1.09</td>\n",
       "      <td>70.8</td>\n",
       "      <td>0.66</td>\n",
       "      <td>150</td>\n",
       "      <td>61.3</td>\n",
       "      <td>0.95</td>\n",
       "      <td>4.3</td>\n",
       "      <td>...</td>\n",
       "      <td>8.333333</td>\n",
       "      <td>0.473684</td>\n",
       "      <td>1.150189</td>\n",
       "      <td>1.670708</td>\n",
       "      <td>0.681721</td>\n",
       "      <td>0</td>\n",
       "      <td>19</td>\n",
       "      <td>0.25</td>\n",
       "      <td>fnatic</td>\n",
       "      <td>-7.75</td>\n",
       "    </tr>\n",
       "    <tr>\n",
       "      <th>631688</th>\n",
       "      <td>1.03</td>\n",
       "      <td>0.70</td>\n",
       "      <td>70.8</td>\n",
       "      <td>1.09</td>\n",
       "      <td>70.8</td>\n",
       "      <td>0.66</td>\n",
       "      <td>150</td>\n",
       "      <td>61.3</td>\n",
       "      <td>0.95</td>\n",
       "      <td>4.3</td>\n",
       "      <td>...</td>\n",
       "      <td>14.500000</td>\n",
       "      <td>0.600000</td>\n",
       "      <td>1.564998</td>\n",
       "      <td>2.133971</td>\n",
       "      <td>0.711538</td>\n",
       "      <td>2</td>\n",
       "      <td>5</td>\n",
       "      <td>0.25</td>\n",
       "      <td>fnatic</td>\n",
       "      <td>-7.75</td>\n",
       "    </tr>\n",
       "    <tr>\n",
       "      <th>631754</th>\n",
       "      <td>1.03</td>\n",
       "      <td>0.70</td>\n",
       "      <td>70.8</td>\n",
       "      <td>1.09</td>\n",
       "      <td>70.8</td>\n",
       "      <td>0.66</td>\n",
       "      <td>150</td>\n",
       "      <td>61.3</td>\n",
       "      <td>0.95</td>\n",
       "      <td>4.3</td>\n",
       "      <td>...</td>\n",
       "      <td>8.150000</td>\n",
       "      <td>0.538462</td>\n",
       "      <td>1.421059</td>\n",
       "      <td>2.080737</td>\n",
       "      <td>0.651434</td>\n",
       "      <td>1</td>\n",
       "      <td>26</td>\n",
       "      <td>0.25</td>\n",
       "      <td>fnatic</td>\n",
       "      <td>-7.75</td>\n",
       "    </tr>\n",
       "    <tr>\n",
       "      <th>631755</th>\n",
       "      <td>1.03</td>\n",
       "      <td>0.70</td>\n",
       "      <td>70.8</td>\n",
       "      <td>1.09</td>\n",
       "      <td>70.8</td>\n",
       "      <td>0.66</td>\n",
       "      <td>150</td>\n",
       "      <td>61.3</td>\n",
       "      <td>0.95</td>\n",
       "      <td>4.3</td>\n",
       "      <td>...</td>\n",
       "      <td>8.333333</td>\n",
       "      <td>0.473684</td>\n",
       "      <td>1.150189</td>\n",
       "      <td>1.670708</td>\n",
       "      <td>0.681721</td>\n",
       "      <td>0</td>\n",
       "      <td>19</td>\n",
       "      <td>0.25</td>\n",
       "      <td>fnatic</td>\n",
       "      <td>-7.75</td>\n",
       "    </tr>\n",
       "    <tr>\n",
       "      <th>631756</th>\n",
       "      <td>1.03</td>\n",
       "      <td>0.70</td>\n",
       "      <td>70.8</td>\n",
       "      <td>1.09</td>\n",
       "      <td>70.8</td>\n",
       "      <td>0.66</td>\n",
       "      <td>150</td>\n",
       "      <td>61.3</td>\n",
       "      <td>0.95</td>\n",
       "      <td>4.3</td>\n",
       "      <td>...</td>\n",
       "      <td>14.500000</td>\n",
       "      <td>0.600000</td>\n",
       "      <td>1.564998</td>\n",
       "      <td>2.133971</td>\n",
       "      <td>0.711538</td>\n",
       "      <td>2</td>\n",
       "      <td>5</td>\n",
       "      <td>0.25</td>\n",
       "      <td>fnatic</td>\n",
       "      <td>-7.75</td>\n",
       "    </tr>\n",
       "  </tbody>\n",
       "</table>\n",
       "<p>26343 rows × 41 columns</p>\n",
       "</div>"
      ],
      "text/plain": [
       "        rating   dpr  kast  impact   adr   kpr total_kills    hs    kd  gdr  \\\n",
       "0         1.18  0.68  73.2    1.31  82.9  0.74        1591  56.2  1.09  6.6   \n",
       "1         1.18  0.68  73.2    1.31  82.9  0.74        1591  56.2  1.09  6.6   \n",
       "2         1.18  0.68  73.2    1.31  82.9  0.74        1591  56.2  1.09  6.6   \n",
       "3         1.18  0.68  73.2    1.31  82.9  0.74        1591  56.2  1.09  6.6   \n",
       "4         1.18  0.68  73.2    1.31  82.9  0.74        1591  56.2  1.09  6.6   \n",
       "...        ...   ...   ...     ...   ...   ...         ...   ...   ...  ...   \n",
       "631687    1.03  0.70  70.8    1.09  70.8  0.66         150  61.3  0.95  4.3   \n",
       "631688    1.03  0.70  70.8    1.09  70.8  0.66         150  61.3  0.95  4.3   \n",
       "631754    1.03  0.70  70.8    1.09  70.8  0.66         150  61.3  0.95  4.3   \n",
       "631755    1.03  0.70  70.8    1.09  70.8  0.66         150  61.3  0.95  4.3   \n",
       "631756    1.03  0.70  70.8    1.09  70.8  0.66         150  61.3  0.95  4.3   \n",
       "\n",
       "        ...  avg_place   winrate  avg_match_intensity  avg_win_intensity  \\\n",
       "0       ...   5.281250  0.591837             1.453861           1.989617   \n",
       "1       ...   4.875000  0.500000             1.062761           1.409098   \n",
       "2       ...   4.800000  0.512821             1.373098           2.027451   \n",
       "3       ...   4.875000  0.619048             1.160991           1.434571   \n",
       "4       ...  14.500000  0.600000             0.977839           1.183785   \n",
       "...     ...        ...       ...                  ...                ...   \n",
       "631687  ...   8.333333  0.473684             1.150189           1.670708   \n",
       "631688  ...  14.500000  0.600000             1.564998           2.133971   \n",
       "631754  ...   8.150000  0.538462             1.421059           2.080737   \n",
       "631755  ...   8.333333  0.473684             1.150189           1.670708   \n",
       "631756  ...  14.500000  0.600000             1.564998           2.133971   \n",
       "\n",
       "        avg_loss_intensity  winstreak matches_played wr_target team_name  \\\n",
       "0                 0.677014          0             49      0.00   betboom   \n",
       "1                 0.716424          2             16      0.00   betboom   \n",
       "2                 0.684306          0             39      0.00   betboom   \n",
       "3                 0.716424          4             21      0.00   betboom   \n",
       "4                 0.668919          1              5      0.00   betboom   \n",
       "...                    ...        ...            ...       ...       ...   \n",
       "631687            0.681721          0             19      0.25    fnatic   \n",
       "631688            0.711538          2              5      0.25    fnatic   \n",
       "631754            0.651434          1             26      0.25    fnatic   \n",
       "631755            0.681721          0             19      0.25    fnatic   \n",
       "631756            0.711538          2              5      0.25    fnatic   \n",
       "\n",
       "       target  \n",
       "0       -6.50  \n",
       "1       -6.50  \n",
       "2       -6.50  \n",
       "3       -6.50  \n",
       "4       -6.50  \n",
       "...       ...  \n",
       "631687  -7.75  \n",
       "631688  -7.75  \n",
       "631754  -7.75  \n",
       "631755  -7.75  \n",
       "631756  -7.75  \n",
       "\n",
       "[26343 rows x 41 columns]"
      ]
     },
     "execution_count": 5,
     "metadata": {},
     "output_type": "execute_result"
    }
   ],
   "source": [
    "df = players.drop(date_cols, axis=1).merge(teams.drop(team_drop_cols + date_cols, axis=1), on=\"team_id\").drop_duplicates()\n",
    "df[\"target\"] = get_target(df.expected_pts_target, df.wr_target)\n",
    "df"
   ]
  },
  {
   "cell_type": "markdown",
   "metadata": {
    "collapsed": false,
    "jupyter": {
     "outputs_hidden": false
    }
   },
   "source": [
    "## 2. Modelling"
   ]
  },
  {
   "cell_type": "code",
   "execution_count": 6,
   "metadata": {
    "collapsed": false,
    "jupyter": {
     "outputs_hidden": false
    }
   },
   "outputs": [
    {
     "data": {
      "text/plain": [
       "['7755', '7553', '7437', '7148', '7440', '6976']"
      ]
     },
     "execution_count": 6,
     "metadata": {},
     "output_type": "execute_result"
    }
   ],
   "source": [
    "event_keys"
   ]
  },
  {
   "cell_type": "code",
   "execution_count": 7,
   "metadata": {
    "collapsed": false,
    "jupyter": {
     "outputs_hidden": false
    }
   },
   "outputs": [],
   "source": [
    "train_events = [7755, 7440, 7437, 6976, 7553]\n",
    "test_events = [int(ek) for ek in event_keys if int(ek) not in train_events]"
   ]
  },
  {
   "cell_type": "code",
   "execution_count": 8,
   "metadata": {
    "collapsed": false,
    "jupyter": {
     "outputs_hidden": false
    }
   },
   "outputs": [],
   "source": [
    "target_col = [\"target\"]\n",
    "\n",
    "drop_cols = [\"event_id\", \"player_id\", \"team_id\", \"team_name\", \"player_name\", # meta\n",
    "             \"duration\", \"maps_played\", \"kpr\",                               # correlated\n",
    "             \"wr_target\", \"expected_pts_target\",                             # unknown values\n",
    "             \"event_fil\"] + target_col\n",
    "\n",
    "cat_cols = [\"ranking_fil\"]\n",
    "bin_cols = [\"has_roster_change\", \"is_lan\", \"is_qual\", \"is_awp\"]\n",
    "\n",
    "df[bin_cols] = df[bin_cols].astype(np.float64)\n",
    "df[target_col] = df[target_col].astype(np.float64)"
   ]
  },
  {
   "cell_type": "code",
   "execution_count": 9,
   "metadata": {
    "collapsed": false,
    "jupyter": {
     "outputs_hidden": false
    }
   },
   "outputs": [],
   "source": [
    "train = df[df.event_id.isin(train_events)].sample(frac=1).reset_index(drop=True)\n",
    "test = df[df.event_id.isin(test_events)].sample(frac=1).reset_index(drop=True)\n",
    "\n",
    "X_train, y_train = train.drop(drop_cols, axis=1), train[target_col].astype(np.float64)\n",
    "X_test, y_test = test.drop(drop_cols, axis=1), test[target_col].astype(np.float64)"
   ]
  },
  {
   "cell_type": "code",
   "execution_count": 10,
   "metadata": {},
   "outputs": [
    {
     "data": {
      "text/plain": [
       "Index(['rating', 'dpr', 'kast', 'impact', 'adr', 'total_kills', 'hs', 'kd',\n",
       "       'gdr', 'avg_rounds_played', 'apr', '1v1_wr', 'opening_ratio',\n",
       "       'opening_rating', 'is_awp', 'ranking_fil', 'is_lan', 'is_qual',\n",
       "       'prize_pool', 'has_roster_change', 'world_ranking', 'points',\n",
       "       'avg_place', 'winrate', 'avg_match_intensity', 'avg_win_intensity',\n",
       "       'avg_loss_intensity', 'winstreak', 'matches_played'],\n",
       "      dtype='object')"
      ]
     },
     "execution_count": 10,
     "metadata": {},
     "output_type": "execute_result"
    }
   ],
   "source": [
    "X_test.columns"
   ]
  },
  {
   "cell_type": "code",
   "execution_count": 11,
   "metadata": {},
   "outputs": [
    {
     "data": {
      "text/plain": [
       "Index(['rating', 'dpr', 'kast', 'impact', 'adr', 'total_kills', 'hs', 'kd',\n",
       "       'gdr', 'avg_rounds_played', 'apr', '1v1_wr', 'opening_ratio',\n",
       "       'opening_rating', 'is_awp', 'ranking_fil', 'is_lan', 'is_qual',\n",
       "       'prize_pool', 'has_roster_change', 'world_ranking', 'points',\n",
       "       'avg_place', 'winrate', 'avg_match_intensity', 'avg_win_intensity',\n",
       "       'avg_loss_intensity', 'winstreak', 'matches_played'],\n",
       "      dtype='object')"
      ]
     },
     "execution_count": 11,
     "metadata": {},
     "output_type": "execute_result"
    }
   ],
   "source": [
    "X_train.columns"
   ]
  },
  {
   "cell_type": "code",
   "execution_count": 12,
   "metadata": {
    "collapsed": false,
    "jupyter": {
     "outputs_hidden": false
    }
   },
   "outputs": [],
   "source": [
    "pipe = Pipeline([\n",
    "    (\"preprocessor\", Preprocessor(cat_cols=cat_cols, bin_cols=bin_cols)),\n",
    "    (\"estimator\", Ridge(alpha=1))\n",
    "])"
   ]
  },
  {
   "cell_type": "code",
   "execution_count": 13,
   "metadata": {
    "collapsed": false,
    "jupyter": {
     "outputs_hidden": false
    }
   },
   "outputs": [],
   "source": [
    "pipe.fit(X_train, y_train)\n",
    "y_preds = pipe.predict(X_test)"
   ]
  },
  {
   "cell_type": "code",
   "execution_count": 14,
   "metadata": {
    "collapsed": false,
    "jupyter": {
     "outputs_hidden": false
    }
   },
   "outputs": [
    {
     "data": {
      "image/png": "[encoded data removed]",
      "text/plain": [
       "<Figure size 640x480 with 2 Axes>"
      ]
     },
     "metadata": {},
     "output_type": "display_data"
    }
   ],
   "source": [
    "p = Preprocessor(cat_cols=cat_cols, bin_cols=bin_cols)\n",
    "p.fit(X_train, y_train)\n",
    "X_train_prep = p.transform(X_train)\n",
    "\n",
    "sns.heatmap(X_train_prep.corr());"
   ]
  },
  {
   "cell_type": "code",
   "execution_count": 15,
   "metadata": {
    "collapsed": false,
    "jupyter": {
     "outputs_hidden": false
    }
   },
   "outputs": [],
   "source": [
    "n = 15"
   ]
  },
  {
   "cell_type": "code",
   "execution_count": 16,
   "metadata": {
    "collapsed": false,
    "jupyter": {
     "outputs_hidden": false
    }
   },
   "outputs": [
    {
     "data": {
      "image/png": "[encoded data removed]",
      "text/plain": [
       "<Figure size 640x480 with 1 Axes>"
      ]
     },
     "metadata": {},
     "output_type": "display_data"
    }
   ],
   "source": [
    "idx = np.argsort(pipe[\"estimator\"].coef_.ravel())[:n]\n",
    "sns.barplot(x=pipe[\"estimator\"].coef_.ravel()[idx],\n",
    "            y=pipe[\"preprocessor\"].features.ravel()[idx]);"
   ]
  },
  {
   "cell_type": "code",
   "execution_count": 17,
   "metadata": {
    "collapsed": false,
    "jupyter": {
     "outputs_hidden": false
    }
   },
   "outputs": [
    {
     "data": {
      "image/png": "[encoded data removed]",
      "text/plain": [
       "<Figure size 640x480 with 1 Axes>"
      ]
     },
     "metadata": {},
     "output_type": "display_data"
    }
   ],
   "source": [
    "idx = np.argsort(pipe[\"estimator\"].coef_.ravel())[::-1][:n]\n",
    "sns.barplot(x=pipe[\"estimator\"].coef_.ravel()[idx],\n",
    "            y=pipe[\"preprocessor\"].features.ravel()[idx]);"
   ]
  },
  {
   "cell_type": "code",
   "execution_count": 18,
   "metadata": {
    "collapsed": false,
    "jupyter": {
     "outputs_hidden": false
    }
   },
   "outputs": [
    {
     "data": {
      "text/html": [
       "<div>\n",
       "<style scoped>\n",
       "    .dataframe tbody tr th:only-of-type {\n",
       "        vertical-align: middle;\n",
       "    }\n",
       "\n",
       "    .dataframe tbody tr th {\n",
       "        vertical-align: top;\n",
       "    }\n",
       "\n",
       "    .dataframe thead th {\n",
       "        text-align: right;\n",
       "    }\n",
       "</style>\n",
       "<table border=\"1\" class=\"dataframe\">\n",
       "  <thead>\n",
       "    <tr style=\"text-align: right;\">\n",
       "      <th></th>\n",
       "      <th>target</th>\n",
       "      <th>team_name</th>\n",
       "      <th>pred_target</th>\n",
       "    </tr>\n",
       "    <tr>\n",
       "      <th>player_name</th>\n",
       "      <th></th>\n",
       "      <th></th>\n",
       "      <th></th>\n",
       "    </tr>\n",
       "  </thead>\n",
       "  <tbody>\n",
       "    <tr>\n",
       "      <th>donk</th>\n",
       "      <td>22.750000</td>\n",
       "      <td>spirit</td>\n",
       "      <td>34.587601</td>\n",
       "    </tr>\n",
       "    <tr>\n",
       "      <th>torzsi</th>\n",
       "      <td>19.000000</td>\n",
       "      <td>mouz</td>\n",
       "      <td>16.103122</td>\n",
       "    </tr>\n",
       "    <tr>\n",
       "      <th>m0nesy</th>\n",
       "      <td>18.000000</td>\n",
       "      <td>g2</td>\n",
       "      <td>21.248849</td>\n",
       "    </tr>\n",
       "    <tr>\n",
       "      <th>brollan</th>\n",
       "      <td>17.750000</td>\n",
       "      <td>mouz</td>\n",
       "      <td>21.105244</td>\n",
       "    </tr>\n",
       "    <tr>\n",
       "      <th>sh1ro</th>\n",
       "      <td>17.000000</td>\n",
       "      <td>spirit</td>\n",
       "      <td>31.396750</td>\n",
       "    </tr>\n",
       "    <tr>\n",
       "      <th>jimpphat</th>\n",
       "      <td>17.000000</td>\n",
       "      <td>mouz</td>\n",
       "      <td>18.571715</td>\n",
       "    </tr>\n",
       "    <tr>\n",
       "      <th>flamez</th>\n",
       "      <td>13.666667</td>\n",
       "      <td>vitality</td>\n",
       "      <td>14.996355</td>\n",
       "    </tr>\n",
       "    <tr>\n",
       "      <th>jl</th>\n",
       "      <td>13.250000</td>\n",
       "      <td>natus-vincere</td>\n",
       "      <td>18.267347</td>\n",
       "    </tr>\n",
       "    <tr>\n",
       "      <th>spinx</th>\n",
       "      <td>12.833333</td>\n",
       "      <td>vitality</td>\n",
       "      <td>16.824644</td>\n",
       "    </tr>\n",
       "    <tr>\n",
       "      <th>ax1le</th>\n",
       "      <td>12.600000</td>\n",
       "      <td>cloud9</td>\n",
       "      <td>20.813379</td>\n",
       "    </tr>\n",
       "  </tbody>\n",
       "</table>\n",
       "</div>"
      ],
      "text/plain": [
       "                target      team_name  pred_target\n",
       "player_name                                       \n",
       "donk         22.750000         spirit    34.587601\n",
       "torzsi       19.000000           mouz    16.103122\n",
       "m0nesy       18.000000             g2    21.248849\n",
       "brollan      17.750000           mouz    21.105244\n",
       "sh1ro        17.000000         spirit    31.396750\n",
       "jimpphat     17.000000           mouz    18.571715\n",
       "flamez       13.666667       vitality    14.996355\n",
       "jl           13.250000  natus-vincere    18.267347\n",
       "spinx        12.833333       vitality    16.824644\n",
       "ax1le        12.600000         cloud9    20.813379"
      ]
     },
     "execution_count": 18,
     "metadata": {},
     "output_type": "execute_result"
    }
   ],
   "source": [
    "final = test[target_col + [\"team_name\", \"player_name\"]]\n",
    "final[\"pred_target\"] = y_preds\n",
    "final = final.groupby([\"player_name\"]).max()\n",
    "final.sort_values([\"target\"], ascending=False).head(10)"
   ]
  },
  {
   "cell_type": "code",
   "execution_count": 19,
   "metadata": {
    "collapsed": false,
    "jupyter": {
     "outputs_hidden": false
    }
   },
   "outputs": [
    {
     "data": {
      "text/html": [
       "<div>\n",
       "<style scoped>\n",
       "    .dataframe tbody tr th:only-of-type {\n",
       "        vertical-align: middle;\n",
       "    }\n",
       "\n",
       "    .dataframe tbody tr th {\n",
       "        vertical-align: top;\n",
       "    }\n",
       "\n",
       "    .dataframe thead th {\n",
       "        text-align: right;\n",
       "    }\n",
       "</style>\n",
       "<table border=\"1\" class=\"dataframe\">\n",
       "  <thead>\n",
       "    <tr style=\"text-align: right;\">\n",
       "      <th></th>\n",
       "      <th>target</th>\n",
       "      <th>team_name</th>\n",
       "      <th>pred_target</th>\n",
       "    </tr>\n",
       "    <tr>\n",
       "      <th>player_name</th>\n",
       "      <th></th>\n",
       "      <th></th>\n",
       "      <th></th>\n",
       "    </tr>\n",
       "  </thead>\n",
       "  <tbody>\n",
       "    <tr>\n",
       "      <th>donk</th>\n",
       "      <td>22.750000</td>\n",
       "      <td>spirit</td>\n",
       "      <td>34.587601</td>\n",
       "    </tr>\n",
       "    <tr>\n",
       "      <th>sh1ro</th>\n",
       "      <td>17.000000</td>\n",
       "      <td>spirit</td>\n",
       "      <td>31.396750</td>\n",
       "    </tr>\n",
       "    <tr>\n",
       "      <th>zont1x</th>\n",
       "      <td>10.500000</td>\n",
       "      <td>spirit</td>\n",
       "      <td>25.464613</td>\n",
       "    </tr>\n",
       "    <tr>\n",
       "      <th>magixx</th>\n",
       "      <td>10.250000</td>\n",
       "      <td>spirit</td>\n",
       "      <td>23.572400</td>\n",
       "    </tr>\n",
       "    <tr>\n",
       "      <th>chopper</th>\n",
       "      <td>7.500000</td>\n",
       "      <td>spirit</td>\n",
       "      <td>21.457711</td>\n",
       "    </tr>\n",
       "    <tr>\n",
       "      <th>m0nesy</th>\n",
       "      <td>18.000000</td>\n",
       "      <td>g2</td>\n",
       "      <td>21.248849</td>\n",
       "    </tr>\n",
       "    <tr>\n",
       "      <th>brollan</th>\n",
       "      <td>17.750000</td>\n",
       "      <td>mouz</td>\n",
       "      <td>21.105244</td>\n",
       "    </tr>\n",
       "    <tr>\n",
       "      <th>zywoo</th>\n",
       "      <td>12.166667</td>\n",
       "      <td>vitality</td>\n",
       "      <td>21.061585</td>\n",
       "    </tr>\n",
       "    <tr>\n",
       "      <th>ax1le</th>\n",
       "      <td>12.600000</td>\n",
       "      <td>cloud9</td>\n",
       "      <td>20.813379</td>\n",
       "    </tr>\n",
       "    <tr>\n",
       "      <th>xertion</th>\n",
       "      <td>12.000000</td>\n",
       "      <td>mouz</td>\n",
       "      <td>19.736262</td>\n",
       "    </tr>\n",
       "  </tbody>\n",
       "</table>\n",
       "</div>"
      ],
      "text/plain": [
       "                target team_name  pred_target\n",
       "player_name                                  \n",
       "donk         22.750000    spirit    34.587601\n",
       "sh1ro        17.000000    spirit    31.396750\n",
       "zont1x       10.500000    spirit    25.464613\n",
       "magixx       10.250000    spirit    23.572400\n",
       "chopper       7.500000    spirit    21.457711\n",
       "m0nesy       18.000000        g2    21.248849\n",
       "brollan      17.750000      mouz    21.105244\n",
       "zywoo        12.166667  vitality    21.061585\n",
       "ax1le        12.600000    cloud9    20.813379\n",
       "xertion      12.000000      mouz    19.736262"
      ]
     },
     "execution_count": 19,
     "metadata": {},
     "output_type": "execute_result"
    }
   ],
   "source": [
    "final.sort_values([\"pred_target\"], ascending=False).head(10)"
   ]
  },
  {
   "cell_type": "code",
   "execution_count": 20,
   "metadata": {},
   "outputs": [],
   "source": [
    "final['pred_target'] *= y_test.max()[0] / final['pred_target'].max()"
   ]
  },
  {
   "cell_type": "code",
   "execution_count": 21,
   "metadata": {},
   "outputs": [
    {
     "data": {
      "text/html": [
       "<div>\n",
       "<style scoped>\n",
       "    .dataframe tbody tr th:only-of-type {\n",
       "        vertical-align: middle;\n",
       "    }\n",
       "\n",
       "    .dataframe tbody tr th {\n",
       "        vertical-align: top;\n",
       "    }\n",
       "\n",
       "    .dataframe thead th {\n",
       "        text-align: right;\n",
       "    }\n",
       "</style>\n",
       "<table border=\"1\" class=\"dataframe\">\n",
       "  <thead>\n",
       "    <tr style=\"text-align: right;\">\n",
       "      <th></th>\n",
       "      <th>target</th>\n",
       "      <th>team_name</th>\n",
       "      <th>pred_target</th>\n",
       "    </tr>\n",
       "    <tr>\n",
       "      <th>player_name</th>\n",
       "      <th></th>\n",
       "      <th></th>\n",
       "      <th></th>\n",
       "    </tr>\n",
       "  </thead>\n",
       "  <tbody>\n",
       "    <tr>\n",
       "      <th>donk</th>\n",
       "      <td>22.750000</td>\n",
       "      <td>spirit</td>\n",
       "      <td>22.750000</td>\n",
       "    </tr>\n",
       "    <tr>\n",
       "      <th>sh1ro</th>\n",
       "      <td>17.000000</td>\n",
       "      <td>spirit</td>\n",
       "      <td>20.651217</td>\n",
       "    </tr>\n",
       "    <tr>\n",
       "      <th>zont1x</th>\n",
       "      <td>10.500000</td>\n",
       "      <td>spirit</td>\n",
       "      <td>16.749353</td>\n",
       "    </tr>\n",
       "    <tr>\n",
       "      <th>magixx</th>\n",
       "      <td>10.250000</td>\n",
       "      <td>spirit</td>\n",
       "      <td>15.504749</td>\n",
       "    </tr>\n",
       "    <tr>\n",
       "      <th>chopper</th>\n",
       "      <td>7.500000</td>\n",
       "      <td>spirit</td>\n",
       "      <td>14.113813</td>\n",
       "    </tr>\n",
       "    <tr>\n",
       "      <th>m0nesy</th>\n",
       "      <td>18.000000</td>\n",
       "      <td>g2</td>\n",
       "      <td>13.976434</td>\n",
       "    </tr>\n",
       "    <tr>\n",
       "      <th>brollan</th>\n",
       "      <td>17.750000</td>\n",
       "      <td>mouz</td>\n",
       "      <td>13.881978</td>\n",
       "    </tr>\n",
       "    <tr>\n",
       "      <th>zywoo</th>\n",
       "      <td>12.166667</td>\n",
       "      <td>vitality</td>\n",
       "      <td>13.853261</td>\n",
       "    </tr>\n",
       "    <tr>\n",
       "      <th>ax1le</th>\n",
       "      <td>12.600000</td>\n",
       "      <td>cloud9</td>\n",
       "      <td>13.690003</td>\n",
       "    </tr>\n",
       "    <tr>\n",
       "      <th>xertion</th>\n",
       "      <td>12.000000</td>\n",
       "      <td>mouz</td>\n",
       "      <td>12.981529</td>\n",
       "    </tr>\n",
       "    <tr>\n",
       "      <th>jimpphat</th>\n",
       "      <td>17.000000</td>\n",
       "      <td>mouz</td>\n",
       "      <td>12.215549</td>\n",
       "    </tr>\n",
       "    <tr>\n",
       "      <th>jl</th>\n",
       "      <td>13.250000</td>\n",
       "      <td>natus-vincere</td>\n",
       "      <td>12.015351</td>\n",
       "    </tr>\n",
       "  </tbody>\n",
       "</table>\n",
       "</div>"
      ],
      "text/plain": [
       "                target      team_name  pred_target\n",
       "player_name                                       \n",
       "donk         22.750000         spirit    22.750000\n",
       "sh1ro        17.000000         spirit    20.651217\n",
       "zont1x       10.500000         spirit    16.749353\n",
       "magixx       10.250000         spirit    15.504749\n",
       "chopper       7.500000         spirit    14.113813\n",
       "m0nesy       18.000000             g2    13.976434\n",
       "brollan      17.750000           mouz    13.881978\n",
       "zywoo        12.166667       vitality    13.853261\n",
       "ax1le        12.600000         cloud9    13.690003\n",
       "xertion      12.000000           mouz    12.981529\n",
       "jimpphat     17.000000           mouz    12.215549\n",
       "jl           13.250000  natus-vincere    12.015351"
      ]
     },
     "execution_count": 21,
     "metadata": {},
     "output_type": "execute_result"
    }
   ],
   "source": [
    "final.sort_values([\"pred_target\"], ascending=False).head(12)"
   ]
  },
  {
   "cell_type": "code",
   "execution_count": 22,
   "metadata": {},
   "outputs": [
    {
     "data": {
      "text/html": [
       "<div>\n",
       "<style scoped>\n",
       "    .dataframe tbody tr th:only-of-type {\n",
       "        vertical-align: middle;\n",
       "    }\n",
       "\n",
       "    .dataframe tbody tr th {\n",
       "        vertical-align: top;\n",
       "    }\n",
       "\n",
       "    .dataframe thead th {\n",
       "        text-align: right;\n",
       "    }\n",
       "</style>\n",
       "<table border=\"1\" class=\"dataframe\">\n",
       "  <thead>\n",
       "    <tr style=\"text-align: right;\">\n",
       "      <th></th>\n",
       "      <th>mse</th>\n",
       "      <th>mae</th>\n",
       "      <th>ndcg</th>\n",
       "    </tr>\n",
       "  </thead>\n",
       "  <tbody>\n",
       "    <tr>\n",
       "      <th>0</th>\n",
       "      <td>24.250655</td>\n",
       "      <td>3.965197</td>\n",
       "      <td>0.941487</td>\n",
       "    </tr>\n",
       "  </tbody>\n",
       "</table>\n",
       "</div>"
      ],
      "text/plain": [
       "         mse       mae      ndcg\n",
       "0  24.250655  3.965197  0.941487"
      ]
     },
     "execution_count": 22,
     "metadata": {},
     "output_type": "execute_result"
    }
   ],
   "source": [
    "from utils import validate\n",
    "\n",
    "validate(y_test.values, y_preds)"
   ]
  },
  {
   "cell_type": "code",
   "execution_count": null,
   "metadata": {},
   "outputs": [],
   "source": []
  }
 ],
 "metadata": {
  "kernelspec": {
   "display_name": "Python 3 (ipykernel)",
   "language": "python",
   "name": "python3"
  },
  "language_info": {
   "codemirror_mode": {
    "name": "ipython",
    "version": 3
   },
   "file_extension": ".py",
   "mimetype": "text/x-python",
   "name": "python",
   "nbconvert_exporter": "python",
   "pygments_lexer": "ipython3",
   "version": "3.10.12"
  }
 },
 "nbformat": 4,
 "nbformat_minor": 4
}
