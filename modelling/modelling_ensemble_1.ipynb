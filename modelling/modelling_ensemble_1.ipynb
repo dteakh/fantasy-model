{
 "cells": [
  {
   "cell_type": "code",
   "execution_count": 1,
   "metadata": {},
   "outputs": [],
   "source": [
    "import os\n",
    "from os.path import join, abspath\n",
    "\n",
    "import sys\n",
    "sys.path.append(abspath('..'))\n",
    "import pandas as pd\n",
    "import numpy as np\n",
    "\n",
    "from utils import get_dataset, get_target, Preprocessor\n",
    "\n",
    "import seaborn as sns\n",
    "import matplotlib.pyplot as plt\n",
    "\n",
    "from sklearn.linear_model import Ridge\n",
    "from sklearn.pipeline import Pipeline\n",
    "from sklearn.metrics import mean_squared_error\n",
    "\n",
    "from warnings import simplefilter\n",
    "simplefilter(\"ignore\")\n",
    "\n",
    "RANDOM_STATE = 25\n",
    "np.random.seed(RANDOM_STATE)\n",
    "\n",
    "EPS = 1e-3\n",
    "\n",
    "\n",
    "DATA_PATH = join(os.getcwd(), '..', 'data', 'events')"
   ]
  },
  {
   "cell_type": "markdown",
   "metadata": {
    "collapsed": false,
    "jupyter": {
     "outputs_hidden": false
    }
   },
   "source": [
    "## 1. Load Dataset"
   ]
  },
  {
   "cell_type": "code",
   "execution_count": 2,
   "metadata": {
    "collapsed": false,
    "jupyter": {
     "outputs_hidden": false
    }
   },
   "outputs": [
    {
     "data": {
      "text/plain": [
       "6"
      ]
     },
     "execution_count": 2,
     "metadata": {},
     "output_type": "execute_result"
    }
   ],
   "source": [
    "event_keys = os.listdir(DATA_PATH)\n",
    "event_keys = [ek for ek in event_keys if ek.isdigit()]\n",
    "event_dirs = [join(DATA_PATH, ek) for ek in event_keys]\n",
    "len(event_dirs)"
   ]
  },
  {
   "cell_type": "code",
   "execution_count": 3,
   "metadata": {
    "collapsed": false,
    "jupyter": {
     "outputs_hidden": false
    }
   },
   "outputs": [
    {
     "name": "stdout",
     "output_type": "stream",
     "text": [
      "Player with id=20170 has no matching team_id.\n",
      "Player with id=13602 has no matching team_id.\n",
      "Player with id=16080 has no matching team_id.\n",
      "Player with id=18163 has no matching team_id.\n",
      "Player with id=21217 has no matching team_id.\n",
      "Player with id=16848 has no matching team_id.\n",
      "Player with id=21816 has no matching team_id.\n",
      "Player with id=13618 has no matching team_id.\n",
      "Player with id=15573 has no matching team_id.\n",
      "Player with id=19164 has no matching team_id.\n",
      "Player with id=16080 has no matching team_id.\n",
      "Player with id=11777 has no matching team_id.\n"
     ]
    }
   ],
   "source": [
    "teams, players = get_dataset(event_dirs)\n",
    "teams = teams.dropna()\n",
    "players = players.dropna()"
   ]
  },
  {
   "cell_type": "code",
   "execution_count": 4,
   "metadata": {
    "collapsed": false,
    "jupyter": {
     "outputs_hidden": false
    }
   },
   "outputs": [
    {
     "data": {
      "text/html": [
       "<div>\n",
       "<style scoped>\n",
       "    .dataframe tbody tr th:only-of-type {\n",
       "        vertical-align: middle;\n",
       "    }\n",
       "\n",
       "    .dataframe tbody tr th {\n",
       "        vertical-align: top;\n",
       "    }\n",
       "\n",
       "    .dataframe thead th {\n",
       "        text-align: right;\n",
       "    }\n",
       "</style>\n",
       "<table border=\"1\" class=\"dataframe\">\n",
       "  <thead>\n",
       "    <tr style=\"text-align: right;\">\n",
       "      <th></th>\n",
       "      <th>has_roster_change</th>\n",
       "      <th>world_ranking</th>\n",
       "      <th>points</th>\n",
       "      <th>avg_place</th>\n",
       "      <th>winrate</th>\n",
       "      <th>avg_match_intensity</th>\n",
       "      <th>avg_win_intensity</th>\n",
       "      <th>avg_loss_intensity</th>\n",
       "      <th>winstreak</th>\n",
       "      <th>matches_played</th>\n",
       "      <th>...</th>\n",
       "      <th>wr_target</th>\n",
       "      <th>team_id</th>\n",
       "      <th>team_name</th>\n",
       "      <th>is_lan</th>\n",
       "      <th>is_qual</th>\n",
       "      <th>prize_pool</th>\n",
       "      <th>start_at</th>\n",
       "      <th>ends_at</th>\n",
       "      <th>duration</th>\n",
       "      <th>event_id</th>\n",
       "    </tr>\n",
       "  </thead>\n",
       "  <tbody>\n",
       "    <tr>\n",
       "      <th>0</th>\n",
       "      <td>False</td>\n",
       "      <td>17</td>\n",
       "      <td>144</td>\n",
       "      <td>2.65</td>\n",
       "      <td>0.857143</td>\n",
       "      <td>1.772191</td>\n",
       "      <td>1.951453</td>\n",
       "      <td>0.696618</td>\n",
       "      <td>0</td>\n",
       "      <td>49</td>\n",
       "      <td>...</td>\n",
       "      <td>0.333333</td>\n",
       "      <td>9215</td>\n",
       "      <td>mibr</td>\n",
       "      <td>True</td>\n",
       "      <td>False</td>\n",
       "      <td>500000.0</td>\n",
       "      <td>2024-05-14 00:00:00</td>\n",
       "      <td>2024-05-19 00:00:00</td>\n",
       "      <td>5</td>\n",
       "      <td>7755</td>\n",
       "    </tr>\n",
       "    <tr>\n",
       "      <th>1</th>\n",
       "      <td>False</td>\n",
       "      <td>17</td>\n",
       "      <td>144</td>\n",
       "      <td>1.50</td>\n",
       "      <td>0.769231</td>\n",
       "      <td>1.529443</td>\n",
       "      <td>1.776605</td>\n",
       "      <td>0.705570</td>\n",
       "      <td>5</td>\n",
       "      <td>13</td>\n",
       "      <td>...</td>\n",
       "      <td>0.333333</td>\n",
       "      <td>9215</td>\n",
       "      <td>mibr</td>\n",
       "      <td>True</td>\n",
       "      <td>False</td>\n",
       "      <td>500000.0</td>\n",
       "      <td>2024-05-14 00:00:00</td>\n",
       "      <td>2024-05-19 00:00:00</td>\n",
       "      <td>5</td>\n",
       "      <td>7755</td>\n",
       "    </tr>\n",
       "    <tr>\n",
       "      <th>2</th>\n",
       "      <td>False</td>\n",
       "      <td>17</td>\n",
       "      <td>144</td>\n",
       "      <td>2.65</td>\n",
       "      <td>0.769231</td>\n",
       "      <td>1.558867</td>\n",
       "      <td>1.817326</td>\n",
       "      <td>0.697336</td>\n",
       "      <td>0</td>\n",
       "      <td>26</td>\n",
       "      <td>...</td>\n",
       "      <td>0.333333</td>\n",
       "      <td>9215</td>\n",
       "      <td>mibr</td>\n",
       "      <td>True</td>\n",
       "      <td>False</td>\n",
       "      <td>500000.0</td>\n",
       "      <td>2024-05-14 00:00:00</td>\n",
       "      <td>2024-05-19 00:00:00</td>\n",
       "      <td>5</td>\n",
       "      <td>7755</td>\n",
       "    </tr>\n",
       "    <tr>\n",
       "      <th>3</th>\n",
       "      <td>False</td>\n",
       "      <td>17</td>\n",
       "      <td>144</td>\n",
       "      <td>1.50</td>\n",
       "      <td>0.833333</td>\n",
       "      <td>1.697455</td>\n",
       "      <td>1.895832</td>\n",
       "      <td>0.705570</td>\n",
       "      <td>8</td>\n",
       "      <td>18</td>\n",
       "      <td>...</td>\n",
       "      <td>0.333333</td>\n",
       "      <td>9215</td>\n",
       "      <td>mibr</td>\n",
       "      <td>True</td>\n",
       "      <td>False</td>\n",
       "      <td>500000.0</td>\n",
       "      <td>2024-05-14 00:00:00</td>\n",
       "      <td>2024-05-19 00:00:00</td>\n",
       "      <td>5</td>\n",
       "      <td>7755</td>\n",
       "    </tr>\n",
       "    <tr>\n",
       "      <th>6</th>\n",
       "      <td>False</td>\n",
       "      <td>2</td>\n",
       "      <td>947</td>\n",
       "      <td>2.40</td>\n",
       "      <td>0.894737</td>\n",
       "      <td>1.714328</td>\n",
       "      <td>1.845878</td>\n",
       "      <td>0.596154</td>\n",
       "      <td>6</td>\n",
       "      <td>19</td>\n",
       "      <td>...</td>\n",
       "      <td>1.000000</td>\n",
       "      <td>4494</td>\n",
       "      <td>mouz</td>\n",
       "      <td>True</td>\n",
       "      <td>False</td>\n",
       "      <td>500000.0</td>\n",
       "      <td>2024-05-14 00:00:00</td>\n",
       "      <td>2024-05-19 00:00:00</td>\n",
       "      <td>5</td>\n",
       "      <td>7755</td>\n",
       "    </tr>\n",
       "    <tr>\n",
       "      <th>...</th>\n",
       "      <td>...</td>\n",
       "      <td>...</td>\n",
       "      <td>...</td>\n",
       "      <td>...</td>\n",
       "      <td>...</td>\n",
       "      <td>...</td>\n",
       "      <td>...</td>\n",
       "      <td>...</td>\n",
       "      <td>...</td>\n",
       "      <td>...</td>\n",
       "      <td>...</td>\n",
       "      <td>...</td>\n",
       "      <td>...</td>\n",
       "      <td>...</td>\n",
       "      <td>...</td>\n",
       "      <td>...</td>\n",
       "      <td>...</td>\n",
       "      <td>...</td>\n",
       "      <td>...</td>\n",
       "      <td>...</td>\n",
       "      <td>...</td>\n",
       "    </tr>\n",
       "    <tr>\n",
       "      <th>571</th>\n",
       "      <td>False</td>\n",
       "      <td>2</td>\n",
       "      <td>816</td>\n",
       "      <td>5.75</td>\n",
       "      <td>0.625000</td>\n",
       "      <td>1.320737</td>\n",
       "      <td>1.606929</td>\n",
       "      <td>0.843750</td>\n",
       "      <td>0</td>\n",
       "      <td>8</td>\n",
       "      <td>...</td>\n",
       "      <td>1.000000</td>\n",
       "      <td>9565</td>\n",
       "      <td>vitality</td>\n",
       "      <td>True</td>\n",
       "      <td>False</td>\n",
       "      <td>1000000.0</td>\n",
       "      <td>2023-12-13 00:00:00</td>\n",
       "      <td>2023-12-17 00:00:00</td>\n",
       "      <td>4</td>\n",
       "      <td>6976</td>\n",
       "    </tr>\n",
       "    <tr>\n",
       "      <th>572</th>\n",
       "      <td>False</td>\n",
       "      <td>2</td>\n",
       "      <td>816</td>\n",
       "      <td>1.00</td>\n",
       "      <td>1.000000</td>\n",
       "      <td>1.606929</td>\n",
       "      <td>1.606929</td>\n",
       "      <td>0.000000</td>\n",
       "      <td>5</td>\n",
       "      <td>5</td>\n",
       "      <td>...</td>\n",
       "      <td>1.000000</td>\n",
       "      <td>9565</td>\n",
       "      <td>vitality</td>\n",
       "      <td>True</td>\n",
       "      <td>False</td>\n",
       "      <td>1000000.0</td>\n",
       "      <td>2023-12-13 00:00:00</td>\n",
       "      <td>2023-12-17 00:00:00</td>\n",
       "      <td>4</td>\n",
       "      <td>6976</td>\n",
       "    </tr>\n",
       "    <tr>\n",
       "      <th>573</th>\n",
       "      <td>False</td>\n",
       "      <td>2</td>\n",
       "      <td>816</td>\n",
       "      <td>5.75</td>\n",
       "      <td>0.625000</td>\n",
       "      <td>1.320737</td>\n",
       "      <td>1.606929</td>\n",
       "      <td>0.843750</td>\n",
       "      <td>0</td>\n",
       "      <td>8</td>\n",
       "      <td>...</td>\n",
       "      <td>1.000000</td>\n",
       "      <td>9565</td>\n",
       "      <td>vitality</td>\n",
       "      <td>True</td>\n",
       "      <td>False</td>\n",
       "      <td>1000000.0</td>\n",
       "      <td>2023-12-13 00:00:00</td>\n",
       "      <td>2023-12-17 00:00:00</td>\n",
       "      <td>4</td>\n",
       "      <td>6976</td>\n",
       "    </tr>\n",
       "    <tr>\n",
       "      <th>574</th>\n",
       "      <td>False</td>\n",
       "      <td>2</td>\n",
       "      <td>816</td>\n",
       "      <td>1.00</td>\n",
       "      <td>1.000000</td>\n",
       "      <td>1.606929</td>\n",
       "      <td>1.606929</td>\n",
       "      <td>0.000000</td>\n",
       "      <td>5</td>\n",
       "      <td>5</td>\n",
       "      <td>...</td>\n",
       "      <td>1.000000</td>\n",
       "      <td>9565</td>\n",
       "      <td>vitality</td>\n",
       "      <td>True</td>\n",
       "      <td>False</td>\n",
       "      <td>1000000.0</td>\n",
       "      <td>2023-12-13 00:00:00</td>\n",
       "      <td>2023-12-17 00:00:00</td>\n",
       "      <td>4</td>\n",
       "      <td>6976</td>\n",
       "    </tr>\n",
       "    <tr>\n",
       "      <th>575</th>\n",
       "      <td>False</td>\n",
       "      <td>2</td>\n",
       "      <td>816</td>\n",
       "      <td>5.75</td>\n",
       "      <td>0.625000</td>\n",
       "      <td>1.320737</td>\n",
       "      <td>1.606929</td>\n",
       "      <td>0.843750</td>\n",
       "      <td>0</td>\n",
       "      <td>8</td>\n",
       "      <td>...</td>\n",
       "      <td>1.000000</td>\n",
       "      <td>9565</td>\n",
       "      <td>vitality</td>\n",
       "      <td>True</td>\n",
       "      <td>False</td>\n",
       "      <td>1000000.0</td>\n",
       "      <td>2023-12-13 00:00:00</td>\n",
       "      <td>2023-12-17 00:00:00</td>\n",
       "      <td>4</td>\n",
       "      <td>6976</td>\n",
       "    </tr>\n",
       "  </tbody>\n",
       "</table>\n",
       "<p>503 rows × 29 columns</p>\n",
       "</div>"
      ],
      "text/plain": [
       "     has_roster_change  world_ranking  points  avg_place   winrate  \\\n",
       "0                False             17     144       2.65  0.857143   \n",
       "1                False             17     144       1.50  0.769231   \n",
       "2                False             17     144       2.65  0.769231   \n",
       "3                False             17     144       1.50  0.833333   \n",
       "6                False              2     947       2.40  0.894737   \n",
       "..                 ...            ...     ...        ...       ...   \n",
       "571              False              2     816       5.75  0.625000   \n",
       "572              False              2     816       1.00  1.000000   \n",
       "573              False              2     816       5.75  0.625000   \n",
       "574              False              2     816       1.00  1.000000   \n",
       "575              False              2     816       5.75  0.625000   \n",
       "\n",
       "     avg_match_intensity  avg_win_intensity  avg_loss_intensity  winstreak  \\\n",
       "0               1.772191           1.951453            0.696618          0   \n",
       "1               1.529443           1.776605            0.705570          5   \n",
       "2               1.558867           1.817326            0.697336          0   \n",
       "3               1.697455           1.895832            0.705570          8   \n",
       "6               1.714328           1.845878            0.596154          6   \n",
       "..                   ...                ...                 ...        ...   \n",
       "571             1.320737           1.606929            0.843750          0   \n",
       "572             1.606929           1.606929            0.000000          5   \n",
       "573             1.320737           1.606929            0.843750          0   \n",
       "574             1.606929           1.606929            0.000000          5   \n",
       "575             1.320737           1.606929            0.843750          0   \n",
       "\n",
       "     matches_played  ... wr_target team_id team_name is_lan  is_qual  \\\n",
       "0                49  ...  0.333333    9215      mibr   True    False   \n",
       "1                13  ...  0.333333    9215      mibr   True    False   \n",
       "2                26  ...  0.333333    9215      mibr   True    False   \n",
       "3                18  ...  0.333333    9215      mibr   True    False   \n",
       "6                19  ...  1.000000    4494      mouz   True    False   \n",
       "..              ...  ...       ...     ...       ...    ...      ...   \n",
       "571               8  ...  1.000000    9565  vitality   True    False   \n",
       "572               5  ...  1.000000    9565  vitality   True    False   \n",
       "573               8  ...  1.000000    9565  vitality   True    False   \n",
       "574               5  ...  1.000000    9565  vitality   True    False   \n",
       "575               8  ...  1.000000    9565  vitality   True    False   \n",
       "\n",
       "     prize_pool             start_at              ends_at  duration  event_id  \n",
       "0      500000.0  2024-05-14 00:00:00  2024-05-19 00:00:00         5      7755  \n",
       "1      500000.0  2024-05-14 00:00:00  2024-05-19 00:00:00         5      7755  \n",
       "2      500000.0  2024-05-14 00:00:00  2024-05-19 00:00:00         5      7755  \n",
       "3      500000.0  2024-05-14 00:00:00  2024-05-19 00:00:00         5      7755  \n",
       "6      500000.0  2024-05-14 00:00:00  2024-05-19 00:00:00         5      7755  \n",
       "..          ...                  ...                  ...       ...       ...  \n",
       "571   1000000.0  2023-12-13 00:00:00  2023-12-17 00:00:00         4      6976  \n",
       "572   1000000.0  2023-12-13 00:00:00  2023-12-17 00:00:00         4      6976  \n",
       "573   1000000.0  2023-12-13 00:00:00  2023-12-17 00:00:00         4      6976  \n",
       "574   1000000.0  2023-12-13 00:00:00  2023-12-17 00:00:00         4      6976  \n",
       "575   1000000.0  2023-12-13 00:00:00  2023-12-17 00:00:00         4      6976  \n",
       "\n",
       "[503 rows x 29 columns]"
      ]
     },
     "execution_count": 4,
     "metadata": {},
     "output_type": "execute_result"
    }
   ],
   "source": [
    "teams"
   ]
  },
  {
   "cell_type": "code",
   "execution_count": 5,
   "metadata": {
    "collapsed": false,
    "jupyter": {
     "outputs_hidden": false
    }
   },
   "outputs": [
    {
     "data": {
      "text/html": [
       "<div>\n",
       "<style scoped>\n",
       "    .dataframe tbody tr th:only-of-type {\n",
       "        vertical-align: middle;\n",
       "    }\n",
       "\n",
       "    .dataframe tbody tr th {\n",
       "        vertical-align: top;\n",
       "    }\n",
       "\n",
       "    .dataframe thead th {\n",
       "        text-align: right;\n",
       "    }\n",
       "</style>\n",
       "<table border=\"1\" class=\"dataframe\">\n",
       "  <thead>\n",
       "    <tr style=\"text-align: right;\">\n",
       "      <th></th>\n",
       "      <th>rating</th>\n",
       "      <th>dpr</th>\n",
       "      <th>kast</th>\n",
       "      <th>impact</th>\n",
       "      <th>adr</th>\n",
       "      <th>kpr</th>\n",
       "      <th>total_kills</th>\n",
       "      <th>hs</th>\n",
       "      <th>kd</th>\n",
       "      <th>gdr</th>\n",
       "      <th>...</th>\n",
       "      <th>player_name</th>\n",
       "      <th>expected_pts_target</th>\n",
       "      <th>player_id</th>\n",
       "      <th>is_lan</th>\n",
       "      <th>is_qual</th>\n",
       "      <th>prize_pool</th>\n",
       "      <th>start_at</th>\n",
       "      <th>ends_at</th>\n",
       "      <th>duration</th>\n",
       "      <th>event_id</th>\n",
       "    </tr>\n",
       "  </thead>\n",
       "  <tbody>\n",
       "    <tr>\n",
       "      <th>0</th>\n",
       "      <td>1.18</td>\n",
       "      <td>0.68</td>\n",
       "      <td>73.2</td>\n",
       "      <td>1.31</td>\n",
       "      <td>82.9</td>\n",
       "      <td>0.74</td>\n",
       "      <td>1591</td>\n",
       "      <td>56.2</td>\n",
       "      <td>1.09</td>\n",
       "      <td>6.6</td>\n",
       "      <td>...</td>\n",
       "      <td>magnojez</td>\n",
       "      <td>-3.50</td>\n",
       "      <td>21667</td>\n",
       "      <td>True</td>\n",
       "      <td>False</td>\n",
       "      <td>500000.0</td>\n",
       "      <td>2024-05-14 00:00:00</td>\n",
       "      <td>2024-05-19 00:00:00</td>\n",
       "      <td>5</td>\n",
       "      <td>7755</td>\n",
       "    </tr>\n",
       "    <tr>\n",
       "      <th>1</th>\n",
       "      <td>1.18</td>\n",
       "      <td>0.68</td>\n",
       "      <td>73.2</td>\n",
       "      <td>1.31</td>\n",
       "      <td>82.9</td>\n",
       "      <td>0.74</td>\n",
       "      <td>1591</td>\n",
       "      <td>56.2</td>\n",
       "      <td>1.09</td>\n",
       "      <td>6.6</td>\n",
       "      <td>...</td>\n",
       "      <td>magnojez</td>\n",
       "      <td>-3.50</td>\n",
       "      <td>21667</td>\n",
       "      <td>True</td>\n",
       "      <td>False</td>\n",
       "      <td>500000.0</td>\n",
       "      <td>2024-05-14 00:00:00</td>\n",
       "      <td>2024-05-19 00:00:00</td>\n",
       "      <td>5</td>\n",
       "      <td>7755</td>\n",
       "    </tr>\n",
       "    <tr>\n",
       "      <th>2</th>\n",
       "      <td>1.18</td>\n",
       "      <td>0.68</td>\n",
       "      <td>73.2</td>\n",
       "      <td>1.31</td>\n",
       "      <td>82.9</td>\n",
       "      <td>0.74</td>\n",
       "      <td>1591</td>\n",
       "      <td>56.2</td>\n",
       "      <td>1.09</td>\n",
       "      <td>6.6</td>\n",
       "      <td>...</td>\n",
       "      <td>magnojez</td>\n",
       "      <td>-3.50</td>\n",
       "      <td>21667</td>\n",
       "      <td>True</td>\n",
       "      <td>False</td>\n",
       "      <td>500000.0</td>\n",
       "      <td>2024-05-14 00:00:00</td>\n",
       "      <td>2024-05-19 00:00:00</td>\n",
       "      <td>5</td>\n",
       "      <td>7755</td>\n",
       "    </tr>\n",
       "    <tr>\n",
       "      <th>3</th>\n",
       "      <td>1.18</td>\n",
       "      <td>0.68</td>\n",
       "      <td>73.2</td>\n",
       "      <td>1.31</td>\n",
       "      <td>82.9</td>\n",
       "      <td>0.74</td>\n",
       "      <td>1591</td>\n",
       "      <td>56.2</td>\n",
       "      <td>1.09</td>\n",
       "      <td>6.6</td>\n",
       "      <td>...</td>\n",
       "      <td>magnojez</td>\n",
       "      <td>-3.50</td>\n",
       "      <td>21667</td>\n",
       "      <td>True</td>\n",
       "      <td>False</td>\n",
       "      <td>500000.0</td>\n",
       "      <td>2024-05-14 00:00:00</td>\n",
       "      <td>2024-05-19 00:00:00</td>\n",
       "      <td>5</td>\n",
       "      <td>7755</td>\n",
       "    </tr>\n",
       "    <tr>\n",
       "      <th>4</th>\n",
       "      <td>1.18</td>\n",
       "      <td>0.68</td>\n",
       "      <td>73.2</td>\n",
       "      <td>1.31</td>\n",
       "      <td>82.9</td>\n",
       "      <td>0.74</td>\n",
       "      <td>1591</td>\n",
       "      <td>56.2</td>\n",
       "      <td>1.09</td>\n",
       "      <td>6.6</td>\n",
       "      <td>...</td>\n",
       "      <td>magnojez</td>\n",
       "      <td>-3.50</td>\n",
       "      <td>21667</td>\n",
       "      <td>True</td>\n",
       "      <td>False</td>\n",
       "      <td>500000.0</td>\n",
       "      <td>2024-05-14 00:00:00</td>\n",
       "      <td>2024-05-19 00:00:00</td>\n",
       "      <td>5</td>\n",
       "      <td>7755</td>\n",
       "    </tr>\n",
       "    <tr>\n",
       "      <th>...</th>\n",
       "      <td>...</td>\n",
       "      <td>...</td>\n",
       "      <td>...</td>\n",
       "      <td>...</td>\n",
       "      <td>...</td>\n",
       "      <td>...</td>\n",
       "      <td>...</td>\n",
       "      <td>...</td>\n",
       "      <td>...</td>\n",
       "      <td>...</td>\n",
       "      <td>...</td>\n",
       "      <td>...</td>\n",
       "      <td>...</td>\n",
       "      <td>...</td>\n",
       "      <td>...</td>\n",
       "      <td>...</td>\n",
       "      <td>...</td>\n",
       "      <td>...</td>\n",
       "      <td>...</td>\n",
       "      <td>...</td>\n",
       "      <td>...</td>\n",
       "    </tr>\n",
       "    <tr>\n",
       "      <th>44739</th>\n",
       "      <td>1.06</td>\n",
       "      <td>0.67</td>\n",
       "      <td>69.7</td>\n",
       "      <td>1.07</td>\n",
       "      <td>76.8</td>\n",
       "      <td>0.68</td>\n",
       "      <td>433</td>\n",
       "      <td>53.3</td>\n",
       "      <td>1.00</td>\n",
       "      <td>2.9</td>\n",
       "      <td>...</td>\n",
       "      <td>im</td>\n",
       "      <td>6.25</td>\n",
       "      <td>14759</td>\n",
       "      <td>True</td>\n",
       "      <td>False</td>\n",
       "      <td>1000000.0</td>\n",
       "      <td>2023-12-13 00:00:00</td>\n",
       "      <td>2023-12-17 00:00:00</td>\n",
       "      <td>4</td>\n",
       "      <td>6976</td>\n",
       "    </tr>\n",
       "    <tr>\n",
       "      <th>44740</th>\n",
       "      <td>1.06</td>\n",
       "      <td>0.67</td>\n",
       "      <td>69.7</td>\n",
       "      <td>1.07</td>\n",
       "      <td>76.8</td>\n",
       "      <td>0.68</td>\n",
       "      <td>433</td>\n",
       "      <td>53.3</td>\n",
       "      <td>1.00</td>\n",
       "      <td>2.9</td>\n",
       "      <td>...</td>\n",
       "      <td>im</td>\n",
       "      <td>6.25</td>\n",
       "      <td>14759</td>\n",
       "      <td>True</td>\n",
       "      <td>False</td>\n",
       "      <td>1000000.0</td>\n",
       "      <td>2023-12-13 00:00:00</td>\n",
       "      <td>2023-12-17 00:00:00</td>\n",
       "      <td>4</td>\n",
       "      <td>6976</td>\n",
       "    </tr>\n",
       "    <tr>\n",
       "      <th>44741</th>\n",
       "      <td>1.06</td>\n",
       "      <td>0.67</td>\n",
       "      <td>69.7</td>\n",
       "      <td>1.07</td>\n",
       "      <td>76.8</td>\n",
       "      <td>0.68</td>\n",
       "      <td>433</td>\n",
       "      <td>53.3</td>\n",
       "      <td>1.00</td>\n",
       "      <td>2.9</td>\n",
       "      <td>...</td>\n",
       "      <td>im</td>\n",
       "      <td>6.25</td>\n",
       "      <td>14759</td>\n",
       "      <td>True</td>\n",
       "      <td>False</td>\n",
       "      <td>1000000.0</td>\n",
       "      <td>2023-12-13 00:00:00</td>\n",
       "      <td>2023-12-17 00:00:00</td>\n",
       "      <td>4</td>\n",
       "      <td>6976</td>\n",
       "    </tr>\n",
       "    <tr>\n",
       "      <th>44742</th>\n",
       "      <td>1.06</td>\n",
       "      <td>0.67</td>\n",
       "      <td>69.7</td>\n",
       "      <td>1.07</td>\n",
       "      <td>76.8</td>\n",
       "      <td>0.68</td>\n",
       "      <td>433</td>\n",
       "      <td>53.3</td>\n",
       "      <td>1.00</td>\n",
       "      <td>2.9</td>\n",
       "      <td>...</td>\n",
       "      <td>im</td>\n",
       "      <td>6.25</td>\n",
       "      <td>14759</td>\n",
       "      <td>True</td>\n",
       "      <td>False</td>\n",
       "      <td>1000000.0</td>\n",
       "      <td>2023-12-13 00:00:00</td>\n",
       "      <td>2023-12-17 00:00:00</td>\n",
       "      <td>4</td>\n",
       "      <td>6976</td>\n",
       "    </tr>\n",
       "    <tr>\n",
       "      <th>44743</th>\n",
       "      <td>1.06</td>\n",
       "      <td>0.67</td>\n",
       "      <td>69.7</td>\n",
       "      <td>1.07</td>\n",
       "      <td>76.8</td>\n",
       "      <td>0.68</td>\n",
       "      <td>433</td>\n",
       "      <td>53.3</td>\n",
       "      <td>1.00</td>\n",
       "      <td>2.9</td>\n",
       "      <td>...</td>\n",
       "      <td>im</td>\n",
       "      <td>6.25</td>\n",
       "      <td>14759</td>\n",
       "      <td>True</td>\n",
       "      <td>False</td>\n",
       "      <td>1000000.0</td>\n",
       "      <td>2023-12-13 00:00:00</td>\n",
       "      <td>2023-12-17 00:00:00</td>\n",
       "      <td>4</td>\n",
       "      <td>6976</td>\n",
       "    </tr>\n",
       "  </tbody>\n",
       "</table>\n",
       "<p>38369 rows × 32 columns</p>\n",
       "</div>"
      ],
      "text/plain": [
       "       rating   dpr  kast  impact   adr   kpr total_kills    hs    kd  gdr  \\\n",
       "0        1.18  0.68  73.2    1.31  82.9  0.74        1591  56.2  1.09  6.6   \n",
       "1        1.18  0.68  73.2    1.31  82.9  0.74        1591  56.2  1.09  6.6   \n",
       "2        1.18  0.68  73.2    1.31  82.9  0.74        1591  56.2  1.09  6.6   \n",
       "3        1.18  0.68  73.2    1.31  82.9  0.74        1591  56.2  1.09  6.6   \n",
       "4        1.18  0.68  73.2    1.31  82.9  0.74        1591  56.2  1.09  6.6   \n",
       "...       ...   ...   ...     ...   ...   ...         ...   ...   ...  ...   \n",
       "44739    1.06  0.67  69.7    1.07  76.8  0.68         433  53.3  1.00  2.9   \n",
       "44740    1.06  0.67  69.7    1.07  76.8  0.68         433  53.3  1.00  2.9   \n",
       "44741    1.06  0.67  69.7    1.07  76.8  0.68         433  53.3  1.00  2.9   \n",
       "44742    1.06  0.67  69.7    1.07  76.8  0.68         433  53.3  1.00  2.9   \n",
       "44743    1.06  0.67  69.7    1.07  76.8  0.68         433  53.3  1.00  2.9   \n",
       "\n",
       "       ... player_name  expected_pts_target  player_id  is_lan  is_qual  \\\n",
       "0      ...    magnojez                -3.50      21667    True    False   \n",
       "1      ...    magnojez                -3.50      21667    True    False   \n",
       "2      ...    magnojez                -3.50      21667    True    False   \n",
       "3      ...    magnojez                -3.50      21667    True    False   \n",
       "4      ...    magnojez                -3.50      21667    True    False   \n",
       "...    ...         ...                  ...        ...     ...      ...   \n",
       "44739  ...          im                 6.25      14759    True    False   \n",
       "44740  ...          im                 6.25      14759    True    False   \n",
       "44741  ...          im                 6.25      14759    True    False   \n",
       "44742  ...          im                 6.25      14759    True    False   \n",
       "44743  ...          im                 6.25      14759    True    False   \n",
       "\n",
       "       prize_pool             start_at              ends_at duration event_id  \n",
       "0        500000.0  2024-05-14 00:00:00  2024-05-19 00:00:00        5     7755  \n",
       "1        500000.0  2024-05-14 00:00:00  2024-05-19 00:00:00        5     7755  \n",
       "2        500000.0  2024-05-14 00:00:00  2024-05-19 00:00:00        5     7755  \n",
       "3        500000.0  2024-05-14 00:00:00  2024-05-19 00:00:00        5     7755  \n",
       "4        500000.0  2024-05-14 00:00:00  2024-05-19 00:00:00        5     7755  \n",
       "...           ...                  ...                  ...      ...      ...  \n",
       "44739   1000000.0  2023-12-13 00:00:00  2023-12-17 00:00:00        4     6976  \n",
       "44740   1000000.0  2023-12-13 00:00:00  2023-12-17 00:00:00        4     6976  \n",
       "44741   1000000.0  2023-12-13 00:00:00  2023-12-17 00:00:00        4     6976  \n",
       "44742   1000000.0  2023-12-13 00:00:00  2023-12-17 00:00:00        4     6976  \n",
       "44743   1000000.0  2023-12-13 00:00:00  2023-12-17 00:00:00        4     6976  \n",
       "\n",
       "[38369 rows x 32 columns]"
      ]
     },
     "execution_count": 5,
     "metadata": {},
     "output_type": "execute_result"
    }
   ],
   "source": [
    "players"
   ]
  },
  {
   "cell_type": "code",
   "execution_count": 6,
   "metadata": {
    "collapsed": false,
    "jupyter": {
     "outputs_hidden": false
    }
   },
   "outputs": [
    {
     "data": {
      "text/plain": [
       "(503, 38369)"
      ]
     },
     "execution_count": 6,
     "metadata": {},
     "output_type": "execute_result"
    }
   ],
   "source": [
    "len(teams), len(players)"
   ]
  },
  {
   "cell_type": "markdown",
   "metadata": {
    "collapsed": false,
    "jupyter": {
     "outputs_hidden": false
    }
   },
   "source": [
    "## 2. Modelling"
   ]
  },
  {
   "cell_type": "code",
   "execution_count": 7,
   "metadata": {
    "collapsed": false,
    "jupyter": {
     "outputs_hidden": false
    }
   },
   "outputs": [
    {
     "data": {
      "text/plain": [
       "['7755', '7553', '7437', '7148', '7440', '6976']"
      ]
     },
     "execution_count": 7,
     "metadata": {},
     "output_type": "execute_result"
    }
   ],
   "source": [
    "event_keys"
   ]
  },
  {
   "cell_type": "code",
   "execution_count": 8,
   "metadata": {
    "collapsed": false,
    "jupyter": {
     "outputs_hidden": false
    }
   },
   "outputs": [],
   "source": [
    "train_events = [7440, 6976, 7437, 7553, 7755]\n",
    "test_events = [int(ek) for ek in event_keys if int(ek) not in train_events]"
   ]
  },
  {
   "cell_type": "markdown",
   "metadata": {
    "collapsed": false,
    "jupyter": {
     "outputs_hidden": false
    }
   },
   "source": [
    "### 2.1. Teams model"
   ]
  },
  {
   "cell_type": "code",
   "execution_count": 9,
   "metadata": {
    "collapsed": false,
    "jupyter": {
     "outputs_hidden": false
    }
   },
   "outputs": [],
   "source": [
    "target_col = [\"wr_target\"]\n",
    "\n",
    "drop_cols = [\"start_time\", \"end_time\", \"start_at\", \"ends_at\", \"event_id\", \"team_id\",\n",
    "             \"event_fil\", \"team_name\"]\n",
    "drop_cols += [f\"player_id_{i + 1}\" for i in range(5)]\n",
    "drop_cols += target_col\n",
    "\n",
    "cat_cols = [\"ranking_fil\"]\n",
    "bin_cols = [\"has_roster_change\", \"is_lan\", \"is_qual\"]\n",
    "\n",
    "teams[bin_cols] = teams[bin_cols].astype(np.float64)\n",
    "teams[target_col] = teams[target_col].astype(np.float64)"
   ]
  },
  {
   "cell_type": "code",
   "execution_count": 10,
   "metadata": {
    "collapsed": false,
    "jupyter": {
     "outputs_hidden": false
    }
   },
   "outputs": [],
   "source": [
    "train = teams[teams.event_id.isin(train_events)].sample(frac=1).reset_index(drop=True)\n",
    "test = teams[teams.event_id.isin(test_events)].sample(frac=1).reset_index(drop=True)\n",
    "\n",
    "X_train, y_train = train.drop(drop_cols, axis=1), train[target_col]\n",
    "X_test, y_test = test.drop(drop_cols, axis=1), test[target_col]"
   ]
  },
  {
   "cell_type": "code",
   "execution_count": 11,
   "metadata": {
    "collapsed": false,
    "jupyter": {
     "outputs_hidden": false
    }
   },
   "outputs": [
    {
     "data": {
      "text/plain": [
       "(407, 15)"
      ]
     },
     "execution_count": 11,
     "metadata": {},
     "output_type": "execute_result"
    }
   ],
   "source": [
    "len(X_train), len(X_train.columns)"
   ]
  },
  {
   "cell_type": "code",
   "execution_count": 12,
   "metadata": {
    "collapsed": false,
    "jupyter": {
     "outputs_hidden": false
    }
   },
   "outputs": [],
   "source": [
    "team_pipe = Pipeline([\n",
    "    (\"preprocessor\", Preprocessor(cat_cols=cat_cols, bin_cols=bin_cols)),\n",
    "    (\"estimator\", Ridge(alpha=10))\n",
    "])"
   ]
  },
  {
   "cell_type": "code",
   "execution_count": 13,
   "metadata": {
    "collapsed": false,
    "jupyter": {
     "outputs_hidden": false
    }
   },
   "outputs": [],
   "source": [
    "def logit(x, clip=5):\n",
    "    logits = np.log(x / (1 - x + EPS) + EPS)\n",
    "    return np.clip(logits, a_min=-clip, a_max=clip)\n",
    "\n",
    "\n",
    "def sigmoid(x):\n",
    "    return 1 / (1 + np.exp(-x))"
   ]
  },
  {
   "cell_type": "code",
   "execution_count": 14,
   "metadata": {
    "collapsed": false,
    "jupyter": {
     "outputs_hidden": false
    }
   },
   "outputs": [
    {
     "data": {
      "text/html": [
       "<div>\n",
       "<style scoped>\n",
       "    .dataframe tbody tr th:only-of-type {\n",
       "        vertical-align: middle;\n",
       "    }\n",
       "\n",
       "    .dataframe tbody tr th {\n",
       "        vertical-align: top;\n",
       "    }\n",
       "\n",
       "    .dataframe thead th {\n",
       "        text-align: right;\n",
       "    }\n",
       "</style>\n",
       "<table border=\"1\" class=\"dataframe\">\n",
       "  <thead>\n",
       "    <tr style=\"text-align: right;\">\n",
       "      <th></th>\n",
       "      <th>wr_target</th>\n",
       "    </tr>\n",
       "  </thead>\n",
       "  <tbody>\n",
       "    <tr>\n",
       "      <th>0</th>\n",
       "      <td>-1.096945</td>\n",
       "    </tr>\n",
       "    <tr>\n",
       "      <th>1</th>\n",
       "      <td>0.403636</td>\n",
       "    </tr>\n",
       "    <tr>\n",
       "      <th>2</th>\n",
       "      <td>-5.000000</td>\n",
       "    </tr>\n",
       "    <tr>\n",
       "      <th>3</th>\n",
       "      <td>-0.000997</td>\n",
       "    </tr>\n",
       "    <tr>\n",
       "      <th>4</th>\n",
       "      <td>-5.000000</td>\n",
       "    </tr>\n",
       "    <tr>\n",
       "      <th>5</th>\n",
       "      <td>5.000000</td>\n",
       "    </tr>\n",
       "    <tr>\n",
       "      <th>6</th>\n",
       "      <td>1.381558</td>\n",
       "    </tr>\n",
       "    <tr>\n",
       "      <th>7</th>\n",
       "      <td>-0.405629</td>\n",
       "    </tr>\n",
       "    <tr>\n",
       "      <th>8</th>\n",
       "      <td>1.094955</td>\n",
       "    </tr>\n",
       "    <tr>\n",
       "      <th>9</th>\n",
       "      <td>-5.000000</td>\n",
       "    </tr>\n",
       "  </tbody>\n",
       "</table>\n",
       "</div>"
      ],
      "text/plain": [
       "   wr_target\n",
       "0  -1.096945\n",
       "1   0.403636\n",
       "2  -5.000000\n",
       "3  -0.000997\n",
       "4  -5.000000\n",
       "5   5.000000\n",
       "6   1.381558\n",
       "7  -0.405629\n",
       "8   1.094955\n",
       "9  -5.000000"
      ]
     },
     "execution_count": 14,
     "metadata": {},
     "output_type": "execute_result"
    }
   ],
   "source": [
    "logit(y_train).head(10)"
   ]
  },
  {
   "cell_type": "code",
   "execution_count": 15,
   "metadata": {
    "collapsed": false,
    "jupyter": {
     "outputs_hidden": false
    }
   },
   "outputs": [
    {
     "data": {
      "text/plain": [
       "0.029194055584736697"
      ]
     },
     "execution_count": 15,
     "metadata": {},
     "output_type": "execute_result"
    }
   ],
   "source": [
    "team_pipe.fit(X_train, logit(y_train))  # winrate is probability\n",
    "y_preds = sigmoid(team_pipe.predict(X_test))\n",
    "mean_squared_error(y_test, y_preds)"
   ]
  },
  {
   "cell_type": "code",
   "execution_count": 16,
   "metadata": {
    "collapsed": false,
    "jupyter": {
     "outputs_hidden": false
    }
   },
   "outputs": [
    {
     "data": {
      "image/png": "[encoded data removed]",
      "text/plain": [
       "<Figure size 640x480 with 2 Axes>"
      ]
     },
     "metadata": {},
     "output_type": "display_data"
    }
   ],
   "source": [
    "p = Preprocessor(cat_cols=cat_cols, bin_cols=bin_cols)\n",
    "p.fit(X_train, y_train)\n",
    "X_train_prep = p.transform(X_train)\n",
    "\n",
    "sns.heatmap(X_train_prep.corr());"
   ]
  },
  {
   "cell_type": "code",
   "execution_count": 17,
   "metadata": {
    "collapsed": false,
    "jupyter": {
     "outputs_hidden": false
    }
   },
   "outputs": [],
   "source": [
    "n = 10"
   ]
  },
  {
   "cell_type": "code",
   "execution_count": 18,
   "metadata": {
    "collapsed": false,
    "jupyter": {
     "outputs_hidden": false
    }
   },
   "outputs": [
    {
     "data": {
      "image/png": "[encoded data removed]",
      "text/plain": [
       "<Figure size 640x480 with 1 Axes>"
      ]
     },
     "metadata": {},
     "output_type": "display_data"
    }
   ],
   "source": [
    "idx = np.argsort(team_pipe[\"estimator\"].coef_.ravel())[:n]\n",
    "sns.barplot(x=team_pipe[\"estimator\"].coef_.ravel()[idx],\n",
    "            y=team_pipe[\"preprocessor\"].features.ravel()[idx]);"
   ]
  },
  {
   "cell_type": "code",
   "execution_count": 19,
   "metadata": {
    "collapsed": false,
    "jupyter": {
     "outputs_hidden": false
    }
   },
   "outputs": [
    {
     "data": {
      "image/png": "[encoded data removed]",
      "text/plain": [
       "<Figure size 640x480 with 1 Axes>"
      ]
     },
     "metadata": {},
     "output_type": "display_data"
    }
   ],
   "source": [
    "idx = np.argsort(team_pipe[\"estimator\"].coef_.ravel())[::-1][:n]\n",
    "sns.barplot(x=team_pipe[\"estimator\"].coef_.ravel()[idx],\n",
    "            y=team_pipe[\"preprocessor\"].features.ravel()[idx]);"
   ]
  },
  {
   "cell_type": "markdown",
   "metadata": {
    "collapsed": false,
    "jupyter": {
     "outputs_hidden": false
    }
   },
   "source": [
    "По реальному винрейту:"
   ]
  },
  {
   "cell_type": "code",
   "execution_count": 20,
   "metadata": {
    "collapsed": false,
    "jupyter": {
     "outputs_hidden": false
    }
   },
   "outputs": [
    {
     "data": {
      "text/html": [
       "<div>\n",
       "<style scoped>\n",
       "    .dataframe tbody tr th:only-of-type {\n",
       "        vertical-align: middle;\n",
       "    }\n",
       "\n",
       "    .dataframe tbody tr th {\n",
       "        vertical-align: top;\n",
       "    }\n",
       "\n",
       "    .dataframe thead th {\n",
       "        text-align: right;\n",
       "    }\n",
       "</style>\n",
       "<table border=\"1\" class=\"dataframe\">\n",
       "  <thead>\n",
       "    <tr style=\"text-align: right;\">\n",
       "      <th></th>\n",
       "      <th>team_name</th>\n",
       "      <th>wr_target</th>\n",
       "      <th>pred_wr</th>\n",
       "    </tr>\n",
       "    <tr>\n",
       "      <th>team_id</th>\n",
       "      <th></th>\n",
       "      <th></th>\n",
       "      <th></th>\n",
       "    </tr>\n",
       "  </thead>\n",
       "  <tbody>\n",
       "    <tr>\n",
       "      <th>4494</th>\n",
       "      <td>mouz</td>\n",
       "      <td>0.750000</td>\n",
       "      <td>0.809389</td>\n",
       "    </tr>\n",
       "    <tr>\n",
       "      <th>4608</th>\n",
       "      <td>natus-vincere</td>\n",
       "      <td>0.750000</td>\n",
       "      <td>0.679588</td>\n",
       "    </tr>\n",
       "    <tr>\n",
       "      <th>7020</th>\n",
       "      <td>spirit</td>\n",
       "      <td>0.750000</td>\n",
       "      <td>0.984255</td>\n",
       "    </tr>\n",
       "    <tr>\n",
       "      <th>9565</th>\n",
       "      <td>vitality</td>\n",
       "      <td>0.666667</td>\n",
       "      <td>0.797129</td>\n",
       "    </tr>\n",
       "    <tr>\n",
       "      <th>6667</th>\n",
       "      <td>faze</td>\n",
       "      <td>0.625000</td>\n",
       "      <td>0.818765</td>\n",
       "    </tr>\n",
       "    <tr>\n",
       "      <th>5752</th>\n",
       "      <td>cloud9</td>\n",
       "      <td>0.600000</td>\n",
       "      <td>0.513281</td>\n",
       "    </tr>\n",
       "    <tr>\n",
       "      <th>11251</th>\n",
       "      <td>eternal-fire</td>\n",
       "      <td>0.600000</td>\n",
       "      <td>0.559464</td>\n",
       "    </tr>\n",
       "    <tr>\n",
       "      <th>5995</th>\n",
       "      <td>g2</td>\n",
       "      <td>0.571429</td>\n",
       "      <td>0.709097</td>\n",
       "    </tr>\n",
       "    <tr>\n",
       "      <th>4773</th>\n",
       "      <td>pain</td>\n",
       "      <td>0.400000</td>\n",
       "      <td>0.166141</td>\n",
       "    </tr>\n",
       "    <tr>\n",
       "      <th>5005</th>\n",
       "      <td>complexity</td>\n",
       "      <td>0.400000</td>\n",
       "      <td>0.641130</td>\n",
       "    </tr>\n",
       "  </tbody>\n",
       "</table>\n",
       "</div>"
      ],
      "text/plain": [
       "             team_name  wr_target   pred_wr\n",
       "team_id                                    \n",
       "4494              mouz   0.750000  0.809389\n",
       "4608     natus-vincere   0.750000  0.679588\n",
       "7020            spirit   0.750000  0.984255\n",
       "9565          vitality   0.666667  0.797129\n",
       "6667              faze   0.625000  0.818765\n",
       "5752            cloud9   0.600000  0.513281\n",
       "11251     eternal-fire   0.600000  0.559464\n",
       "5995                g2   0.571429  0.709097\n",
       "4773              pain   0.400000  0.166141\n",
       "5005        complexity   0.400000  0.641130"
      ]
     },
     "execution_count": 20,
     "metadata": {},
     "output_type": "execute_result"
    }
   ],
   "source": [
    "final_team = test[[\"team_id\", \"team_name\"]]\n",
    "final_team[\"wr_target\"] = y_test\n",
    "final_team[\"pred_wr\"] = y_preds\n",
    "final_team = final_team.groupby([\"team_id\"]).max()\n",
    "final_team = final_team.sort_values([\"wr_target\"], ascending=False)\n",
    "final_team.head(10)"
   ]
  },
  {
   "cell_type": "markdown",
   "metadata": {
    "collapsed": false,
    "jupyter": {
     "outputs_hidden": false
    }
   },
   "source": [
    "По предсказанному винрейту:"
   ]
  },
  {
   "cell_type": "code",
   "execution_count": 21,
   "metadata": {
    "collapsed": false,
    "jupyter": {
     "outputs_hidden": false
    }
   },
   "outputs": [
    {
     "data": {
      "text/html": [
       "<div>\n",
       "<style scoped>\n",
       "    .dataframe tbody tr th:only-of-type {\n",
       "        vertical-align: middle;\n",
       "    }\n",
       "\n",
       "    .dataframe tbody tr th {\n",
       "        vertical-align: top;\n",
       "    }\n",
       "\n",
       "    .dataframe thead th {\n",
       "        text-align: right;\n",
       "    }\n",
       "</style>\n",
       "<table border=\"1\" class=\"dataframe\">\n",
       "  <thead>\n",
       "    <tr style=\"text-align: right;\">\n",
       "      <th></th>\n",
       "      <th>team_name</th>\n",
       "      <th>wr_target</th>\n",
       "      <th>pred_wr</th>\n",
       "    </tr>\n",
       "    <tr>\n",
       "      <th>team_id</th>\n",
       "      <th></th>\n",
       "      <th></th>\n",
       "      <th></th>\n",
       "    </tr>\n",
       "  </thead>\n",
       "  <tbody>\n",
       "    <tr>\n",
       "      <th>7020</th>\n",
       "      <td>spirit</td>\n",
       "      <td>0.750000</td>\n",
       "      <td>0.984255</td>\n",
       "    </tr>\n",
       "    <tr>\n",
       "      <th>6667</th>\n",
       "      <td>faze</td>\n",
       "      <td>0.625000</td>\n",
       "      <td>0.818765</td>\n",
       "    </tr>\n",
       "    <tr>\n",
       "      <th>4494</th>\n",
       "      <td>mouz</td>\n",
       "      <td>0.750000</td>\n",
       "      <td>0.809389</td>\n",
       "    </tr>\n",
       "    <tr>\n",
       "      <th>9565</th>\n",
       "      <td>vitality</td>\n",
       "      <td>0.666667</td>\n",
       "      <td>0.797129</td>\n",
       "    </tr>\n",
       "    <tr>\n",
       "      <th>5995</th>\n",
       "      <td>g2</td>\n",
       "      <td>0.571429</td>\n",
       "      <td>0.709097</td>\n",
       "    </tr>\n",
       "    <tr>\n",
       "      <th>4608</th>\n",
       "      <td>natus-vincere</td>\n",
       "      <td>0.750000</td>\n",
       "      <td>0.679588</td>\n",
       "    </tr>\n",
       "    <tr>\n",
       "      <th>5005</th>\n",
       "      <td>complexity</td>\n",
       "      <td>0.400000</td>\n",
       "      <td>0.641130</td>\n",
       "    </tr>\n",
       "    <tr>\n",
       "      <th>11251</th>\n",
       "      <td>eternal-fire</td>\n",
       "      <td>0.600000</td>\n",
       "      <td>0.559464</td>\n",
       "    </tr>\n",
       "    <tr>\n",
       "      <th>5752</th>\n",
       "      <td>cloud9</td>\n",
       "      <td>0.600000</td>\n",
       "      <td>0.513281</td>\n",
       "    </tr>\n",
       "    <tr>\n",
       "      <th>7175</th>\n",
       "      <td>heroic</td>\n",
       "      <td>0.250000</td>\n",
       "      <td>0.475702</td>\n",
       "    </tr>\n",
       "  </tbody>\n",
       "</table>\n",
       "</div>"
      ],
      "text/plain": [
       "             team_name  wr_target   pred_wr\n",
       "team_id                                    \n",
       "7020            spirit   0.750000  0.984255\n",
       "6667              faze   0.625000  0.818765\n",
       "4494              mouz   0.750000  0.809389\n",
       "9565          vitality   0.666667  0.797129\n",
       "5995                g2   0.571429  0.709097\n",
       "4608     natus-vincere   0.750000  0.679588\n",
       "5005        complexity   0.400000  0.641130\n",
       "11251     eternal-fire   0.600000  0.559464\n",
       "5752            cloud9   0.600000  0.513281\n",
       "7175            heroic   0.250000  0.475702"
      ]
     },
     "execution_count": 21,
     "metadata": {},
     "output_type": "execute_result"
    }
   ],
   "source": [
    "final_team.sort_values([\"pred_wr\"], ascending=False).head(10)"
   ]
  },
  {
   "cell_type": "markdown",
   "metadata": {
    "collapsed": false,
    "jupyter": {
     "outputs_hidden": false
    }
   },
   "source": [
    "### 2.2. Players model"
   ]
  },
  {
   "cell_type": "code",
   "execution_count": 22,
   "metadata": {
    "collapsed": false,
    "jupyter": {
     "outputs_hidden": false
    }
   },
   "outputs": [],
   "source": [
    "target_col = [\"expected_pts_target\"]\n",
    "\n",
    "drop_cols = [\"start_time\", \"end_time\", \"start_at\", \"ends_at\", \"event_id\", \"player_id\",\n",
    "             \"player_name\",\n",
    "             \"duration\", \"maps_played\", \"kpr\"]  # correlated\n",
    "drop_cols += [f\"team_id\"]\n",
    "drop_cols += target_col\n",
    "\n",
    "cat_cols = [\"event_fil\", \"ranking_fil\"]\n",
    "bin_cols = [\"is_lan\", \"is_qual\", \"is_awp\"]\n",
    "\n",
    "players[bin_cols] = players[bin_cols].astype(np.float64)\n",
    "players[target_col] = players[target_col].astype(np.float64)\n",
    "players = players.dropna()"
   ]
  },
  {
   "cell_type": "code",
   "execution_count": 23,
   "metadata": {
    "collapsed": false,
    "jupyter": {
     "outputs_hidden": false
    }
   },
   "outputs": [],
   "source": [
    "train = players[players.event_id.isin(train_events)].sample(frac=1).reset_index(drop=True)\n",
    "test = players[players.event_id.isin(test_events)].sample(frac=1).reset_index(drop=True)\n",
    "\n",
    "X_train, y_train = train.drop(drop_cols, axis=1), train[target_col].astype(np.float64)\n",
    "X_test, y_test = test.drop(drop_cols, axis=1), test[target_col].astype(np.float64)"
   ]
  },
  {
   "cell_type": "code",
   "execution_count": 24,
   "metadata": {
    "collapsed": false,
    "jupyter": {
     "outputs_hidden": false
    }
   },
   "outputs": [
    {
     "data": {
      "text/plain": [
       "(30277, 20)"
      ]
     },
     "execution_count": 24,
     "metadata": {},
     "output_type": "execute_result"
    }
   ],
   "source": [
    "len(X_train), len(X_train.columns)"
   ]
  },
  {
   "cell_type": "code",
   "execution_count": 25,
   "metadata": {
    "collapsed": false,
    "jupyter": {
     "outputs_hidden": false
    }
   },
   "outputs": [],
   "source": [
    "player_pipeline = Pipeline([\n",
    "    (\"preprocessor\", Preprocessor(cat_cols=cat_cols, bin_cols=bin_cols)),\n",
    "    (\"estimator\", Ridge(alpha=1))\n",
    "])"
   ]
  },
  {
   "cell_type": "code",
   "execution_count": 26,
   "metadata": {
    "collapsed": false,
    "jupyter": {
     "outputs_hidden": false
    }
   },
   "outputs": [],
   "source": [
    "player_pipeline.fit(X_train, y_train)\n",
    "y_preds = player_pipeline.predict(X_test)"
   ]
  },
  {
   "cell_type": "code",
   "execution_count": 27,
   "metadata": {
    "collapsed": false,
    "jupyter": {
     "outputs_hidden": false
    }
   },
   "outputs": [
    {
     "data": {
      "image/png": "[encoded data removed]",
      "text/plain": [
       "<Figure size 640x480 with 2 Axes>"
      ]
     },
     "metadata": {},
     "output_type": "display_data"
    }
   ],
   "source": [
    "p = Preprocessor(cat_cols=cat_cols, bin_cols=bin_cols)\n",
    "p.fit(X_train, y_train)\n",
    "X_train_prep = p.transform(X_train)\n",
    "\n",
    "sns.heatmap(X_train_prep.corr());"
   ]
  },
  {
   "cell_type": "code",
   "execution_count": 28,
   "metadata": {
    "collapsed": false,
    "jupyter": {
     "outputs_hidden": false
    }
   },
   "outputs": [
    {
     "data": {
      "image/png": "[encoded data removed]",
      "text/plain": [
       "<Figure size 640x480 with 1 Axes>"
      ]
     },
     "metadata": {},
     "output_type": "display_data"
    }
   ],
   "source": [
    "idx = np.argsort(player_pipeline[\"estimator\"].coef_.ravel())[:n]\n",
    "sns.barplot(x=player_pipeline[\"estimator\"].coef_.ravel()[idx],\n",
    "            y=player_pipeline[\"preprocessor\"].features.ravel()[idx]);"
   ]
  },
  {
   "cell_type": "code",
   "execution_count": 29,
   "metadata": {
    "collapsed": false,
    "jupyter": {
     "outputs_hidden": false
    }
   },
   "outputs": [
    {
     "data": {
      "image/png": "[encoded data removed]",
      "text/plain": [
       "<Figure size 640x480 with 1 Axes>"
      ]
     },
     "metadata": {},
     "output_type": "display_data"
    }
   ],
   "source": [
    "idx = np.argsort(player_pipeline[\"estimator\"].coef_.ravel())[::-1][:n]\n",
    "sns.barplot(x=player_pipeline[\"estimator\"].coef_.ravel()[idx],\n",
    "            y=player_pipeline[\"preprocessor\"].features.ravel()[idx]);"
   ]
  },
  {
   "cell_type": "markdown",
   "metadata": {
    "collapsed": false,
    "jupyter": {
     "outputs_hidden": false
    }
   },
   "source": [
    "Обычная регрессия выдавала взрывные коэффициенты на фильтры."
   ]
  },
  {
   "cell_type": "markdown",
   "metadata": {
    "collapsed": false,
    "jupyter": {
     "outputs_hidden": false
    }
   },
   "source": [
    "По реальным поинтам:"
   ]
  },
  {
   "cell_type": "code",
   "execution_count": 30,
   "metadata": {
    "collapsed": false,
    "jupyter": {
     "outputs_hidden": false
    }
   },
   "outputs": [
    {
     "data": {
      "text/html": [
       "<div>\n",
       "<style scoped>\n",
       "    .dataframe tbody tr th:only-of-type {\n",
       "        vertical-align: middle;\n",
       "    }\n",
       "\n",
       "    .dataframe tbody tr th {\n",
       "        vertical-align: top;\n",
       "    }\n",
       "\n",
       "    .dataframe thead th {\n",
       "        text-align: right;\n",
       "    }\n",
       "</style>\n",
       "<table border=\"1\" class=\"dataframe\">\n",
       "  <thead>\n",
       "    <tr style=\"text-align: right;\">\n",
       "      <th></th>\n",
       "      <th>team_id</th>\n",
       "      <th>player_name</th>\n",
       "      <th>pts_target</th>\n",
       "      <th>pred_pts</th>\n",
       "    </tr>\n",
       "    <tr>\n",
       "      <th>player_id</th>\n",
       "      <th></th>\n",
       "      <th></th>\n",
       "      <th></th>\n",
       "      <th></th>\n",
       "    </tr>\n",
       "  </thead>\n",
       "  <tbody>\n",
       "    <tr>\n",
       "      <th>21167</th>\n",
       "      <td>7020</td>\n",
       "      <td>donk</td>\n",
       "      <td>16.750000</td>\n",
       "      <td>25.015222</td>\n",
       "    </tr>\n",
       "    <tr>\n",
       "      <th>19230</th>\n",
       "      <td>5995</td>\n",
       "      <td>m0nesy</td>\n",
       "      <td>15.000000</td>\n",
       "      <td>16.385675</td>\n",
       "    </tr>\n",
       "    <tr>\n",
       "      <th>18072</th>\n",
       "      <td>4494</td>\n",
       "      <td>torzsi</td>\n",
       "      <td>13.000000</td>\n",
       "      <td>9.144721</td>\n",
       "    </tr>\n",
       "    <tr>\n",
       "      <th>13666</th>\n",
       "      <td>4494</td>\n",
       "      <td>brollan</td>\n",
       "      <td>11.750000</td>\n",
       "      <td>13.600053</td>\n",
       "    </tr>\n",
       "    <tr>\n",
       "      <th>18850</th>\n",
       "      <td>4494</td>\n",
       "      <td>jimpphat</td>\n",
       "      <td>11.000000</td>\n",
       "      <td>11.831627</td>\n",
       "    </tr>\n",
       "    <tr>\n",
       "      <th>16920</th>\n",
       "      <td>7020</td>\n",
       "      <td>sh1ro</td>\n",
       "      <td>11.000000</td>\n",
       "      <td>20.422062</td>\n",
       "    </tr>\n",
       "    <tr>\n",
       "      <th>16555</th>\n",
       "      <td>5752</td>\n",
       "      <td>ax1le</td>\n",
       "      <td>10.200000</td>\n",
       "      <td>17.410444</td>\n",
       "    </tr>\n",
       "    <tr>\n",
       "      <th>19206</th>\n",
       "      <td>4608</td>\n",
       "      <td>jl</td>\n",
       "      <td>9.500000</td>\n",
       "      <td>12.791096</td>\n",
       "    </tr>\n",
       "    <tr>\n",
       "      <th>7938</th>\n",
       "      <td>11251</td>\n",
       "      <td>xantares</td>\n",
       "      <td>9.200000</td>\n",
       "      <td>12.639750</td>\n",
       "    </tr>\n",
       "    <tr>\n",
       "      <th>16693</th>\n",
       "      <td>9565</td>\n",
       "      <td>flamez</td>\n",
       "      <td>7.666667</td>\n",
       "      <td>9.278757</td>\n",
       "    </tr>\n",
       "  </tbody>\n",
       "</table>\n",
       "</div>"
      ],
      "text/plain": [
       "           team_id player_name  pts_target   pred_pts\n",
       "player_id                                            \n",
       "21167         7020        donk   16.750000  25.015222\n",
       "19230         5995      m0nesy   15.000000  16.385675\n",
       "18072         4494      torzsi   13.000000   9.144721\n",
       "13666         4494     brollan   11.750000  13.600053\n",
       "18850         4494    jimpphat   11.000000  11.831627\n",
       "16920         7020       sh1ro   11.000000  20.422062\n",
       "16555         5752       ax1le   10.200000  17.410444\n",
       "19206         4608          jl    9.500000  12.791096\n",
       "7938         11251    xantares    9.200000  12.639750\n",
       "16693         9565      flamez    7.666667   9.278757"
      ]
     },
     "execution_count": 30,
     "metadata": {},
     "output_type": "execute_result"
    }
   ],
   "source": [
    "final_player = test[[\"player_id\", \"team_id\", \"player_name\"]]\n",
    "final_player[[\"player_id\", \"team_id\"]] = final_player[[\"player_id\", \"team_id\"]].astype(np.int32)\n",
    "final_player[\"pts_target\"] = y_test\n",
    "final_player[\"pred_pts\"] = y_preds\n",
    "final_player = final_player.groupby([\"player_id\"]).max()\n",
    "final_player = final_player.sort_values([\"pts_target\"], ascending=False)\n",
    "final_player.head(10)"
   ]
  },
  {
   "cell_type": "markdown",
   "metadata": {
    "collapsed": false,
    "jupyter": {
     "outputs_hidden": false
    }
   },
   "source": [
    "По предсказанным поинтам:"
   ]
  },
  {
   "cell_type": "code",
   "execution_count": 31,
   "metadata": {
    "collapsed": false,
    "jupyter": {
     "outputs_hidden": false
    }
   },
   "outputs": [
    {
     "data": {
      "text/html": [
       "<div>\n",
       "<style scoped>\n",
       "    .dataframe tbody tr th:only-of-type {\n",
       "        vertical-align: middle;\n",
       "    }\n",
       "\n",
       "    .dataframe tbody tr th {\n",
       "        vertical-align: top;\n",
       "    }\n",
       "\n",
       "    .dataframe thead th {\n",
       "        text-align: right;\n",
       "    }\n",
       "</style>\n",
       "<table border=\"1\" class=\"dataframe\">\n",
       "  <thead>\n",
       "    <tr style=\"text-align: right;\">\n",
       "      <th></th>\n",
       "      <th>team_id</th>\n",
       "      <th>player_name</th>\n",
       "      <th>pts_target</th>\n",
       "      <th>pred_pts</th>\n",
       "    </tr>\n",
       "    <tr>\n",
       "      <th>player_id</th>\n",
       "      <th></th>\n",
       "      <th></th>\n",
       "      <th></th>\n",
       "      <th></th>\n",
       "    </tr>\n",
       "  </thead>\n",
       "  <tbody>\n",
       "    <tr>\n",
       "      <th>21167</th>\n",
       "      <td>7020</td>\n",
       "      <td>donk</td>\n",
       "      <td>16.750000</td>\n",
       "      <td>25.015222</td>\n",
       "    </tr>\n",
       "    <tr>\n",
       "      <th>16920</th>\n",
       "      <td>7020</td>\n",
       "      <td>sh1ro</td>\n",
       "      <td>11.000000</td>\n",
       "      <td>20.422062</td>\n",
       "    </tr>\n",
       "    <tr>\n",
       "      <th>8738</th>\n",
       "      <td>5005</td>\n",
       "      <td>elige</td>\n",
       "      <td>0.000000</td>\n",
       "      <td>19.643169</td>\n",
       "    </tr>\n",
       "    <tr>\n",
       "      <th>13776</th>\n",
       "      <td>5378</td>\n",
       "      <td>jame</td>\n",
       "      <td>7.200000</td>\n",
       "      <td>17.462369</td>\n",
       "    </tr>\n",
       "    <tr>\n",
       "      <th>16555</th>\n",
       "      <td>5752</td>\n",
       "      <td>ax1le</td>\n",
       "      <td>10.200000</td>\n",
       "      <td>17.410444</td>\n",
       "    </tr>\n",
       "    <tr>\n",
       "      <th>19230</th>\n",
       "      <td>5995</td>\n",
       "      <td>m0nesy</td>\n",
       "      <td>15.000000</td>\n",
       "      <td>16.385675</td>\n",
       "    </tr>\n",
       "    <tr>\n",
       "      <th>16947</th>\n",
       "      <td>5752</td>\n",
       "      <td>perfecto</td>\n",
       "      <td>3.400000</td>\n",
       "      <td>15.444337</td>\n",
       "    </tr>\n",
       "    <tr>\n",
       "      <th>3972</th>\n",
       "      <td>5995</td>\n",
       "      <td>hunter</td>\n",
       "      <td>5.285714</td>\n",
       "      <td>15.416477</td>\n",
       "    </tr>\n",
       "    <tr>\n",
       "      <th>11893</th>\n",
       "      <td>9565</td>\n",
       "      <td>zywoo</td>\n",
       "      <td>6.166667</td>\n",
       "      <td>15.204753</td>\n",
       "    </tr>\n",
       "    <tr>\n",
       "      <th>20423</th>\n",
       "      <td>7020</td>\n",
       "      <td>zont1x</td>\n",
       "      <td>4.500000</td>\n",
       "      <td>13.613571</td>\n",
       "    </tr>\n",
       "  </tbody>\n",
       "</table>\n",
       "</div>"
      ],
      "text/plain": [
       "           team_id player_name  pts_target   pred_pts\n",
       "player_id                                            \n",
       "21167         7020        donk   16.750000  25.015222\n",
       "16920         7020       sh1ro   11.000000  20.422062\n",
       "8738          5005       elige    0.000000  19.643169\n",
       "13776         5378        jame    7.200000  17.462369\n",
       "16555         5752       ax1le   10.200000  17.410444\n",
       "19230         5995      m0nesy   15.000000  16.385675\n",
       "16947         5752    perfecto    3.400000  15.444337\n",
       "3972          5995      hunter    5.285714  15.416477\n",
       "11893         9565       zywoo    6.166667  15.204753\n",
       "20423         7020      zont1x    4.500000  13.613571"
      ]
     },
     "execution_count": 31,
     "metadata": {},
     "output_type": "execute_result"
    }
   ],
   "source": [
    "final_player.sort_values([\"pred_pts\"], ascending=False).head(10)"
   ]
  },
  {
   "cell_type": "markdown",
   "metadata": {
    "collapsed": false,
    "jupyter": {
     "outputs_hidden": false
    }
   },
   "source": [
    "## 3. Results"
   ]
  },
  {
   "cell_type": "markdown",
   "metadata": {
    "collapsed": false,
    "jupyter": {
     "outputs_hidden": false
    }
   },
   "source": [
    "По реальному таргету:"
   ]
  },
  {
   "cell_type": "code",
   "execution_count": 32,
   "metadata": {
    "collapsed": false,
    "jupyter": {
     "outputs_hidden": false
    }
   },
   "outputs": [
    {
     "data": {
      "text/html": [
       "<div>\n",
       "<style scoped>\n",
       "    .dataframe tbody tr th:only-of-type {\n",
       "        vertical-align: middle;\n",
       "    }\n",
       "\n",
       "    .dataframe tbody tr th {\n",
       "        vertical-align: top;\n",
       "    }\n",
       "\n",
       "    .dataframe thead th {\n",
       "        text-align: right;\n",
       "    }\n",
       "</style>\n",
       "<table border=\"1\" class=\"dataframe\">\n",
       "  <thead>\n",
       "    <tr style=\"text-align: right;\">\n",
       "      <th></th>\n",
       "      <th>target</th>\n",
       "      <th>pred_target</th>\n",
       "      <th>team_name</th>\n",
       "      <th>player_name</th>\n",
       "    </tr>\n",
       "    <tr>\n",
       "      <th>player_id</th>\n",
       "      <th></th>\n",
       "      <th></th>\n",
       "      <th></th>\n",
       "      <th></th>\n",
       "    </tr>\n",
       "  </thead>\n",
       "  <tbody>\n",
       "    <tr>\n",
       "      <th>21167</th>\n",
       "      <td>20.500000</td>\n",
       "      <td>30.873519</td>\n",
       "      <td>spirit</td>\n",
       "      <td>donk</td>\n",
       "    </tr>\n",
       "    <tr>\n",
       "      <th>19230</th>\n",
       "      <td>17.142857</td>\n",
       "      <td>19.767547</td>\n",
       "      <td>g2</td>\n",
       "      <td>m0nesy</td>\n",
       "    </tr>\n",
       "    <tr>\n",
       "      <th>18072</th>\n",
       "      <td>16.750000</td>\n",
       "      <td>13.429227</td>\n",
       "      <td>mouz</td>\n",
       "      <td>torzsi</td>\n",
       "    </tr>\n",
       "    <tr>\n",
       "      <th>13666</th>\n",
       "      <td>15.500000</td>\n",
       "      <td>17.884559</td>\n",
       "      <td>mouz</td>\n",
       "      <td>brollan</td>\n",
       "    </tr>\n",
       "    <tr>\n",
       "      <th>18850</th>\n",
       "      <td>14.750000</td>\n",
       "      <td>16.116133</td>\n",
       "      <td>mouz</td>\n",
       "      <td>jimpphat</td>\n",
       "    </tr>\n",
       "    <tr>\n",
       "      <th>16920</th>\n",
       "      <td>14.750000</td>\n",
       "      <td>26.280360</td>\n",
       "      <td>spirit</td>\n",
       "      <td>sh1ro</td>\n",
       "    </tr>\n",
       "    <tr>\n",
       "      <th>19206</th>\n",
       "      <td>13.250000</td>\n",
       "      <td>15.907385</td>\n",
       "      <td>natus-vincere</td>\n",
       "      <td>jl</td>\n",
       "    </tr>\n",
       "    <tr>\n",
       "      <th>16555</th>\n",
       "      <td>12.600000</td>\n",
       "      <td>19.029972</td>\n",
       "      <td>cloud9</td>\n",
       "      <td>ax1le</td>\n",
       "    </tr>\n",
       "    <tr>\n",
       "      <th>7938</th>\n",
       "      <td>11.600000</td>\n",
       "      <td>14.674921</td>\n",
       "      <td>eternal-fire</td>\n",
       "      <td>xantares</td>\n",
       "    </tr>\n",
       "    <tr>\n",
       "      <th>16693</th>\n",
       "      <td>10.666667</td>\n",
       "      <td>13.452914</td>\n",
       "      <td>vitality</td>\n",
       "      <td>flamez</td>\n",
       "    </tr>\n",
       "  </tbody>\n",
       "</table>\n",
       "</div>"
      ],
      "text/plain": [
       "              target  pred_target      team_name player_name\n",
       "player_id                                                   \n",
       "21167      20.500000    30.873519         spirit        donk\n",
       "19230      17.142857    19.767547             g2      m0nesy\n",
       "18072      16.750000    13.429227           mouz      torzsi\n",
       "13666      15.500000    17.884559           mouz     brollan\n",
       "18850      14.750000    16.116133           mouz    jimpphat\n",
       "16920      14.750000    26.280360         spirit       sh1ro\n",
       "19206      13.250000    15.907385  natus-vincere          jl\n",
       "16555      12.600000    19.029972         cloud9       ax1le\n",
       "7938       11.600000    14.674921   eternal-fire    xantares\n",
       "16693      10.666667    13.452914       vitality      flamez"
      ]
     },
     "execution_count": 32,
     "metadata": {},
     "output_type": "execute_result"
    }
   ],
   "source": [
    "final = final_player.join(final_team, on=\"team_id\")\n",
    "final[\"target\"] = get_target(final.pts_target, final.wr_target)\n",
    "final[\"pred_target\"] = get_target(final.pred_pts, final.pred_wr)\n",
    "final = final[[\"target\", \"pred_target\", \"team_name\", \"player_name\"]]\n",
    "final = final.sort_values([\"target\"], ascending=False)\n",
    "final.head(10)"
   ]
  },
  {
   "cell_type": "markdown",
   "metadata": {
    "collapsed": false,
    "jupyter": {
     "outputs_hidden": false
    }
   },
   "source": [
    "По предсказанному таргету:"
   ]
  },
  {
   "cell_type": "code",
   "execution_count": 33,
   "metadata": {
    "collapsed": false,
    "jupyter": {
     "outputs_hidden": false
    }
   },
   "outputs": [
    {
     "data": {
      "text/html": [
       "<div>\n",
       "<style scoped>\n",
       "    .dataframe tbody tr th:only-of-type {\n",
       "        vertical-align: middle;\n",
       "    }\n",
       "\n",
       "    .dataframe tbody tr th {\n",
       "        vertical-align: top;\n",
       "    }\n",
       "\n",
       "    .dataframe thead th {\n",
       "        text-align: right;\n",
       "    }\n",
       "</style>\n",
       "<table border=\"1\" class=\"dataframe\">\n",
       "  <thead>\n",
       "    <tr style=\"text-align: right;\">\n",
       "      <th></th>\n",
       "      <th>target</th>\n",
       "      <th>pred_target</th>\n",
       "      <th>team_name</th>\n",
       "      <th>player_name</th>\n",
       "    </tr>\n",
       "    <tr>\n",
       "      <th>player_id</th>\n",
       "      <th></th>\n",
       "      <th></th>\n",
       "      <th></th>\n",
       "      <th></th>\n",
       "    </tr>\n",
       "  </thead>\n",
       "  <tbody>\n",
       "    <tr>\n",
       "      <th>21167</th>\n",
       "      <td>20.500000</td>\n",
       "      <td>30.873519</td>\n",
       "      <td>spirit</td>\n",
       "      <td>donk</td>\n",
       "    </tr>\n",
       "    <tr>\n",
       "      <th>16920</th>\n",
       "      <td>14.750000</td>\n",
       "      <td>26.280360</td>\n",
       "      <td>spirit</td>\n",
       "      <td>sh1ro</td>\n",
       "    </tr>\n",
       "    <tr>\n",
       "      <th>8738</th>\n",
       "      <td>0.600000</td>\n",
       "      <td>22.413335</td>\n",
       "      <td>complexity</td>\n",
       "      <td>elige</td>\n",
       "    </tr>\n",
       "    <tr>\n",
       "      <th>19230</th>\n",
       "      <td>17.142857</td>\n",
       "      <td>19.767547</td>\n",
       "      <td>g2</td>\n",
       "      <td>m0nesy</td>\n",
       "    </tr>\n",
       "    <tr>\n",
       "      <th>20423</th>\n",
       "      <td>8.250000</td>\n",
       "      <td>19.471868</td>\n",
       "      <td>spirit</td>\n",
       "      <td>zont1x</td>\n",
       "    </tr>\n",
       "    <tr>\n",
       "      <th>11893</th>\n",
       "      <td>9.166667</td>\n",
       "      <td>19.378911</td>\n",
       "      <td>vitality</td>\n",
       "      <td>zywoo</td>\n",
       "    </tr>\n",
       "    <tr>\n",
       "      <th>16555</th>\n",
       "      <td>12.600000</td>\n",
       "      <td>19.029972</td>\n",
       "      <td>cloud9</td>\n",
       "      <td>ax1le</td>\n",
       "    </tr>\n",
       "    <tr>\n",
       "      <th>3972</th>\n",
       "      <td>7.428571</td>\n",
       "      <td>18.798349</td>\n",
       "      <td>g2</td>\n",
       "      <td>hunter</td>\n",
       "    </tr>\n",
       "    <tr>\n",
       "      <th>18317</th>\n",
       "      <td>8.000000</td>\n",
       "      <td>18.187617</td>\n",
       "      <td>spirit</td>\n",
       "      <td>magixx</td>\n",
       "    </tr>\n",
       "    <tr>\n",
       "      <th>13666</th>\n",
       "      <td>15.500000</td>\n",
       "      <td>17.884559</td>\n",
       "      <td>mouz</td>\n",
       "      <td>brollan</td>\n",
       "    </tr>\n",
       "  </tbody>\n",
       "</table>\n",
       "</div>"
      ],
      "text/plain": [
       "              target  pred_target   team_name player_name\n",
       "player_id                                                \n",
       "21167      20.500000    30.873519      spirit        donk\n",
       "16920      14.750000    26.280360      spirit       sh1ro\n",
       "8738        0.600000    22.413335  complexity       elige\n",
       "19230      17.142857    19.767547          g2      m0nesy\n",
       "20423       8.250000    19.471868      spirit      zont1x\n",
       "11893       9.166667    19.378911    vitality       zywoo\n",
       "16555      12.600000    19.029972      cloud9       ax1le\n",
       "3972        7.428571    18.798349          g2      hunter\n",
       "18317       8.000000    18.187617      spirit      magixx\n",
       "13666      15.500000    17.884559        mouz     brollan"
      ]
     },
     "execution_count": 33,
     "metadata": {},
     "output_type": "execute_result"
    }
   ],
   "source": [
    "final = final.sort_values([\"pred_target\"], ascending=False)\n",
    "final.head(10)"
   ]
  },
  {
   "cell_type": "code",
   "execution_count": 34,
   "metadata": {},
   "outputs": [
    {
     "data": {
      "text/html": [
       "<div>\n",
       "<style scoped>\n",
       "    .dataframe tbody tr th:only-of-type {\n",
       "        vertical-align: middle;\n",
       "    }\n",
       "\n",
       "    .dataframe tbody tr th {\n",
       "        vertical-align: top;\n",
       "    }\n",
       "\n",
       "    .dataframe thead th {\n",
       "        text-align: right;\n",
       "    }\n",
       "</style>\n",
       "<table border=\"1\" class=\"dataframe\">\n",
       "  <thead>\n",
       "    <tr style=\"text-align: right;\">\n",
       "      <th></th>\n",
       "      <th>mse</th>\n",
       "      <th>mae</th>\n",
       "      <th>ndcg</th>\n",
       "    </tr>\n",
       "  </thead>\n",
       "  <tbody>\n",
       "    <tr>\n",
       "      <th>0</th>\n",
       "      <td>20.942526</td>\n",
       "      <td>3.796961</td>\n",
       "      <td>0.886412</td>\n",
       "    </tr>\n",
       "  </tbody>\n",
       "</table>\n",
       "</div>"
      ],
      "text/plain": [
       "         mse       mae      ndcg\n",
       "0  20.942526  3.796961  0.886412"
      ]
     },
     "execution_count": 34,
     "metadata": {},
     "output_type": "execute_result"
    }
   ],
   "source": [
    "from utils import validate\n",
    "\n",
    "validate(y_test.values, y_preds)"
   ]
  },
  {
   "cell_type": "code",
   "execution_count": null,
   "metadata": {},
   "outputs": [],
   "source": []
  }
 ],
 "metadata": {
  "kernelspec": {
   "display_name": "Python 3 (ipykernel)",
   "language": "python",
   "name": "python3"
  },
  "language_info": {
   "codemirror_mode": {
    "name": "ipython",
    "version": 3
   },
   "file_extension": ".py",
   "mimetype": "text/x-python",
   "name": "python",
   "nbconvert_exporter": "python",
   "pygments_lexer": "ipython3",
   "version": "3.10.12"
  }
 },
 "nbformat": 4,
 "nbformat_minor": 4
}
